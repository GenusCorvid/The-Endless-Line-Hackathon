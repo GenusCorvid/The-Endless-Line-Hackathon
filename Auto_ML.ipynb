{
 "cells": [
  {
   "cell_type": "code",
   "execution_count": 1,
   "metadata": {},
   "outputs": [],
   "source": [
    "#Library \n",
    "import pandas as pd\n",
    "import numpy as np\n",
    "import xgboost as xgb\n",
    "from sklearn.model_selection import train_test_split\n",
    "from sklearn.metrics import mean_absolute_error, root_mean_squared_error, mean_squared_error\n",
    "import optuna\n",
    "from sklearn.datasets import make_regression\n",
    "from tqdm import tqdm\n",
    "import math\n",
    "\n"
   ]
  },
  {
   "cell_type": "code",
   "execution_count": 2,
   "metadata": {},
   "outputs": [
    {
     "name": "stdout",
     "output_type": "stream",
     "text": [
      "Looking in links: http://h2o-release.s3.amazonaws.com/h2o/latest_stable_Py.html\n",
      "Requirement already satisfied: h2o in c:\\users\\fatin\\appdata\\local\\programs\\python\\python312\\lib\\site-packages (3.46.0.6)\n",
      "Requirement already satisfied: requests in c:\\users\\fatin\\appdata\\local\\programs\\python\\python312\\lib\\site-packages (from h2o) (2.32.3)\n",
      "Requirement already satisfied: tabulate in c:\\users\\fatin\\appdata\\local\\programs\\python\\python312\\lib\\site-packages (from h2o) (0.9.0)\n",
      "Requirement already satisfied: charset-normalizer<4,>=2 in c:\\users\\fatin\\appdata\\local\\programs\\python\\python312\\lib\\site-packages (from requests->h2o) (3.3.2)\n",
      "Requirement already satisfied: idna<4,>=2.5 in c:\\users\\fatin\\appdata\\local\\programs\\python\\python312\\lib\\site-packages (from requests->h2o) (3.8)\n",
      "Requirement already satisfied: urllib3<3,>=1.21.1 in c:\\users\\fatin\\appdata\\local\\programs\\python\\python312\\lib\\site-packages (from requests->h2o) (2.2.2)\n",
      "Requirement already satisfied: certifi>=2017.4.17 in c:\\users\\fatin\\appdata\\local\\programs\\python\\python312\\lib\\site-packages (from requests->h2o) (2024.8.30)\n"
     ]
    },
    {
     "name": "stderr",
     "output_type": "stream",
     "text": [
      "\n",
      "[notice] A new release of pip is available: 24.2 -> 25.0.1\n",
      "[notice] To update, run: python.exe -m pip install --upgrade pip\n"
     ]
    }
   ],
   "source": [
    "! pip install -f http://h2o-release.s3.amazonaws.com/h2o/latest_stable_Py.html h2o\n"
   ]
  },
  {
   "cell_type": "code",
   "execution_count": 6,
   "metadata": {},
   "outputs": [
    {
     "name": "stdout",
     "output_type": "stream",
     "text": [
      "Checking whether there is an H2O instance running at http://localhost:54321. connected.\n",
      "Warning: Your H2O cluster version is (3 months and 11 days) old.  There may be a newer version available.\n",
      "Please download and install the latest version from: https://h2o-release.s3.amazonaws.com/h2o/latest_stable.html\n"
     ]
    },
    {
     "data": {
      "text/html": [
       "\n",
       "<style>\n",
       "\n",
       "#h2o-table-2.h2o-container {\n",
       "  overflow-x: auto;\n",
       "}\n",
       "#h2o-table-2 .h2o-table {\n",
       "  /* width: 100%; */\n",
       "  margin-top: 1em;\n",
       "  margin-bottom: 1em;\n",
       "}\n",
       "#h2o-table-2 .h2o-table caption {\n",
       "  white-space: nowrap;\n",
       "  caption-side: top;\n",
       "  text-align: left;\n",
       "  /* margin-left: 1em; */\n",
       "  margin: 0;\n",
       "  font-size: larger;\n",
       "}\n",
       "#h2o-table-2 .h2o-table thead {\n",
       "  white-space: nowrap; \n",
       "  position: sticky;\n",
       "  top: 0;\n",
       "  box-shadow: 0 -1px inset;\n",
       "}\n",
       "#h2o-table-2 .h2o-table tbody {\n",
       "  overflow: auto;\n",
       "}\n",
       "#h2o-table-2 .h2o-table th,\n",
       "#h2o-table-2 .h2o-table td {\n",
       "  text-align: right;\n",
       "  /* border: 1px solid; */\n",
       "}\n",
       "#h2o-table-2 .h2o-table tr:nth-child(even) {\n",
       "  /* background: #F5F5F5 */\n",
       "}\n",
       "\n",
       "</style>      \n",
       "<div id=\"h2o-table-2\" class=\"h2o-container\">\n",
       "  <table class=\"h2o-table\">\n",
       "    <caption></caption>\n",
       "    <thead></thead>\n",
       "    <tbody><tr><td>H2O_cluster_uptime:</td>\n",
       "<td>8 mins 11 secs</td></tr>\n",
       "<tr><td>H2O_cluster_timezone:</td>\n",
       "<td>Europe/Paris</td></tr>\n",
       "<tr><td>H2O_data_parsing_timezone:</td>\n",
       "<td>UTC</td></tr>\n",
       "<tr><td>H2O_cluster_version:</td>\n",
       "<td>3.46.0.6</td></tr>\n",
       "<tr><td>H2O_cluster_version_age:</td>\n",
       "<td>3 months and 11 days</td></tr>\n",
       "<tr><td>H2O_cluster_name:</td>\n",
       "<td>H2O_from_python_Admin_m920gj</td></tr>\n",
       "<tr><td>H2O_cluster_total_nodes:</td>\n",
       "<td>1</td></tr>\n",
       "<tr><td>H2O_cluster_free_memory:</td>\n",
       "<td>2.864 Gb</td></tr>\n",
       "<tr><td>H2O_cluster_total_cores:</td>\n",
       "<td>16</td></tr>\n",
       "<tr><td>H2O_cluster_allowed_cores:</td>\n",
       "<td>16</td></tr>\n",
       "<tr><td>H2O_cluster_status:</td>\n",
       "<td>locked, healthy</td></tr>\n",
       "<tr><td>H2O_connection_url:</td>\n",
       "<td>http://localhost:54321</td></tr>\n",
       "<tr><td>H2O_connection_proxy:</td>\n",
       "<td>{\"http\": null, \"https\": null}</td></tr>\n",
       "<tr><td>H2O_internal_security:</td>\n",
       "<td>False</td></tr>\n",
       "<tr><td>Python_version:</td>\n",
       "<td>3.12.5 final</td></tr></tbody>\n",
       "  </table>\n",
       "</div>\n"
      ],
      "text/plain": [
       "--------------------------  -----------------------------\n",
       "H2O_cluster_uptime:         8 mins 11 secs\n",
       "H2O_cluster_timezone:       Europe/Paris\n",
       "H2O_data_parsing_timezone:  UTC\n",
       "H2O_cluster_version:        3.46.0.6\n",
       "H2O_cluster_version_age:    3 months and 11 days\n",
       "H2O_cluster_name:           H2O_from_python_Admin_m920gj\n",
       "H2O_cluster_total_nodes:    1\n",
       "H2O_cluster_free_memory:    2.864 Gb\n",
       "H2O_cluster_total_cores:    16\n",
       "H2O_cluster_allowed_cores:  16\n",
       "H2O_cluster_status:         locked, healthy\n",
       "H2O_connection_url:         http://localhost:54321\n",
       "H2O_connection_proxy:       {\"http\": null, \"https\": null}\n",
       "H2O_internal_security:      False\n",
       "Python_version:             3.12.5 final\n",
       "--------------------------  -----------------------------"
      ]
     },
     "metadata": {},
     "output_type": "display_data"
    },
    {
     "name": "stdout",
     "output_type": "stream",
     "text": [
      "Parse progress: |████████████████████████████████████████████████████████████████| (done) 100%\n"
     ]
    }
   ],
   "source": [
    "h2o.init()\n",
    "hf = h2o.H2OFrame(df)\n"
   ]
  },
  {
   "cell_type": "code",
   "execution_count": 7,
   "metadata": {},
   "outputs": [
    {
     "name": "stdout",
     "output_type": "stream",
     "text": [
      "Checking whether there is an H2O instance running at http://localhost:54321. connected.\n",
      "Warning: Your H2O cluster version is (3 months and 11 days) old.  There may be a newer version available.\n",
      "Please download and install the latest version from: https://h2o-release.s3.amazonaws.com/h2o/latest_stable.html\n"
     ]
    },
    {
     "data": {
      "text/html": [
       "\n",
       "<style>\n",
       "\n",
       "#h2o-table-3.h2o-container {\n",
       "  overflow-x: auto;\n",
       "}\n",
       "#h2o-table-3 .h2o-table {\n",
       "  /* width: 100%; */\n",
       "  margin-top: 1em;\n",
       "  margin-bottom: 1em;\n",
       "}\n",
       "#h2o-table-3 .h2o-table caption {\n",
       "  white-space: nowrap;\n",
       "  caption-side: top;\n",
       "  text-align: left;\n",
       "  /* margin-left: 1em; */\n",
       "  margin: 0;\n",
       "  font-size: larger;\n",
       "}\n",
       "#h2o-table-3 .h2o-table thead {\n",
       "  white-space: nowrap; \n",
       "  position: sticky;\n",
       "  top: 0;\n",
       "  box-shadow: 0 -1px inset;\n",
       "}\n",
       "#h2o-table-3 .h2o-table tbody {\n",
       "  overflow: auto;\n",
       "}\n",
       "#h2o-table-3 .h2o-table th,\n",
       "#h2o-table-3 .h2o-table td {\n",
       "  text-align: right;\n",
       "  /* border: 1px solid; */\n",
       "}\n",
       "#h2o-table-3 .h2o-table tr:nth-child(even) {\n",
       "  /* background: #F5F5F5 */\n",
       "}\n",
       "\n",
       "</style>      \n",
       "<div id=\"h2o-table-3\" class=\"h2o-container\">\n",
       "  <table class=\"h2o-table\">\n",
       "    <caption></caption>\n",
       "    <thead></thead>\n",
       "    <tbody><tr><td>H2O_cluster_uptime:</td>\n",
       "<td>16 mins 51 secs</td></tr>\n",
       "<tr><td>H2O_cluster_timezone:</td>\n",
       "<td>Europe/Paris</td></tr>\n",
       "<tr><td>H2O_data_parsing_timezone:</td>\n",
       "<td>UTC</td></tr>\n",
       "<tr><td>H2O_cluster_version:</td>\n",
       "<td>3.46.0.6</td></tr>\n",
       "<tr><td>H2O_cluster_version_age:</td>\n",
       "<td>3 months and 11 days</td></tr>\n",
       "<tr><td>H2O_cluster_name:</td>\n",
       "<td>H2O_from_python_Admin_m920gj</td></tr>\n",
       "<tr><td>H2O_cluster_total_nodes:</td>\n",
       "<td>1</td></tr>\n",
       "<tr><td>H2O_cluster_free_memory:</td>\n",
       "<td>2.867 Gb</td></tr>\n",
       "<tr><td>H2O_cluster_total_cores:</td>\n",
       "<td>16</td></tr>\n",
       "<tr><td>H2O_cluster_allowed_cores:</td>\n",
       "<td>16</td></tr>\n",
       "<tr><td>H2O_cluster_status:</td>\n",
       "<td>locked, healthy</td></tr>\n",
       "<tr><td>H2O_connection_url:</td>\n",
       "<td>http://localhost:54321</td></tr>\n",
       "<tr><td>H2O_connection_proxy:</td>\n",
       "<td>{\"http\": null, \"https\": null}</td></tr>\n",
       "<tr><td>H2O_internal_security:</td>\n",
       "<td>False</td></tr>\n",
       "<tr><td>Python_version:</td>\n",
       "<td>3.12.5 final</td></tr></tbody>\n",
       "  </table>\n",
       "</div>\n"
      ],
      "text/plain": [
       "--------------------------  -----------------------------\n",
       "H2O_cluster_uptime:         16 mins 51 secs\n",
       "H2O_cluster_timezone:       Europe/Paris\n",
       "H2O_data_parsing_timezone:  UTC\n",
       "H2O_cluster_version:        3.46.0.6\n",
       "H2O_cluster_version_age:    3 months and 11 days\n",
       "H2O_cluster_name:           H2O_from_python_Admin_m920gj\n",
       "H2O_cluster_total_nodes:    1\n",
       "H2O_cluster_free_memory:    2.867 Gb\n",
       "H2O_cluster_total_cores:    16\n",
       "H2O_cluster_allowed_cores:  16\n",
       "H2O_cluster_status:         locked, healthy\n",
       "H2O_connection_url:         http://localhost:54321\n",
       "H2O_connection_proxy:       {\"http\": null, \"https\": null}\n",
       "H2O_internal_security:      False\n",
       "Python_version:             3.12.5 final\n",
       "--------------------------  -----------------------------"
      ]
     },
     "metadata": {},
     "output_type": "display_data"
    },
    {
     "name": "stdout",
     "output_type": "stream",
     "text": [
      "Parse progress: |████████████████████████████████████████████████████████████████| (done) 100%\n",
      "AutoML progress: |█\n",
      "15:26:47.994: AutoML: XGBoost is not available; skipping it.\n",
      "\n",
      "█████████████████ (cancelled)\n"
     ]
    },
    {
     "ename": "H2OJobCancelled",
     "evalue": "Job<$03017f00000132d4ffffffff$_bb35e5e7575d40408925cd374fc64c2c> was cancelled by the user.",
     "output_type": "error",
     "traceback": [
      "\u001b[1;31m---------------------------------------------------------------------------\u001b[0m",
      "\u001b[1;31mH2OJobCancelled\u001b[0m                           Traceback (most recent call last)",
      "Cell \u001b[1;32mIn[7], line 82\u001b[0m\n\u001b[0;32m     80\u001b[0m \u001b[38;5;66;03m# 12. Entraînement via H2O AutoML\u001b[39;00m\n\u001b[0;32m     81\u001b[0m aml \u001b[38;5;241m=\u001b[39m H2OAutoML(max_models\u001b[38;5;241m=\u001b[39m\u001b[38;5;241m20\u001b[39m, seed\u001b[38;5;241m=\u001b[39m\u001b[38;5;241m1234\u001b[39m, sort_metric\u001b[38;5;241m=\u001b[39m\u001b[38;5;124m'\u001b[39m\u001b[38;5;124mRMSE\u001b[39m\u001b[38;5;124m'\u001b[39m)\n\u001b[1;32m---> 82\u001b[0m \u001b[43maml\u001b[49m\u001b[38;5;241;43m.\u001b[39;49m\u001b[43mtrain\u001b[49m\u001b[43m(\u001b[49m\u001b[43mx\u001b[49m\u001b[38;5;241;43m=\u001b[39;49m\u001b[43mpredictors\u001b[49m\u001b[43m,\u001b[49m\u001b[43m \u001b[49m\u001b[43my\u001b[49m\u001b[38;5;241;43m=\u001b[39;49m\u001b[43mtarget\u001b[49m\u001b[43m,\u001b[49m\u001b[43m \u001b[49m\u001b[43mtraining_frame\u001b[49m\u001b[38;5;241;43m=\u001b[39;49m\u001b[43mtrain\u001b[49m\u001b[43m)\u001b[49m\n\u001b[0;32m     84\u001b[0m \u001b[38;5;66;03m# 13. Affichage du leaderboard pour voir les modèles testés\u001b[39;00m\n\u001b[0;32m     85\u001b[0m lb \u001b[38;5;241m=\u001b[39m aml\u001b[38;5;241m.\u001b[39mleaderboard\n",
      "File \u001b[1;32mc:\\Users\\fatin\\AppData\\Local\\Programs\\Python\\Python312\\Lib\\site-packages\\h2o\\automl\\_estimator.py:682\u001b[0m, in \u001b[0;36mH2OAutoML.train\u001b[1;34m(self, x, y, training_frame, fold_column, weights_column, validation_frame, leaderboard_frame, blending_frame)\u001b[0m\n\u001b[0;32m    680\u001b[0m poll_updates \u001b[38;5;241m=\u001b[39m ft\u001b[38;5;241m.\u001b[39mpartial(\u001b[38;5;28mself\u001b[39m\u001b[38;5;241m.\u001b[39m_poll_training_updates, verbosity\u001b[38;5;241m=\u001b[39m\u001b[38;5;28mself\u001b[39m\u001b[38;5;241m.\u001b[39m_verbosity, state\u001b[38;5;241m=\u001b[39m{})\n\u001b[0;32m    681\u001b[0m \u001b[38;5;28;01mtry\u001b[39;00m:\n\u001b[1;32m--> 682\u001b[0m     \u001b[38;5;28;43mself\u001b[39;49m\u001b[38;5;241;43m.\u001b[39;49m\u001b[43m_job\u001b[49m\u001b[38;5;241;43m.\u001b[39;49m\u001b[43mpoll\u001b[49m\u001b[43m(\u001b[49m\u001b[43mpoll_updates\u001b[49m\u001b[38;5;241;43m=\u001b[39;49m\u001b[43mpoll_updates\u001b[49m\u001b[43m)\u001b[49m\n\u001b[0;32m    683\u001b[0m \u001b[38;5;28;01mfinally\u001b[39;00m:\n\u001b[0;32m    684\u001b[0m     poll_updates(\u001b[38;5;28mself\u001b[39m\u001b[38;5;241m.\u001b[39m_job, \u001b[38;5;241m1\u001b[39m)\n",
      "File \u001b[1;32mc:\\Users\\fatin\\AppData\\Local\\Programs\\Python\\Python312\\Lib\\site-packages\\h2o\\job.py:85\u001b[0m, in \u001b[0;36mH2OJob.poll\u001b[1;34m(self, poll_updates)\u001b[0m\n\u001b[0;32m     83\u001b[0m \u001b[38;5;66;03m# check if failed... and politely print relevant message\u001b[39;00m\n\u001b[0;32m     84\u001b[0m \u001b[38;5;28;01mif\u001b[39;00m \u001b[38;5;28mself\u001b[39m\u001b[38;5;241m.\u001b[39mstatus \u001b[38;5;241m==\u001b[39m \u001b[38;5;124m\"\u001b[39m\u001b[38;5;124mCANCELLED\u001b[39m\u001b[38;5;124m\"\u001b[39m:\n\u001b[1;32m---> 85\u001b[0m     \u001b[38;5;28;01mraise\u001b[39;00m H2OJobCancelled(\u001b[38;5;124m\"\u001b[39m\u001b[38;5;124mJob<\u001b[39m\u001b[38;5;132;01m%s\u001b[39;00m\u001b[38;5;124m> was cancelled by the user.\u001b[39m\u001b[38;5;124m\"\u001b[39m \u001b[38;5;241m%\u001b[39m \u001b[38;5;28mself\u001b[39m\u001b[38;5;241m.\u001b[39mjob_key)\n\u001b[0;32m     86\u001b[0m \u001b[38;5;28;01mif\u001b[39;00m \u001b[38;5;28mself\u001b[39m\u001b[38;5;241m.\u001b[39mstatus \u001b[38;5;241m==\u001b[39m \u001b[38;5;124m\"\u001b[39m\u001b[38;5;124mFAILED\u001b[39m\u001b[38;5;124m\"\u001b[39m:\n\u001b[0;32m     87\u001b[0m     \u001b[38;5;28;01mif\u001b[39;00m (\u001b[38;5;28misinstance\u001b[39m(\u001b[38;5;28mself\u001b[39m\u001b[38;5;241m.\u001b[39mjob, \u001b[38;5;28mdict\u001b[39m)) \u001b[38;5;129;01mand\u001b[39;00m (\u001b[38;5;124m\"\u001b[39m\u001b[38;5;124mstacktrace\u001b[39m\u001b[38;5;124m\"\u001b[39m \u001b[38;5;129;01min\u001b[39;00m \u001b[38;5;28mlist\u001b[39m(\u001b[38;5;28mself\u001b[39m\u001b[38;5;241m.\u001b[39mjob)):\n",
      "\u001b[1;31mH2OJobCancelled\u001b[0m: Job<$03017f00000132d4ffffffff$_bb35e5e7575d40408925cd374fc64c2c> was cancelled by the user."
     ]
    }
   ],
   "source": [
    "# 1. Importation des librairies nécessaires\n",
    "import pandas as pd\n",
    "import numpy as np\n",
    "import h2o\n",
    "from h2o.automl import H2OAutoML\n",
    "\n",
    "# 2. Chargement des données\n",
    "# Assurez-vous que le chemin vers votre CSV est correct\n",
    "df = pd.read_csv('final_data/merged_datasets_with_events.csv', sep=',')\n",
    "\n",
    "# 3. Conversion des colonnes de date en datetime\n",
    "df['WORK_DATE'] = pd.to_datetime(df['WORK_DATE'])\n",
    "df['DEB_TIME'] = pd.to_datetime(df['DEB_TIME'])\n",
    "\n",
    "# 4. Création de nouvelles features temporelles (avant filtrage)\n",
    "df['month'] = df['WORK_DATE'].dt.month\n",
    "df['day'] = df['WORK_DATE'].dt.day\n",
    "df['weekday'] = df['WORK_DATE'].dt.dayofweek\n",
    "df['hour'] = df['DEB_TIME'].dt.hour\n",
    "df['minute'] = df['DEB_TIME'].dt.minute\n",
    "\n",
    "# 5. Filtrage de la période Covid\n",
    "# On retire les données entre le début et la fin de la période Covid\n",
    "covid_start = pd.to_datetime('2020-03-01')\n",
    "covid_stop  = pd.to_datetime('2022-01-01')\n",
    "df = df[(df['WORK_DATE'] < covid_start) | (df['WORK_DATE'] > covid_stop)]\n",
    "\n",
    "# 6. Encodage cyclique pour capturer la cyclicité des variables temporelles\n",
    "def encode_cyclic_feature(df, col, max_val):\n",
    "    \"\"\"\n",
    "    Ajoute deux colonnes (sin et cos) pour encoder une variable cyclique \n",
    "    et supprime la colonne d'origine.\n",
    "    \"\"\"\n",
    "    df[f'{col}_sin'] = np.sin(2 * np.pi * df[col] / max_val)\n",
    "    df[f'{col}_cos'] = np.cos(2 * np.pi * df[col] / max_val)\n",
    "    return df.drop(columns=[col])\n",
    "\n",
    "df = encode_cyclic_feature(df, 'month', 12)\n",
    "df = encode_cyclic_feature(df, 'day', 31)\n",
    "df = encode_cyclic_feature(df, 'weekday', 7)\n",
    "df = encode_cyclic_feature(df, 'hour', 24)\n",
    "df = encode_cyclic_feature(df, 'minute', 60)\n",
    "\n",
    "# 7. Suppression des colonnes non désirées\n",
    "# On conserve WAIT_TIME_MAX (notre cible) et les colonnes pertinentes\n",
    "colonnes_a_supprimer = [\n",
    "    'DEB_TIME_HOUR', 'NB_UNITS', 'GUEST_CARRIED', 'ADJUST_CAPACITY',\n",
    "    'NB_MAX_UNIT', 'temp', 'humidity', 'DEB_TIME', 'WORK_DATE',\n",
    "    'FIN_TIME', 'wind_speed', 'rain_1h', 'rain_3h', 'snow_1h', 'DOWNTIME'\n",
    "]\n",
    "# On supprime uniquement les colonnes existantes dans le DataFrame\n",
    "colonnes_a_supprimer = [col for col in colonnes_a_supprimer if col in df.columns]\n",
    "df = df.drop(columns=colonnes_a_supprimer)\n",
    "\n",
    "# 8. Conversion des variables catégorielles (si nécessaire)\n",
    "# Par exemple, 'weather_description', 'REF_CLOSING_DESCRIPTION', etc.\n",
    "colonnes_categorielles = ['weather_description', 'REF_CLOSING_DESCRIPTION', \n",
    "                          'ENTITY_DESCRIPTION_SHORT', 'NIGHT_SHOW_FLAG', 'PARADE_FLAG']\n",
    "for col in colonnes_categorielles:\n",
    "    if col in df.columns:\n",
    "        df[col] = df[col].astype('category')\n",
    "\n",
    "# 9. Initialisation de H2O et conversion du DataFrame Pandas en H2OFrame\n",
    "h2o.init()\n",
    "\n",
    "hf = h2o.H2OFrame(df)\n",
    "\n",
    "# Pour H2O, s'assurer que les colonnes catégorielles sont bien traitées en tant que facteurs\n",
    "for col in colonnes_categorielles:\n",
    "    if col in hf.columns:\n",
    "        hf[col] = hf[col].asfactor()\n",
    "\n",
    "# 10. Définition de la variable cible et des prédicteurs\n",
    "target = 'WAIT_TIME_MAX'\n",
    "predictors = [col for col in hf.columns if col != target]\n",
    "\n",
    "# 11. Division des données en ensembles d'entraînement et de test (par exemple 80/20)\n",
    "train, test = hf.split_frame(ratios=[0.8], seed=1234)\n",
    "\n",
    "# 12. Entraînement via H2O AutoML\n",
    "aml = H2OAutoML(max_models=20, seed=1234, sort_metric='RMSE')\n",
    "aml.train(x=predictors, y=target, training_frame=train)\n",
    "\n",
    "# 13. Affichage du leaderboard pour voir les modèles testés\n",
    "lb = aml.leaderboard\n",
    "print(lb.head(rows=lb.nrows))\n",
    "\n",
    "# 14. Évaluation du modèle leader sur l'ensemble de test\n",
    "performance = aml.leader.model_performance(test)\n",
    "print(\"RMSE sur le jeu de test :\", performance.rmse())\n",
    "print(\"MAE sur le jeu de test  :\", performance.mae())\n",
    "\n",
    "# 15. Réaliser des prédictions sur l'ensemble test (optionnel)\n",
    "predictions = aml.leader.predict(test)\n",
    "predictions.head()\n",
    "\n",
    "# 16. (Optionnel) Arrêter le cluster H2O lorsque vous avez terminé\n",
    "# h2o.shutdown(prompt=False)\n"
   ]
  },
  {
   "cell_type": "code",
   "execution_count": null,
   "metadata": {},
   "outputs": [
    {
     "name": "stdout",
     "output_type": "stream",
     "text": [
      "stackedensemble prediction progress: |███████████████████████████████████████████| (done) 100%\n"
     ]
    },
    {
     "name": "stderr",
     "output_type": "stream",
     "text": [
      "/Users/faustin/anaconda3/lib/python3.11/site-packages/h2o/frame.py:1983: H2ODependencyWarning: Converting H2O frame to pandas dataframe using single-thread.  For faster conversion using multi-thread, install polars and pyarrow and use it as pandas_df = h2o_df.as_data_frame(use_multi_thread=True)\n",
      "\n",
      "  warnings.warn(\"Converting H2O frame to pandas dataframe using single-thread.  For faster conversion using\"\n",
      "/Users/faustin/anaconda3/lib/python3.11/site-packages/h2o/frame.py:1983: H2ODependencyWarning: Converting H2O frame to pandas dataframe using single-thread.  For faster conversion using multi-thread, install polars and pyarrow and use it as pandas_df = h2o_df.as_data_frame(use_multi_thread=True)\n",
      "\n",
      "  warnings.warn(\"Converting H2O frame to pandas dataframe using single-thread.  For faster conversion using\"\n"
     ]
    },
    {
     "data": {
      "image/png": "[encoded data removed]",
      "text/plain": [
       "<Figure size 800x800 with 1 Axes>"
      ]
     },
     "metadata": {},
     "output_type": "display_data"
    },
    {
     "data": {
      "image/png": "[encoded data removed]",
      "text/plain": [
       "<Figure size 800x600 with 1 Axes>"
      ]
     },
     "metadata": {},
     "output_type": "display_data"
    },
    {
     "name": "stdout",
     "output_type": "stream",
     "text": [
      "Exemples de données (valeur réelle, prédiction et détails des variables) :\n",
      "  ENTITY_DESCRIPTION_SHORT  WAIT_TIME_MAX  CAPACITY  OPEN_TIME  UP_TIME  \\\n",
      "0              Giant Wheel             30   503.750         15        0   \n",
      "1            Haunted House              5   225.000         15       15   \n",
      "2         Spinning Coaster             40   526.250         15       15   \n",
      "3              Crazy Dance              5   250.001         15       15   \n",
      "4            Dizzy Dropper             15   213.251         15       15   \n",
      "5            Superman Ride             25   243.750         15       15   \n",
      "6           Roller Coaster             10    75.000         15       15   \n",
      "7              Bungee Jump              5   306.750         15       15   \n",
      "8             Giga Coaster             10   705.750         15        0   \n",
      "9           Flying Coaster              5   756.000         15       15   \n",
      "\n",
      "   feels_like weather_description REF_CLOSING_DESCRIPTION  ATTENDANCE  \\\n",
      "0       17.89          light rain                    Open       46804   \n",
      "1       18.73     overcast clouds                    Open       46804   \n",
      "2       18.13          light rain                    Open       46804   \n",
      "3       18.08          light rain                    Open       46804   \n",
      "4       19.81          light rain                    Open       46804   \n",
      "5       20.57       moderate rain                    Open       46804   \n",
      "6       18.61     overcast clouds                    Open       46804   \n",
      "7       18.13          light rain                    Open       46804   \n",
      "8       20.62          light rain                    Open       46804   \n",
      "9       17.05     overcast clouds                    Open       46804   \n",
      "\n",
      "   NIGHT_SHOW_FLAG  ...  month_cos   day_sin  day_cos  weekday_sin  \\\n",
      "0                0  ...       -1.0  0.201299  0.97953    -0.433884   \n",
      "1                0  ...       -1.0  0.201299  0.97953    -0.433884   \n",
      "2                0  ...       -1.0  0.201299  0.97953    -0.433884   \n",
      "3                0  ...       -1.0  0.201299  0.97953    -0.433884   \n",
      "4                0  ...       -1.0  0.201299  0.97953    -0.433884   \n",
      "5                0  ...       -1.0  0.201299  0.97953    -0.433884   \n",
      "6                0  ...       -1.0  0.201299  0.97953    -0.433884   \n",
      "7                0  ...       -1.0  0.201299  0.97953    -0.433884   \n",
      "8                0  ...       -1.0  0.201299  0.97953    -0.433884   \n",
      "9                0  ...       -1.0  0.201299  0.97953    -0.433884   \n",
      "\n",
      "   weekday_cos  hour_sin      hour_cos    minute_sin    minute_cos  Prédiction  \n",
      "0    -0.900969 -0.866025  5.000000e-01  5.665539e-16 -1.000000e+00   34.867533  \n",
      "1    -0.900969  0.707107 -7.071068e-01 -1.000000e+00 -1.836970e-16    5.721358  \n",
      "2    -0.900969 -1.000000 -1.836970e-16  1.000000e+00  2.832769e-16   26.779879  \n",
      "3    -0.900969 -0.965926  2.588190e-01  5.665539e-16 -1.000000e+00    4.462727  \n",
      "4    -0.900969 -0.707107 -7.071068e-01  5.665539e-16 -1.000000e+00   15.546671  \n",
      "5    -0.900969 -0.500000 -8.660254e-01  0.000000e+00  1.000000e+00   21.586519  \n",
      "6    -0.900969 -0.965926 -2.588190e-01  5.665539e-16 -1.000000e+00   10.346450  \n",
      "7    -0.900969 -1.000000 -1.836970e-16  5.665539e-16 -1.000000e+00   16.234085  \n",
      "8    -0.900969 -0.258819 -9.659258e-01  5.665539e-16 -1.000000e+00   11.927752  \n",
      "9    -0.900969 -0.707107  7.071068e-01  0.000000e+00  1.000000e+00    7.751518  \n",
      "\n",
      "[10 rows x 22 columns]\n"
     ]
    }
   ],
   "source": [
    "# 1. Récupérer le meilleur modèle (leader) à partir de 'aml'\n",
    "leader_model = aml.leader\n",
    "\n",
    "# 2. Réaliser des prédictions sur le jeu de test (qui est un H2OFrame)\n",
    "predictions = leader_model.predict(test)\n",
    "\n",
    "# 3. Convertir les prédictions et le jeu de test en DataFrame Pandas\n",
    "pred_df = predictions.as_data_frame()\n",
    "test_df = test.as_data_frame()\n",
    "\n",
    "# Assurez-vous que le nom de la colonne cible est bien 'WAIT_TIME_MAX'\n",
    "target = 'WAIT_TIME_MAX'\n",
    "\n",
    "# 4. Scatter plot : valeurs réelles vs prédictions\n",
    "plt.figure(figsize=(8,8))\n",
    "plt.scatter(test_df[target], pred_df['predict'], alpha=0.6, edgecolors='k')\n",
    "plt.plot([test_df[target].min(), test_df[target].max()],\n",
    "         [test_df[target].min(), test_df[target].max()],\n",
    "         color='red', lw=2, label=\"Ligne idéale\")\n",
    "plt.xlabel(\"Valeurs réelles de WAIT_TIME_MAX\")\n",
    "plt.ylabel(\"Prédictions\")\n",
    "plt.title(\"Actual vs Predicted WAIT_TIME_MAX\")\n",
    "plt.legend()\n",
    "plt.show()\n",
    "\n",
    "# 5. Graphique des résidus : différence entre valeurs réelles et prédictions\n",
    "residuals = test_df[target] - pred_df['predict']\n",
    "plt.figure(figsize=(8,6))\n",
    "plt.scatter(pred_df['predict'], residuals, alpha=0.6, edgecolors='k')\n",
    "plt.axhline(0, color='red', linestyle='--', lw=2)\n",
    "plt.xlabel(\"Prédictions\")\n",
    "plt.ylabel(\"Résidus (Réel - Prédiction)\")\n",
    "plt.title(\"Graphique des résidus\")\n",
    "plt.show()\n",
    "\n",
    "# 6. Afficher quelques exemples détaillés\n",
    "# On ajoute la prédiction au DataFrame du jeu de test\n",
    "test_df['Prédiction'] = pred_df['predict']\n",
    "\n",
    "print(\"Exemples de données (valeur réelle, prédiction et détails des variables) :\")\n",
    "print(test_df.head(10))\n"
   ]
  },
  {
   "cell_type": "code",
   "execution_count": 2,
   "metadata": {},
   "outputs": [
    {
     "name": "stdout",
     "output_type": "stream",
     "text": [
      "Checking whether there is an H2O instance running at http://localhost:54321..... not found.\n",
      "Attempting to start a local H2O server...\n",
      "; Java HotSpot(TM) 64-Bit Server VM (build 25.411-b09, mixed mode)\n",
      "  Starting server from C:\\Users\\fatin\\AppData\\Local\\Programs\\Python\\Python312\\Lib\\site-packages\\h2o\\backend\\bin\\h2o.jar\n",
      "  Ice root: C:\\Users\\fatin\\AppData\\Local\\Temp\\tmpxz__458b\n",
      "  JVM stdout: C:\\Users\\fatin\\AppData\\Local\\Temp\\tmpxz__458b\\h2o_Admin_started_from_python.out\n",
      "  JVM stderr: C:\\Users\\fatin\\AppData\\Local\\Temp\\tmpxz__458b\\h2o_Admin_started_from_python.err\n",
      "  Server is running at http://127.0.0.1:54321\n",
      "Connecting to H2O server at http://127.0.0.1:54321 ... successful.\n",
      "Warning: Your H2O cluster version is (3 months and 11 days) old.  There may be a newer version available.\n",
      "Please download and install the latest version from: https://h2o-release.s3.amazonaws.com/h2o/latest_stable.html\n"
     ]
    },
    {
     "data": {
      "text/html": [
       "\n",
       "<style>\n",
       "\n",
       "#h2o-table-1.h2o-container {\n",
       "  overflow-x: auto;\n",
       "}\n",
       "#h2o-table-1 .h2o-table {\n",
       "  /* width: 100%; */\n",
       "  margin-top: 1em;\n",
       "  margin-bottom: 1em;\n",
       "}\n",
       "#h2o-table-1 .h2o-table caption {\n",
       "  white-space: nowrap;\n",
       "  caption-side: top;\n",
       "  text-align: left;\n",
       "  /* margin-left: 1em; */\n",
       "  margin: 0;\n",
       "  font-size: larger;\n",
       "}\n",
       "#h2o-table-1 .h2o-table thead {\n",
       "  white-space: nowrap; \n",
       "  position: sticky;\n",
       "  top: 0;\n",
       "  box-shadow: 0 -1px inset;\n",
       "}\n",
       "#h2o-table-1 .h2o-table tbody {\n",
       "  overflow: auto;\n",
       "}\n",
       "#h2o-table-1 .h2o-table th,\n",
       "#h2o-table-1 .h2o-table td {\n",
       "  text-align: right;\n",
       "  /* border: 1px solid; */\n",
       "}\n",
       "#h2o-table-1 .h2o-table tr:nth-child(even) {\n",
       "  /* background: #F5F5F5 */\n",
       "}\n",
       "\n",
       "</style>      \n",
       "<div id=\"h2o-table-1\" class=\"h2o-container\">\n",
       "  <table class=\"h2o-table\">\n",
       "    <caption></caption>\n",
       "    <thead></thead>\n",
       "    <tbody><tr><td>H2O_cluster_uptime:</td>\n",
       "<td>03 secs</td></tr>\n",
       "<tr><td>H2O_cluster_timezone:</td>\n",
       "<td>Europe/Paris</td></tr>\n",
       "<tr><td>H2O_data_parsing_timezone:</td>\n",
       "<td>UTC</td></tr>\n",
       "<tr><td>H2O_cluster_version:</td>\n",
       "<td>3.46.0.6</td></tr>\n",
       "<tr><td>H2O_cluster_version_age:</td>\n",
       "<td>3 months and 11 days</td></tr>\n",
       "<tr><td>H2O_cluster_name:</td>\n",
       "<td>H2O_from_python_Admin_y4gqc6</td></tr>\n",
       "<tr><td>H2O_cluster_total_nodes:</td>\n",
       "<td>1</td></tr>\n",
       "<tr><td>H2O_cluster_free_memory:</td>\n",
       "<td>3.073 Gb</td></tr>\n",
       "<tr><td>H2O_cluster_total_cores:</td>\n",
       "<td>16</td></tr>\n",
       "<tr><td>H2O_cluster_allowed_cores:</td>\n",
       "<td>16</td></tr>\n",
       "<tr><td>H2O_cluster_status:</td>\n",
       "<td>locked, healthy</td></tr>\n",
       "<tr><td>H2O_connection_url:</td>\n",
       "<td>http://127.0.0.1:54321</td></tr>\n",
       "<tr><td>H2O_connection_proxy:</td>\n",
       "<td>{\"http\": null, \"https\": null}</td></tr>\n",
       "<tr><td>H2O_internal_security:</td>\n",
       "<td>False</td></tr>\n",
       "<tr><td>Python_version:</td>\n",
       "<td>3.12.5 final</td></tr></tbody>\n",
       "  </table>\n",
       "</div>\n"
      ],
      "text/plain": [
       "--------------------------  -----------------------------\n",
       "H2O_cluster_uptime:         03 secs\n",
       "H2O_cluster_timezone:       Europe/Paris\n",
       "H2O_data_parsing_timezone:  UTC\n",
       "H2O_cluster_version:        3.46.0.6\n",
       "H2O_cluster_version_age:    3 months and 11 days\n",
       "H2O_cluster_name:           H2O_from_python_Admin_y4gqc6\n",
       "H2O_cluster_total_nodes:    1\n",
       "H2O_cluster_free_memory:    3.073 Gb\n",
       "H2O_cluster_total_cores:    16\n",
       "H2O_cluster_allowed_cores:  16\n",
       "H2O_cluster_status:         locked, healthy\n",
       "H2O_connection_url:         http://127.0.0.1:54321\n",
       "H2O_connection_proxy:       {\"http\": null, \"https\": null}\n",
       "H2O_internal_security:      False\n",
       "Python_version:             3.12.5 final\n",
       "--------------------------  -----------------------------"
      ]
     },
     "metadata": {},
     "output_type": "display_data"
    },
    {
     "name": "stdout",
     "output_type": "stream",
     "text": [
      "Parse progress: |████████████████████████████████████████████████████████████████| (done) 100%\n"
     ]
    },
    {
     "name": "stderr",
     "output_type": "stream",
     "text": [
      "c:\\Users\\fatin\\AppData\\Local\\Programs\\Python\\Python312\\Lib\\site-packages\\h2o\\frame.py:1983: H2ODependencyWarning: Converting H2O frame to pandas dataframe using single-thread.  For faster conversion using multi-thread, install polars and pyarrow and use it as pandas_df = h2o_df.as_data_frame(use_multi_thread=True)\n",
      "\n",
      "  warnings.warn(\"Converting H2O frame to pandas dataframe using single-thread.  For faster conversion using\"\n"
     ]
    },
    {
     "name": "stdout",
     "output_type": "stream",
     "text": [
      "drf Model Build progress: |██████████████████████████████████████████████████████| (done) 100%\n",
      "drf prediction progress: |███████████████████████████████████████████████████████| (done) 100%\n"
     ]
    },
    {
     "name": "stderr",
     "output_type": "stream",
     "text": [
      "c:\\Users\\fatin\\AppData\\Local\\Programs\\Python\\Python312\\Lib\\site-packages\\h2o\\frame.py:1983: H2ODependencyWarning: Converting H2O frame to pandas dataframe using single-thread.  For faster conversion using multi-thread, install polars and pyarrow and use it as pandas_df = h2o_df.as_data_frame(use_multi_thread=True)\n",
      "\n",
      "  warnings.warn(\"Converting H2O frame to pandas dataframe using single-thread.  For faster conversion using\"\n",
      "c:\\Users\\fatin\\AppData\\Local\\Programs\\Python\\Python312\\Lib\\site-packages\\h2o\\frame.py:1983: H2ODependencyWarning: Converting H2O frame to pandas dataframe using single-thread.  For faster conversion using multi-thread, install polars and pyarrow and use it as pandas_df = h2o_df.as_data_frame(use_multi_thread=True)\n",
      "\n",
      "  warnings.warn(\"Converting H2O frame to pandas dataframe using single-thread.  For faster conversion using\"\n"
     ]
    },
    {
     "name": "stdout",
     "output_type": "stream",
     "text": [
      "drf Model Build progress: |██████████████████████████████████████████████████████| (done) 100%\n",
      "drf prediction progress: |███████████████████████████████████████████████████████| (done) 100%\n"
     ]
    },
    {
     "name": "stderr",
     "output_type": "stream",
     "text": [
      "c:\\Users\\fatin\\AppData\\Local\\Programs\\Python\\Python312\\Lib\\site-packages\\h2o\\frame.py:1983: H2ODependencyWarning: Converting H2O frame to pandas dataframe using single-thread.  For faster conversion using multi-thread, install polars and pyarrow and use it as pandas_df = h2o_df.as_data_frame(use_multi_thread=True)\n",
      "\n",
      "  warnings.warn(\"Converting H2O frame to pandas dataframe using single-thread.  For faster conversion using\"\n",
      "c:\\Users\\fatin\\AppData\\Local\\Programs\\Python\\Python312\\Lib\\site-packages\\h2o\\frame.py:1983: H2ODependencyWarning: Converting H2O frame to pandas dataframe using single-thread.  For faster conversion using multi-thread, install polars and pyarrow and use it as pandas_df = h2o_df.as_data_frame(use_multi_thread=True)\n",
      "\n",
      "  warnings.warn(\"Converting H2O frame to pandas dataframe using single-thread.  For faster conversion using\"\n"
     ]
    },
    {
     "name": "stdout",
     "output_type": "stream",
     "text": [
      "drf Model Build progress: |██████████████████████████████████████████████████████| (done) 100%\n",
      "drf prediction progress: |███████████████████████████████████████████████████████| (done) 100%\n"
     ]
    },
    {
     "name": "stderr",
     "output_type": "stream",
     "text": [
      "c:\\Users\\fatin\\AppData\\Local\\Programs\\Python\\Python312\\Lib\\site-packages\\h2o\\frame.py:1983: H2ODependencyWarning: Converting H2O frame to pandas dataframe using single-thread.  For faster conversion using multi-thread, install polars and pyarrow and use it as pandas_df = h2o_df.as_data_frame(use_multi_thread=True)\n",
      "\n",
      "  warnings.warn(\"Converting H2O frame to pandas dataframe using single-thread.  For faster conversion using\"\n",
      "c:\\Users\\fatin\\AppData\\Local\\Programs\\Python\\Python312\\Lib\\site-packages\\h2o\\frame.py:1983: H2ODependencyWarning: Converting H2O frame to pandas dataframe using single-thread.  For faster conversion using multi-thread, install polars and pyarrow and use it as pandas_df = h2o_df.as_data_frame(use_multi_thread=True)\n",
      "\n",
      "  warnings.warn(\"Converting H2O frame to pandas dataframe using single-thread.  For faster conversion using\"\n"
     ]
    },
    {
     "name": "stdout",
     "output_type": "stream",
     "text": [
      "drf Model Build progress: |██████████████████████████████████████████████████████| (done) 100%\n",
      "drf prediction progress: |███████████████████████████████████████████████████████| (done) 100%\n"
     ]
    },
    {
     "name": "stderr",
     "output_type": "stream",
     "text": [
      "c:\\Users\\fatin\\AppData\\Local\\Programs\\Python\\Python312\\Lib\\site-packages\\h2o\\frame.py:1983: H2ODependencyWarning: Converting H2O frame to pandas dataframe using single-thread.  For faster conversion using multi-thread, install polars and pyarrow and use it as pandas_df = h2o_df.as_data_frame(use_multi_thread=True)\n",
      "\n",
      "  warnings.warn(\"Converting H2O frame to pandas dataframe using single-thread.  For faster conversion using\"\n",
      "c:\\Users\\fatin\\AppData\\Local\\Programs\\Python\\Python312\\Lib\\site-packages\\h2o\\frame.py:1983: H2ODependencyWarning: Converting H2O frame to pandas dataframe using single-thread.  For faster conversion using multi-thread, install polars and pyarrow and use it as pandas_df = h2o_df.as_data_frame(use_multi_thread=True)\n",
      "\n",
      "  warnings.warn(\"Converting H2O frame to pandas dataframe using single-thread.  For faster conversion using\"\n"
     ]
    },
    {
     "name": "stdout",
     "output_type": "stream",
     "text": [
      "drf Model Build progress: |██████████████████████████████████████████████████████| (done) 100%\n",
      "drf prediction progress: |███████████████████████████████████████████████████████| (done) 100%\n"
     ]
    },
    {
     "name": "stderr",
     "output_type": "stream",
     "text": [
      "c:\\Users\\fatin\\AppData\\Local\\Programs\\Python\\Python312\\Lib\\site-packages\\h2o\\frame.py:1983: H2ODependencyWarning: Converting H2O frame to pandas dataframe using single-thread.  For faster conversion using multi-thread, install polars and pyarrow and use it as pandas_df = h2o_df.as_data_frame(use_multi_thread=True)\n",
      "\n",
      "  warnings.warn(\"Converting H2O frame to pandas dataframe using single-thread.  For faster conversion using\"\n",
      "c:\\Users\\fatin\\AppData\\Local\\Programs\\Python\\Python312\\Lib\\site-packages\\h2o\\frame.py:1983: H2ODependencyWarning: Converting H2O frame to pandas dataframe using single-thread.  For faster conversion using multi-thread, install polars and pyarrow and use it as pandas_df = h2o_df.as_data_frame(use_multi_thread=True)\n",
      "\n",
      "  warnings.warn(\"Converting H2O frame to pandas dataframe using single-thread.  For faster conversion using\"\n"
     ]
    },
    {
     "name": "stdout",
     "output_type": "stream",
     "text": [
      "drf Model Build progress: |██████████████████████████████████████████████████████| (done) 100%\n",
      "drf prediction progress: |███████████████████████████████████████████████████████| (done) 100%\n"
     ]
    },
    {
     "name": "stderr",
     "output_type": "stream",
     "text": [
      "c:\\Users\\fatin\\AppData\\Local\\Programs\\Python\\Python312\\Lib\\site-packages\\h2o\\frame.py:1983: H2ODependencyWarning: Converting H2O frame to pandas dataframe using single-thread.  For faster conversion using multi-thread, install polars and pyarrow and use it as pandas_df = h2o_df.as_data_frame(use_multi_thread=True)\n",
      "\n",
      "  warnings.warn(\"Converting H2O frame to pandas dataframe using single-thread.  For faster conversion using\"\n",
      "c:\\Users\\fatin\\AppData\\Local\\Programs\\Python\\Python312\\Lib\\site-packages\\h2o\\frame.py:1983: H2ODependencyWarning: Converting H2O frame to pandas dataframe using single-thread.  For faster conversion using multi-thread, install polars and pyarrow and use it as pandas_df = h2o_df.as_data_frame(use_multi_thread=True)\n",
      "\n",
      "  warnings.warn(\"Converting H2O frame to pandas dataframe using single-thread.  For faster conversion using\"\n"
     ]
    },
    {
     "name": "stdout",
     "output_type": "stream",
     "text": [
      "drf Model Build progress: |██████████████████████████████████████████████████████| (done) 100%\n",
      "drf prediction progress: |███████████████████████████████████████████████████████| (done) 100%\n"
     ]
    },
    {
     "name": "stderr",
     "output_type": "stream",
     "text": [
      "c:\\Users\\fatin\\AppData\\Local\\Programs\\Python\\Python312\\Lib\\site-packages\\h2o\\frame.py:1983: H2ODependencyWarning: Converting H2O frame to pandas dataframe using single-thread.  For faster conversion using multi-thread, install polars and pyarrow and use it as pandas_df = h2o_df.as_data_frame(use_multi_thread=True)\n",
      "\n",
      "  warnings.warn(\"Converting H2O frame to pandas dataframe using single-thread.  For faster conversion using\"\n",
      "c:\\Users\\fatin\\AppData\\Local\\Programs\\Python\\Python312\\Lib\\site-packages\\h2o\\frame.py:1983: H2ODependencyWarning: Converting H2O frame to pandas dataframe using single-thread.  For faster conversion using multi-thread, install polars and pyarrow and use it as pandas_df = h2o_df.as_data_frame(use_multi_thread=True)\n",
      "\n",
      "  warnings.warn(\"Converting H2O frame to pandas dataframe using single-thread.  For faster conversion using\"\n"
     ]
    },
    {
     "name": "stdout",
     "output_type": "stream",
     "text": [
      "drf Model Build progress: |██████████████████████████████████████████████████████| (done) 100%\n",
      "drf prediction progress: |███████████████████████████████████████████████████████| (done) 100%\n"
     ]
    },
    {
     "name": "stderr",
     "output_type": "stream",
     "text": [
      "c:\\Users\\fatin\\AppData\\Local\\Programs\\Python\\Python312\\Lib\\site-packages\\h2o\\frame.py:1983: H2ODependencyWarning: Converting H2O frame to pandas dataframe using single-thread.  For faster conversion using multi-thread, install polars and pyarrow and use it as pandas_df = h2o_df.as_data_frame(use_multi_thread=True)\n",
      "\n",
      "  warnings.warn(\"Converting H2O frame to pandas dataframe using single-thread.  For faster conversion using\"\n",
      "c:\\Users\\fatin\\AppData\\Local\\Programs\\Python\\Python312\\Lib\\site-packages\\h2o\\frame.py:1983: H2ODependencyWarning: Converting H2O frame to pandas dataframe using single-thread.  For faster conversion using multi-thread, install polars and pyarrow and use it as pandas_df = h2o_df.as_data_frame(use_multi_thread=True)\n",
      "\n",
      "  warnings.warn(\"Converting H2O frame to pandas dataframe using single-thread.  For faster conversion using\"\n"
     ]
    },
    {
     "name": "stdout",
     "output_type": "stream",
     "text": [
      "drf Model Build progress: |██████████████████████████████████████████████████████| (done) 100%\n",
      "drf prediction progress: |███████████████████████████████████████████████████████| (done) 100%\n"
     ]
    },
    {
     "name": "stderr",
     "output_type": "stream",
     "text": [
      "c:\\Users\\fatin\\AppData\\Local\\Programs\\Python\\Python312\\Lib\\site-packages\\h2o\\frame.py:1983: H2ODependencyWarning: Converting H2O frame to pandas dataframe using single-thread.  For faster conversion using multi-thread, install polars and pyarrow and use it as pandas_df = h2o_df.as_data_frame(use_multi_thread=True)\n",
      "\n",
      "  warnings.warn(\"Converting H2O frame to pandas dataframe using single-thread.  For faster conversion using\"\n",
      "c:\\Users\\fatin\\AppData\\Local\\Programs\\Python\\Python312\\Lib\\site-packages\\h2o\\frame.py:1983: H2ODependencyWarning: Converting H2O frame to pandas dataframe using single-thread.  For faster conversion using multi-thread, install polars and pyarrow and use it as pandas_df = h2o_df.as_data_frame(use_multi_thread=True)\n",
      "\n",
      "  warnings.warn(\"Converting H2O frame to pandas dataframe using single-thread.  For faster conversion using\"\n"
     ]
    },
    {
     "name": "stdout",
     "output_type": "stream",
     "text": [
      "drf Model Build progress: |██████████████████████████████████████████████████████| (done) 100%\n",
      "drf prediction progress: |███████████████████████████████████████████████████████| (done) 100%\n"
     ]
    },
    {
     "name": "stderr",
     "output_type": "stream",
     "text": [
      "c:\\Users\\fatin\\AppData\\Local\\Programs\\Python\\Python312\\Lib\\site-packages\\h2o\\frame.py:1983: H2ODependencyWarning: Converting H2O frame to pandas dataframe using single-thread.  For faster conversion using multi-thread, install polars and pyarrow and use it as pandas_df = h2o_df.as_data_frame(use_multi_thread=True)\n",
      "\n",
      "  warnings.warn(\"Converting H2O frame to pandas dataframe using single-thread.  For faster conversion using\"\n",
      "c:\\Users\\fatin\\AppData\\Local\\Programs\\Python\\Python312\\Lib\\site-packages\\h2o\\frame.py:1983: H2ODependencyWarning: Converting H2O frame to pandas dataframe using single-thread.  For faster conversion using multi-thread, install polars and pyarrow and use it as pandas_df = h2o_df.as_data_frame(use_multi_thread=True)\n",
      "\n",
      "  warnings.warn(\"Converting H2O frame to pandas dataframe using single-thread.  For faster conversion using\"\n"
     ]
    },
    {
     "name": "stdout",
     "output_type": "stream",
     "text": [
      "drf Model Build progress: |██████████████████████████████████████████████████████| (done) 100%\n",
      "drf prediction progress: |███████████████████████████████████████████████████████| (done) 100%\n"
     ]
    },
    {
     "name": "stderr",
     "output_type": "stream",
     "text": [
      "c:\\Users\\fatin\\AppData\\Local\\Programs\\Python\\Python312\\Lib\\site-packages\\h2o\\frame.py:1983: H2ODependencyWarning: Converting H2O frame to pandas dataframe using single-thread.  For faster conversion using multi-thread, install polars and pyarrow and use it as pandas_df = h2o_df.as_data_frame(use_multi_thread=True)\n",
      "\n",
      "  warnings.warn(\"Converting H2O frame to pandas dataframe using single-thread.  For faster conversion using\"\n",
      "c:\\Users\\fatin\\AppData\\Local\\Programs\\Python\\Python312\\Lib\\site-packages\\h2o\\frame.py:1983: H2ODependencyWarning: Converting H2O frame to pandas dataframe using single-thread.  For faster conversion using multi-thread, install polars and pyarrow and use it as pandas_df = h2o_df.as_data_frame(use_multi_thread=True)\n",
      "\n",
      "  warnings.warn(\"Converting H2O frame to pandas dataframe using single-thread.  For faster conversion using\"\n"
     ]
    },
    {
     "name": "stdout",
     "output_type": "stream",
     "text": [
      "drf Model Build progress: |██████████████████████████████████████████████████████| (done) 100%\n",
      "drf prediction progress: |███████████████████████████████████████████████████████| (done) 100%\n"
     ]
    },
    {
     "name": "stderr",
     "output_type": "stream",
     "text": [
      "c:\\Users\\fatin\\AppData\\Local\\Programs\\Python\\Python312\\Lib\\site-packages\\h2o\\frame.py:1983: H2ODependencyWarning: Converting H2O frame to pandas dataframe using single-thread.  For faster conversion using multi-thread, install polars and pyarrow and use it as pandas_df = h2o_df.as_data_frame(use_multi_thread=True)\n",
      "\n",
      "  warnings.warn(\"Converting H2O frame to pandas dataframe using single-thread.  For faster conversion using\"\n",
      "c:\\Users\\fatin\\AppData\\Local\\Programs\\Python\\Python312\\Lib\\site-packages\\h2o\\frame.py:1983: H2ODependencyWarning: Converting H2O frame to pandas dataframe using single-thread.  For faster conversion using multi-thread, install polars and pyarrow and use it as pandas_df = h2o_df.as_data_frame(use_multi_thread=True)\n",
      "\n",
      "  warnings.warn(\"Converting H2O frame to pandas dataframe using single-thread.  For faster conversion using\"\n"
     ]
    },
    {
     "name": "stdout",
     "output_type": "stream",
     "text": [
      "drf Model Build progress: |██████████████████████████████████████████████████████| (done) 100%\n",
      "drf prediction progress: |███████████████████████████████████████████████████████| (done) 100%\n"
     ]
    },
    {
     "name": "stderr",
     "output_type": "stream",
     "text": [
      "c:\\Users\\fatin\\AppData\\Local\\Programs\\Python\\Python312\\Lib\\site-packages\\h2o\\frame.py:1983: H2ODependencyWarning: Converting H2O frame to pandas dataframe using single-thread.  For faster conversion using multi-thread, install polars and pyarrow and use it as pandas_df = h2o_df.as_data_frame(use_multi_thread=True)\n",
      "\n",
      "  warnings.warn(\"Converting H2O frame to pandas dataframe using single-thread.  For faster conversion using\"\n",
      "c:\\Users\\fatin\\AppData\\Local\\Programs\\Python\\Python312\\Lib\\site-packages\\h2o\\frame.py:1983: H2ODependencyWarning: Converting H2O frame to pandas dataframe using single-thread.  For faster conversion using multi-thread, install polars and pyarrow and use it as pandas_df = h2o_df.as_data_frame(use_multi_thread=True)\n",
      "\n",
      "  warnings.warn(\"Converting H2O frame to pandas dataframe using single-thread.  For faster conversion using\"\n"
     ]
    },
    {
     "name": "stdout",
     "output_type": "stream",
     "text": [
      "drf Model Build progress: |██████████████████████████████████████████████████████| (done) 100%\n",
      "drf prediction progress: |███████████████████████████████████████████████████████| (done) 100%\n"
     ]
    },
    {
     "name": "stderr",
     "output_type": "stream",
     "text": [
      "c:\\Users\\fatin\\AppData\\Local\\Programs\\Python\\Python312\\Lib\\site-packages\\h2o\\frame.py:1983: H2ODependencyWarning: Converting H2O frame to pandas dataframe using single-thread.  For faster conversion using multi-thread, install polars and pyarrow and use it as pandas_df = h2o_df.as_data_frame(use_multi_thread=True)\n",
      "\n",
      "  warnings.warn(\"Converting H2O frame to pandas dataframe using single-thread.  For faster conversion using\"\n",
      "c:\\Users\\fatin\\AppData\\Local\\Programs\\Python\\Python312\\Lib\\site-packages\\h2o\\frame.py:1983: H2ODependencyWarning: Converting H2O frame to pandas dataframe using single-thread.  For faster conversion using multi-thread, install polars and pyarrow and use it as pandas_df = h2o_df.as_data_frame(use_multi_thread=True)\n",
      "\n",
      "  warnings.warn(\"Converting H2O frame to pandas dataframe using single-thread.  For faster conversion using\"\n"
     ]
    },
    {
     "name": "stdout",
     "output_type": "stream",
     "text": [
      "drf Model Build progress: |██████████████████████████████████████████████████████| (done) 100%\n",
      "drf prediction progress: |███████████████████████████████████████████████████████| (done) 100%\n"
     ]
    },
    {
     "name": "stderr",
     "output_type": "stream",
     "text": [
      "c:\\Users\\fatin\\AppData\\Local\\Programs\\Python\\Python312\\Lib\\site-packages\\h2o\\frame.py:1983: H2ODependencyWarning: Converting H2O frame to pandas dataframe using single-thread.  For faster conversion using multi-thread, install polars and pyarrow and use it as pandas_df = h2o_df.as_data_frame(use_multi_thread=True)\n",
      "\n",
      "  warnings.warn(\"Converting H2O frame to pandas dataframe using single-thread.  For faster conversion using\"\n",
      "c:\\Users\\fatin\\AppData\\Local\\Programs\\Python\\Python312\\Lib\\site-packages\\h2o\\frame.py:1983: H2ODependencyWarning: Converting H2O frame to pandas dataframe using single-thread.  For faster conversion using multi-thread, install polars and pyarrow and use it as pandas_df = h2o_df.as_data_frame(use_multi_thread=True)\n",
      "\n",
      "  warnings.warn(\"Converting H2O frame to pandas dataframe using single-thread.  For faster conversion using\"\n"
     ]
    },
    {
     "name": "stdout",
     "output_type": "stream",
     "text": [
      "drf Model Build progress: |██████████████████████████████████████████████████████| (done) 100%\n",
      "drf prediction progress: |███████████████████████████████████████████████████████| (done) 100%\n"
     ]
    },
    {
     "name": "stderr",
     "output_type": "stream",
     "text": [
      "c:\\Users\\fatin\\AppData\\Local\\Programs\\Python\\Python312\\Lib\\site-packages\\h2o\\frame.py:1983: H2ODependencyWarning: Converting H2O frame to pandas dataframe using single-thread.  For faster conversion using multi-thread, install polars and pyarrow and use it as pandas_df = h2o_df.as_data_frame(use_multi_thread=True)\n",
      "\n",
      "  warnings.warn(\"Converting H2O frame to pandas dataframe using single-thread.  For faster conversion using\"\n",
      "c:\\Users\\fatin\\AppData\\Local\\Programs\\Python\\Python312\\Lib\\site-packages\\h2o\\frame.py:1983: H2ODependencyWarning: Converting H2O frame to pandas dataframe using single-thread.  For faster conversion using multi-thread, install polars and pyarrow and use it as pandas_df = h2o_df.as_data_frame(use_multi_thread=True)\n",
      "\n",
      "  warnings.warn(\"Converting H2O frame to pandas dataframe using single-thread.  For faster conversion using\"\n"
     ]
    },
    {
     "name": "stdout",
     "output_type": "stream",
     "text": [
      "drf Model Build progress: |██████████████████████████████████████████████████████| (done) 100%\n",
      "drf prediction progress: |███████████████████████████████████████████████████████| (done) 100%\n"
     ]
    },
    {
     "name": "stderr",
     "output_type": "stream",
     "text": [
      "c:\\Users\\fatin\\AppData\\Local\\Programs\\Python\\Python312\\Lib\\site-packages\\h2o\\frame.py:1983: H2ODependencyWarning: Converting H2O frame to pandas dataframe using single-thread.  For faster conversion using multi-thread, install polars and pyarrow and use it as pandas_df = h2o_df.as_data_frame(use_multi_thread=True)\n",
      "\n",
      "  warnings.warn(\"Converting H2O frame to pandas dataframe using single-thread.  For faster conversion using\"\n",
      "c:\\Users\\fatin\\AppData\\Local\\Programs\\Python\\Python312\\Lib\\site-packages\\h2o\\frame.py:1983: H2ODependencyWarning: Converting H2O frame to pandas dataframe using single-thread.  For faster conversion using multi-thread, install polars and pyarrow and use it as pandas_df = h2o_df.as_data_frame(use_multi_thread=True)\n",
      "\n",
      "  warnings.warn(\"Converting H2O frame to pandas dataframe using single-thread.  For faster conversion using\"\n"
     ]
    },
    {
     "name": "stdout",
     "output_type": "stream",
     "text": [
      "drf Model Build progress: |██████████████████████████████████████████████████████| (done) 100%\n",
      "drf prediction progress: |███████████████████████████████████████████████████████| (done) 100%\n"
     ]
    },
    {
     "name": "stderr",
     "output_type": "stream",
     "text": [
      "c:\\Users\\fatin\\AppData\\Local\\Programs\\Python\\Python312\\Lib\\site-packages\\h2o\\frame.py:1983: H2ODependencyWarning: Converting H2O frame to pandas dataframe using single-thread.  For faster conversion using multi-thread, install polars and pyarrow and use it as pandas_df = h2o_df.as_data_frame(use_multi_thread=True)\n",
      "\n",
      "  warnings.warn(\"Converting H2O frame to pandas dataframe using single-thread.  For faster conversion using\"\n",
      "c:\\Users\\fatin\\AppData\\Local\\Programs\\Python\\Python312\\Lib\\site-packages\\h2o\\frame.py:1983: H2ODependencyWarning: Converting H2O frame to pandas dataframe using single-thread.  For faster conversion using multi-thread, install polars and pyarrow and use it as pandas_df = h2o_df.as_data_frame(use_multi_thread=True)\n",
      "\n",
      "  warnings.warn(\"Converting H2O frame to pandas dataframe using single-thread.  For faster conversion using\"\n"
     ]
    },
    {
     "name": "stdout",
     "output_type": "stream",
     "text": [
      "drf Model Build progress: |"
     ]
    },
    {
     "name": "stderr",
     "output_type": "stream",
     "text": [
      "c:\\Users\\fatin\\AppData\\Local\\Programs\\Python\\Python312\\Lib\\site-packages\\h2o\\estimators\\estimator_base.py:192: RuntimeWarning: Dropping bad and constant columns: [REF_CLOSING_DESCRIPTION]\n",
      "  warnings.warn(mesg[\"message\"], RuntimeWarning)\n"
     ]
    },
    {
     "name": "stdout",
     "output_type": "stream",
     "text": [
      "██████████████████████████████████████████████████████| (done) 100%\n",
      "drf prediction progress: |███████████████████████████████████████████████████████| (done) 100%\n"
     ]
    },
    {
     "name": "stderr",
     "output_type": "stream",
     "text": [
      "c:\\Users\\fatin\\AppData\\Local\\Programs\\Python\\Python312\\Lib\\site-packages\\h2o\\frame.py:1983: H2ODependencyWarning: Converting H2O frame to pandas dataframe using single-thread.  For faster conversion using multi-thread, install polars and pyarrow and use it as pandas_df = h2o_df.as_data_frame(use_multi_thread=True)\n",
      "\n",
      "  warnings.warn(\"Converting H2O frame to pandas dataframe using single-thread.  For faster conversion using\"\n",
      "c:\\Users\\fatin\\AppData\\Local\\Programs\\Python\\Python312\\Lib\\site-packages\\h2o\\frame.py:1983: H2ODependencyWarning: Converting H2O frame to pandas dataframe using single-thread.  For faster conversion using multi-thread, install polars and pyarrow and use it as pandas_df = h2o_df.as_data_frame(use_multi_thread=True)\n",
      "\n",
      "  warnings.warn(\"Converting H2O frame to pandas dataframe using single-thread.  For faster conversion using\"\n"
     ]
    },
    {
     "name": "stdout",
     "output_type": "stream",
     "text": [
      "drf Model Build progress: |"
     ]
    },
    {
     "name": "stderr",
     "output_type": "stream",
     "text": [
      "c:\\Users\\fatin\\AppData\\Local\\Programs\\Python\\Python312\\Lib\\site-packages\\h2o\\estimators\\estimator_base.py:192: RuntimeWarning: Dropping bad and constant columns: [REF_CLOSING_DESCRIPTION]\n",
      "  warnings.warn(mesg[\"message\"], RuntimeWarning)\n"
     ]
    },
    {
     "name": "stdout",
     "output_type": "stream",
     "text": [
      "██████████████████████████████████████████████████████| (done) 100%\n",
      "drf prediction progress: |███████████████████████████████████████████████████████| (done) 100%\n"
     ]
    },
    {
     "name": "stderr",
     "output_type": "stream",
     "text": [
      "c:\\Users\\fatin\\AppData\\Local\\Programs\\Python\\Python312\\Lib\\site-packages\\h2o\\frame.py:1983: H2ODependencyWarning: Converting H2O frame to pandas dataframe using single-thread.  For faster conversion using multi-thread, install polars and pyarrow and use it as pandas_df = h2o_df.as_data_frame(use_multi_thread=True)\n",
      "\n",
      "  warnings.warn(\"Converting H2O frame to pandas dataframe using single-thread.  For faster conversion using\"\n",
      "c:\\Users\\fatin\\AppData\\Local\\Programs\\Python\\Python312\\Lib\\site-packages\\h2o\\frame.py:1983: H2ODependencyWarning: Converting H2O frame to pandas dataframe using single-thread.  For faster conversion using multi-thread, install polars and pyarrow and use it as pandas_df = h2o_df.as_data_frame(use_multi_thread=True)\n",
      "\n",
      "  warnings.warn(\"Converting H2O frame to pandas dataframe using single-thread.  For faster conversion using\"\n"
     ]
    },
    {
     "name": "stdout",
     "output_type": "stream",
     "text": [
      "drf Model Build progress: |██████████████████████████████████████████████████████| (done) 100%\n",
      "drf prediction progress: |███████████████████████████████████████████████████████| (done) 100%\n"
     ]
    },
    {
     "name": "stderr",
     "output_type": "stream",
     "text": [
      "c:\\Users\\fatin\\AppData\\Local\\Programs\\Python\\Python312\\Lib\\site-packages\\h2o\\frame.py:1983: H2ODependencyWarning: Converting H2O frame to pandas dataframe using single-thread.  For faster conversion using multi-thread, install polars and pyarrow and use it as pandas_df = h2o_df.as_data_frame(use_multi_thread=True)\n",
      "\n",
      "  warnings.warn(\"Converting H2O frame to pandas dataframe using single-thread.  For faster conversion using\"\n",
      "c:\\Users\\fatin\\AppData\\Local\\Programs\\Python\\Python312\\Lib\\site-packages\\h2o\\frame.py:1983: H2ODependencyWarning: Converting H2O frame to pandas dataframe using single-thread.  For faster conversion using multi-thread, install polars and pyarrow and use it as pandas_df = h2o_df.as_data_frame(use_multi_thread=True)\n",
      "\n",
      "  warnings.warn(\"Converting H2O frame to pandas dataframe using single-thread.  For faster conversion using\"\n"
     ]
    },
    {
     "name": "stdout",
     "output_type": "stream",
     "text": [
      "drf Model Build progress: |██████████████████████████████████████████████████████| (done) 100%\n",
      "drf prediction progress: |███████████████████████████████████████████████████████| (done) 100%\n"
     ]
    },
    {
     "name": "stderr",
     "output_type": "stream",
     "text": [
      "c:\\Users\\fatin\\AppData\\Local\\Programs\\Python\\Python312\\Lib\\site-packages\\h2o\\frame.py:1983: H2ODependencyWarning: Converting H2O frame to pandas dataframe using single-thread.  For faster conversion using multi-thread, install polars and pyarrow and use it as pandas_df = h2o_df.as_data_frame(use_multi_thread=True)\n",
      "\n",
      "  warnings.warn(\"Converting H2O frame to pandas dataframe using single-thread.  For faster conversion using\"\n",
      "c:\\Users\\fatin\\AppData\\Local\\Programs\\Python\\Python312\\Lib\\site-packages\\h2o\\frame.py:1983: H2ODependencyWarning: Converting H2O frame to pandas dataframe using single-thread.  For faster conversion using multi-thread, install polars and pyarrow and use it as pandas_df = h2o_df.as_data_frame(use_multi_thread=True)\n",
      "\n",
      "  warnings.warn(\"Converting H2O frame to pandas dataframe using single-thread.  For faster conversion using\"\n"
     ]
    },
    {
     "name": "stdout",
     "output_type": "stream",
     "text": [
      "drf Model Build progress: |██████████████████████████████████████████████████████| (done) 100%\n",
      "drf prediction progress: |███████████████████████████████████████████████████████| (done) 100%\n"
     ]
    },
    {
     "name": "stderr",
     "output_type": "stream",
     "text": [
      "c:\\Users\\fatin\\AppData\\Local\\Programs\\Python\\Python312\\Lib\\site-packages\\h2o\\frame.py:1983: H2ODependencyWarning: Converting H2O frame to pandas dataframe using single-thread.  For faster conversion using multi-thread, install polars and pyarrow and use it as pandas_df = h2o_df.as_data_frame(use_multi_thread=True)\n",
      "\n",
      "  warnings.warn(\"Converting H2O frame to pandas dataframe using single-thread.  For faster conversion using\"\n",
      "c:\\Users\\fatin\\AppData\\Local\\Programs\\Python\\Python312\\Lib\\site-packages\\h2o\\frame.py:1983: H2ODependencyWarning: Converting H2O frame to pandas dataframe using single-thread.  For faster conversion using multi-thread, install polars and pyarrow and use it as pandas_df = h2o_df.as_data_frame(use_multi_thread=True)\n",
      "\n",
      "  warnings.warn(\"Converting H2O frame to pandas dataframe using single-thread.  For faster conversion using\"\n"
     ]
    },
    {
     "name": "stdout",
     "output_type": "stream",
     "text": [
      "drf Model Build progress: |"
     ]
    },
    {
     "name": "stderr",
     "output_type": "stream",
     "text": [
      "c:\\Users\\fatin\\AppData\\Local\\Programs\\Python\\Python312\\Lib\\site-packages\\h2o\\estimators\\estimator_base.py:192: RuntimeWarning: Dropping bad and constant columns: [NIGHT_SHOW_FLAG]\n",
      "  warnings.warn(mesg[\"message\"], RuntimeWarning)\n"
     ]
    },
    {
     "name": "stdout",
     "output_type": "stream",
     "text": [
      "██████████████████████████████████████████████████████| (done) 100%\n",
      "drf prediction progress: |███████████████████████████████████████████████████████| (done) 100%\n"
     ]
    },
    {
     "name": "stderr",
     "output_type": "stream",
     "text": [
      "c:\\Users\\fatin\\AppData\\Local\\Programs\\Python\\Python312\\Lib\\site-packages\\h2o\\frame.py:1983: H2ODependencyWarning: Converting H2O frame to pandas dataframe using single-thread.  For faster conversion using multi-thread, install polars and pyarrow and use it as pandas_df = h2o_df.as_data_frame(use_multi_thread=True)\n",
      "\n",
      "  warnings.warn(\"Converting H2O frame to pandas dataframe using single-thread.  For faster conversion using\"\n",
      "c:\\Users\\fatin\\AppData\\Local\\Programs\\Python\\Python312\\Lib\\site-packages\\h2o\\frame.py:1983: H2ODependencyWarning: Converting H2O frame to pandas dataframe using single-thread.  For faster conversion using multi-thread, install polars and pyarrow and use it as pandas_df = h2o_df.as_data_frame(use_multi_thread=True)\n",
      "\n",
      "  warnings.warn(\"Converting H2O frame to pandas dataframe using single-thread.  For faster conversion using\"\n"
     ]
    },
    {
     "name": "stdout",
     "output_type": "stream",
     "text": [
      "drf Model Build progress: |██████████████████████████████████████████████████████| (done) 100%\n",
      "drf prediction progress: |███████████████████████████████████████████████████████| (done) 100%\n"
     ]
    },
    {
     "name": "stderr",
     "output_type": "stream",
     "text": [
      "c:\\Users\\fatin\\AppData\\Local\\Programs\\Python\\Python312\\Lib\\site-packages\\h2o\\frame.py:1983: H2ODependencyWarning: Converting H2O frame to pandas dataframe using single-thread.  For faster conversion using multi-thread, install polars and pyarrow and use it as pandas_df = h2o_df.as_data_frame(use_multi_thread=True)\n",
      "\n",
      "  warnings.warn(\"Converting H2O frame to pandas dataframe using single-thread.  For faster conversion using\"\n",
      "c:\\Users\\fatin\\AppData\\Local\\Programs\\Python\\Python312\\Lib\\site-packages\\h2o\\frame.py:1983: H2ODependencyWarning: Converting H2O frame to pandas dataframe using single-thread.  For faster conversion using multi-thread, install polars and pyarrow and use it as pandas_df = h2o_df.as_data_frame(use_multi_thread=True)\n",
      "\n",
      "  warnings.warn(\"Converting H2O frame to pandas dataframe using single-thread.  For faster conversion using\"\n"
     ]
    },
    {
     "name": "stdout",
     "output_type": "stream",
     "text": [
      "drf Model Build progress: |██████████████████████████████████████████████████████| (done) 100%\n",
      "drf prediction progress: |███████████████████████████████████████████████████████| (done) 100%\n",
      "Performance par attraction:\n",
      "          attraction  n_rows       rmse       mae  \\\n",
      "0        Bumper Cars   47278   2.952041  1.556259   \n",
      "1        Bungee Jump   47292   6.270049  3.231214   \n",
      "2       Circus Train   47280   0.928524  0.287363   \n",
      "3        Crazy Dance   47277   0.741806  0.139344   \n",
      "4      Dizzy Dropper   47294   2.777966  1.366607   \n",
      "5         Drop Tower   47285   4.961366  2.735650   \n",
      "6     Flying Coaster   47286   5.242757  3.137811   \n",
      "7          Free Fall   47287  10.975262  5.569394   \n",
      "8        Giant Wheel   47276  10.222723  6.557731   \n",
      "9       Giga Coaster   47272   3.599841  1.603385   \n",
      "10          Go-Karts   47293   8.863408  4.991730   \n",
      "11     Haunted House   47279   4.680361  2.845034   \n",
      "12     Himalaya Ride   47281   0.380104  0.057073   \n",
      "13  Inverted Coaster   47285   5.328248  1.654695   \n",
      "14    Kiddie Coaster   47284   2.556103  0.931684   \n",
      "15    Merry Go Round   47284   4.051192  1.774447   \n",
      "16        Oz Theatre   47285   1.544452  0.601745   \n",
      "17       Rapids Ride   47287   6.843088  3.171427   \n",
      "18    Roller Coaster   47290   5.914629  3.271044   \n",
      "19  Spinning Coaster   47291  10.139526  6.012690   \n",
      "20      Spiral Slide   47271  15.445992  8.091524   \n",
      "21     Superman Ride   47281   2.716292  0.814732   \n",
      "22        Swing Ride   47284   9.319379  5.548369   \n",
      "23     Vertical Drop    2672   1.810261  0.536532   \n",
      "24        Water Ride   47282   5.125707  3.052117   \n",
      "25           Zipline   47275   6.145364  4.093564   \n",
      "\n",
      "                             model_id  \n",
      "0    DRF_model_python_1739457303351_1  \n",
      "1    DRF_model_python_1739457303351_2  \n",
      "2    DRF_model_python_1739457303351_3  \n",
      "3    DRF_model_python_1739457303351_4  \n",
      "4    DRF_model_python_1739457303351_5  \n",
      "5    DRF_model_python_1739457303351_6  \n",
      "6    DRF_model_python_1739457303351_7  \n",
      "7    DRF_model_python_1739457303351_8  \n",
      "8    DRF_model_python_1739457303351_9  \n",
      "9   DRF_model_python_1739457303351_10  \n",
      "10  DRF_model_python_1739457303351_11  \n",
      "11  DRF_model_python_1739457303351_12  \n",
      "12  DRF_model_python_1739457303351_13  \n",
      "13  DRF_model_python_1739457303351_14  \n",
      "14  DRF_model_python_1739457303351_15  \n",
      "15  DRF_model_python_1739457303351_16  \n",
      "16  DRF_model_python_1739457303351_17  \n",
      "17  DRF_model_python_1739457303351_18  \n",
      "18  DRF_model_python_1739457303351_19  \n",
      "19  DRF_model_python_1739457303351_20  \n",
      "20  DRF_model_python_1739457303351_21  \n",
      "21  DRF_model_python_1739457303351_22  \n",
      "22  DRF_model_python_1739457303351_23  \n",
      "23  DRF_model_python_1739457303351_24  \n",
      "24  DRF_model_python_1739457303351_25  \n",
      "25  DRF_model_python_1739457303351_26  \n",
      "Parse progress: |"
     ]
    },
    {
     "name": "stderr",
     "output_type": "stream",
     "text": [
      "c:\\Users\\fatin\\AppData\\Local\\Programs\\Python\\Python312\\Lib\\site-packages\\h2o\\frame.py:1983: H2ODependencyWarning: Converting H2O frame to pandas dataframe using single-thread.  For faster conversion using multi-thread, install polars and pyarrow and use it as pandas_df = h2o_df.as_data_frame(use_multi_thread=True)\n",
      "\n",
      "  warnings.warn(\"Converting H2O frame to pandas dataframe using single-thread.  For faster conversion using\"\n",
      "c:\\Users\\fatin\\AppData\\Local\\Programs\\Python\\Python312\\Lib\\site-packages\\h2o\\frame.py:1983: H2ODependencyWarning: Converting H2O frame to pandas dataframe using single-thread.  For faster conversion using multi-thread, install polars and pyarrow and use it as pandas_df = h2o_df.as_data_frame(use_multi_thread=True)\n",
      "\n",
      "  warnings.warn(\"Converting H2O frame to pandas dataframe using single-thread.  For faster conversion using\"\n"
     ]
    },
    {
     "name": "stdout",
     "output_type": "stream",
     "text": [
      "████████████████████████████████████████████████████████████████| (done) 100%\n",
      "drf prediction progress: |███████████████████████████████████████████████████████| (done) 100%\n",
      "Pour l'attraction Bumper Cars, la prédiction de WAIT_TIME_MAX est : 5.8\n"
     ]
    },
    {
     "name": "stderr",
     "output_type": "stream",
     "text": [
      "c:\\Users\\fatin\\AppData\\Local\\Programs\\Python\\Python312\\Lib\\site-packages\\h2o\\job.py:81: UserWarning: Test/Validation dataset is missing column 'CAPACITY': substituting in a column of NaN\n",
      "  warnings.warn(w)\n",
      "c:\\Users\\fatin\\AppData\\Local\\Programs\\Python\\Python312\\Lib\\site-packages\\h2o\\job.py:81: UserWarning: Test/Validation dataset is missing column 'OPEN_TIME': substituting in a column of NaN\n",
      "  warnings.warn(w)\n",
      "c:\\Users\\fatin\\AppData\\Local\\Programs\\Python\\Python312\\Lib\\site-packages\\h2o\\job.py:81: UserWarning: Test/Validation dataset is missing column 'UP_TIME': substituting in a column of NaN\n",
      "  warnings.warn(w)\n",
      "c:\\Users\\fatin\\AppData\\Local\\Programs\\Python\\Python312\\Lib\\site-packages\\h2o\\job.py:81: UserWarning: Test/Validation dataset is missing column 'feels_like': substituting in a column of NaN\n",
      "  warnings.warn(w)\n",
      "c:\\Users\\fatin\\AppData\\Local\\Programs\\Python\\Python312\\Lib\\site-packages\\h2o\\job.py:81: UserWarning: Test/Validation dataset is missing column 'weather_description': substituting in a column of NaN\n",
      "  warnings.warn(w)\n",
      "c:\\Users\\fatin\\AppData\\Local\\Programs\\Python\\Python312\\Lib\\site-packages\\h2o\\job.py:81: UserWarning: Test/Validation dataset is missing column 'REF_CLOSING_DESCRIPTION': substituting in a column of NaN\n",
      "  warnings.warn(w)\n",
      "c:\\Users\\fatin\\AppData\\Local\\Programs\\Python\\Python312\\Lib\\site-packages\\h2o\\job.py:81: UserWarning: Test/Validation dataset is missing column 'ATTENDANCE': substituting in a column of NaN\n",
      "  warnings.warn(w)\n",
      "c:\\Users\\fatin\\AppData\\Local\\Programs\\Python\\Python312\\Lib\\site-packages\\h2o\\job.py:81: UserWarning: Test/Validation dataset is missing column 'NIGHT_SHOW_FLAG': substituting in a column of NaN\n",
      "  warnings.warn(w)\n",
      "c:\\Users\\fatin\\AppData\\Local\\Programs\\Python\\Python312\\Lib\\site-packages\\h2o\\job.py:81: UserWarning: Test/Validation dataset is missing column 'PARADE_FLAG': substituting in a column of NaN\n",
      "  warnings.warn(w)\n",
      "c:\\Users\\fatin\\AppData\\Local\\Programs\\Python\\Python312\\Lib\\site-packages\\h2o\\job.py:81: UserWarning: Test/Validation dataset is missing column 'month_sin': substituting in a column of NaN\n",
      "  warnings.warn(w)\n",
      "c:\\Users\\fatin\\AppData\\Local\\Programs\\Python\\Python312\\Lib\\site-packages\\h2o\\job.py:81: UserWarning: Test/Validation dataset is missing column 'month_cos': substituting in a column of NaN\n",
      "  warnings.warn(w)\n",
      "c:\\Users\\fatin\\AppData\\Local\\Programs\\Python\\Python312\\Lib\\site-packages\\h2o\\frame.py:1983: H2ODependencyWarning: Converting H2O frame to pandas dataframe using single-thread.  For faster conversion using multi-thread, install polars and pyarrow and use it as pandas_df = h2o_df.as_data_frame(use_multi_thread=True)\n",
      "\n",
      "  warnings.warn(\"Converting H2O frame to pandas dataframe using single-thread.  For faster conversion using\"\n"
     ]
    }
   ],
   "source": [
    "import pandas as pd\n",
    "import numpy as np\n",
    "import h2o\n",
    "from h2o.automl import H2OAutoML\n",
    "from h2o.estimators import H2ORandomForestEstimator\n",
    "import matplotlib.pyplot as plt\n",
    "\n",
    "# =====================\n",
    "# Partie 1 : Prétraitement et conversion en H2OFrame\n",
    "# =====================\n",
    "\n",
    "# 1. Chargement des données\n",
    "df = pd.read_csv('final_data/merged_datasets_with_events.csv', sep=',')\n",
    "\n",
    "# 2. Conversion des colonnes de date en datetime\n",
    "df['WORK_DATE'] = pd.to_datetime(df['WORK_DATE'])\n",
    "df['DEB_TIME'] = pd.to_datetime(df['DEB_TIME'])\n",
    "\n",
    "# 3. Création de nouvelles features temporelles (avant filtrage)\n",
    "df['month'] = df['WORK_DATE'].dt.month\n",
    "df['day'] = df['WORK_DATE'].dt.day\n",
    "df['weekday'] = df['WORK_DATE'].dt.dayofweek\n",
    "df['hour'] = df['DEB_TIME'].dt.hour\n",
    "df['minute'] = df['DEB_TIME'].dt.minute\n",
    "\n",
    "# 4. Filtrage de la période Covid\n",
    "covid_start = pd.to_datetime('2020-03-01')\n",
    "covid_stop  = pd.to_datetime('2022-01-01')\n",
    "df = df[(df['WORK_DATE'] < covid_start) | (df['WORK_DATE'] > covid_stop)]\n",
    "\n",
    "# 5. Encodage cyclique pour capturer la cyclicité des variables temporelles\n",
    "def encode_cyclic_feature(df, col, max_val):\n",
    "    df[f'{col}_sin'] = np.sin(2 * np.pi * df[col] / max_val)\n",
    "    df[f'{col}_cos'] = np.cos(2 * np.pi * df[col] / max_val)\n",
    "    return df.drop(columns=[col])\n",
    "\n",
    "df = encode_cyclic_feature(df, 'month', 12)\n",
    "df = encode_cyclic_feature(df, 'day', 31)\n",
    "df = encode_cyclic_feature(df, 'weekday', 7)\n",
    "df = encode_cyclic_feature(df, 'hour', 24)\n",
    "df = encode_cyclic_feature(df, 'minute', 60)\n",
    "\n",
    "# 6. Suppression des colonnes non désirées\n",
    "colonnes_a_supprimer = [\n",
    "    'DEB_TIME_HOUR', 'NB_UNITS', 'GUEST_CARRIED', 'ADJUST_CAPACITY',\n",
    "    'NB_MAX_UNIT', 'temp', 'humidity', 'DEB_TIME', 'WORK_DATE',\n",
    "    'FIN_TIME', 'wind_speed', 'rain_1h', 'rain_3h', 'snow_1h', 'DOWNTIME'\n",
    "]\n",
    "colonnes_a_supprimer = [col for col in colonnes_a_supprimer if col in df.columns]\n",
    "df = df.drop(columns=colonnes_a_supprimer)\n",
    "\n",
    "# 7. Conversion des variables catégorielles (si nécessaire)\n",
    "colonnes_categorielles = ['weather_description', 'REF_CLOSING_DESCRIPTION', \n",
    "                          'ENTITY_DESCRIPTION_SHORT', 'NIGHT_SHOW_FLAG', 'PARADE_FLAG']\n",
    "for col in colonnes_categorielles:\n",
    "    if col in df.columns:\n",
    "        df[col] = df[col].astype('category')\n",
    "\n",
    "# 8. Initialisation de H2O et conversion en H2OFrame\n",
    "h2o.init()\n",
    "hf = h2o.H2OFrame(df)\n",
    "\n",
    "# Conversion des colonnes catégorielles en facteurs dans H2O\n",
    "for col in colonnes_categorielles:\n",
    "    if col in hf.columns:\n",
    "        hf[col] = hf[col].asfactor()\n",
    "\n",
    "# =====================\n",
    "# Partie 2 : Entraînement d'un modèle DRF par attraction et affichage de graphiques\n",
    "# =====================\n",
    "\n",
    "# Récupérer les prédicteurs globaux (on retire la cible et l'identifiant)\n",
    "all_cols = hf.columns\n",
    "predictors_global = [col for col in all_cols if col not in [\"WAIT_TIME_MAX\", \"ENTITY_DESCRIPTION_SHORT\"]]\n",
    "\n",
    "# Récupérer la liste des attractions uniques\n",
    "unique_attractions = hf[\"ENTITY_DESCRIPTION_SHORT\"].unique().as_data_frame(use_pandas=True).iloc[:,0].tolist()\n",
    "\n",
    "results = []           # Pour stocker les métriques de chaque attraction\n",
    "models_per_attraction = {}  # Pour conserver le modèle entraîné pour chaque attraction\n",
    "\n",
    "# Boucle sur chaque attraction\n",
    "for attraction in unique_attractions:\n",
    "    # Filtrer les données pour l'attraction en cours\n",
    "    data_attraction = hf[hf[\"ENTITY_DESCRIPTION_SHORT\"] == attraction]\n",
    "    \n",
    "    # Ne traiter que les attractions avec au moins 50 observations\n",
    "    if data_attraction.nrows < 50:\n",
    "        print(f\"Skipping attraction {attraction} (only {data_attraction.nrows} rows)\")\n",
    "        continue\n",
    "\n",
    "    # Définir les prédicteurs pour ce modèle (retirer la cible et l'identifiant)\n",
    "    predictors = [col for col in data_attraction.columns if col not in [\"WAIT_TIME_MAX\", \"ENTITY_DESCRIPTION_SHORT\"]]\n",
    "    \n",
    "    # Division en ensembles d'entraînement et de test (80/20)\n",
    "    splits = data_attraction.split_frame(ratios=[0.8], seed=42)\n",
    "    train_attraction = splits[0]\n",
    "    test_attraction  = splits[1]\n",
    "    \n",
    "    # Entraîner le modèle DRF (paramètres inspirés du modèle sélectionné)\n",
    "    drf_model = H2ORandomForestEstimator(\n",
    "        ntrees=50,\n",
    "        max_depth=20,\n",
    "        seed=42\n",
    "    )\n",
    "    drf_model.train(x=predictors, y=\"WAIT_TIME_MAX\", training_frame=train_attraction)\n",
    "    \n",
    "    # Évaluation sur le jeu de test\n",
    "    perf = drf_model.model_performance(test_attraction)\n",
    "    rmse = perf.rmse()\n",
    "    mae = perf.mae()\n",
    "    \n",
    "    results.append({\n",
    "        \"attraction\": attraction,\n",
    "        \"n_rows\": data_attraction.nrows,\n",
    "        \"rmse\": rmse,\n",
    "        \"mae\": mae,\n",
    "        \"model_id\": drf_model.model_id\n",
    "    })\n",
    "    \n",
    "    models_per_attraction[attraction] = drf_model\n",
    "    \n",
    "    # Obtenir les prédictions sur le test et conversion en DataFrame pandas\n",
    "    pred_attraction = drf_model.predict(test_attraction)\n",
    "    test_df = test_attraction.as_data_frame()\n",
    "    pred_df = pred_attraction.as_data_frame()\n",
    "    \n",
    " \n",
    "\n",
    "# Affichage d'un résumé des performances par attraction\n",
    "results_df = pd.DataFrame(results)\n",
    "print(\"Performance par attraction:\")\n",
    "print(results_df)\n",
    "\n",
    "# =====================\n",
    "# Partie 3 : Fonction de prédiction sur de nouvelles données\n",
    "# =====================\n",
    "\n",
    "def predict_wait_time(model, input_features: dict):\n",
    "    \"\"\"\n",
    "    Prédit le WAIT_TIME_MAX à partir d'un dictionnaire de features.\n",
    "    Le dictionnaire input_features doit contenir toutes les variables attendues\n",
    "    (par exemple : jour, heure, weather_description, température, etc.).\n",
    "    \"\"\"\n",
    "    # Convertir le dictionnaire en DataFrame pandas puis en H2OFrame\n",
    "    input_df = pd.DataFrame([input_features])\n",
    "    input_hf = h2o.H2OFrame(input_df)\n",
    "    \n",
    "    # Si certaines colonnes catégorielles doivent être considérées comme facteurs,\n",
    "    # on les convertit ici\n",
    "    categorical_cols = ['weather_description', 'REF_CLOSING_DESCRIPTION', \n",
    "                          'ENTITY_DESCRIPTION_SHORT', 'NIGHT_SHOW_FLAG', 'PARADE_FLAG']\n",
    "    for col in categorical_cols:\n",
    "        if col in input_hf.columns:\n",
    "            input_hf[col] = input_hf[col].asfactor()\n",
    "    \n",
    "    # Prédiction\n",
    "    pred = model.predict(input_hf)\n",
    "    pred_value = pred.as_data_frame()['predict'][0]\n",
    "    return pred_value\n",
    "\n",
    "# Exemple d'utilisation de la fonction de prédiction pour une attraction donnée\n",
    "exemple_attraction = results_df[\"attraction\"].iloc[0]  # par exemple, le premier de la liste\n",
    "selected_model = models_per_attraction[exemple_attraction]\n",
    "\n",
    "# Exemple d'input pour la prédiction : adaptez les noms de variables aux features attendues\n",
    "input_example = {\n",
    "    # Remplissez ici avec vos valeurs d'exemple :\n",
    "    \"day_sin\": 0.5,\n",
    "    \"day_cos\": 0.866,\n",
    "    \"weekday_sin\": 0.7,\n",
    "    \"weekday_cos\": 0.714,\n",
    "    \"hour_sin\": 0.3,\n",
    "    \"hour_cos\": 0.954,\n",
    "    \"minute_sin\": 0.1,\n",
    "    \"minute_cos\": 0.995,\n",
    "    # Ajoutez les autres features requises, par ex. 'weather_description', etc.\n",
    "}\n",
    "\n",
    "predicted_wait_time = predict_wait_time(selected_model, input_example)\n",
    "print(f\"Pour l'attraction {exemple_attraction}, la prédiction de WAIT_TIME_MAX est : {predicted_wait_time}\")\n"
   ]
  },
  {
   "cell_type": "code",
   "execution_count": 3,
   "metadata": {},
   "outputs": [
    {
     "name": "stdout",
     "output_type": "stream",
     "text": [
      "drf prediction progress: |███████████████████████████████████████████████████████| (done) 100%\n"
     ]
    },
    {
     "name": "stderr",
     "output_type": "stream",
     "text": [
      "c:\\Users\\fatin\\AppData\\Local\\Programs\\Python\\Python312\\Lib\\site-packages\\h2o\\frame.py:1983: H2ODependencyWarning: Converting H2O frame to pandas dataframe using single-thread.  For faster conversion using multi-thread, install polars and pyarrow and use it as pandas_df = h2o_df.as_data_frame(use_multi_thread=True)\n",
      "\n",
      "  warnings.warn(\"Converting H2O frame to pandas dataframe using single-thread.  For faster conversion using\"\n",
      "c:\\Users\\fatin\\AppData\\Local\\Programs\\Python\\Python312\\Lib\\site-packages\\h2o\\frame.py:1983: H2ODependencyWarning: Converting H2O frame to pandas dataframe using single-thread.  For faster conversion using multi-thread, install polars and pyarrow and use it as pandas_df = h2o_df.as_data_frame(use_multi_thread=True)\n",
      "\n",
      "  warnings.warn(\"Converting H2O frame to pandas dataframe using single-thread.  For faster conversion using\"\n"
     ]
    },
    {
     "name": "stdout",
     "output_type": "stream",
     "text": [
      "drf prediction progress: |███████████████████████████████████████████████████████| (done) 100%\n"
     ]
    },
    {
     "name": "stderr",
     "output_type": "stream",
     "text": [
      "c:\\Users\\fatin\\AppData\\Local\\Programs\\Python\\Python312\\Lib\\site-packages\\h2o\\frame.py:1983: H2ODependencyWarning: Converting H2O frame to pandas dataframe using single-thread.  For faster conversion using multi-thread, install polars and pyarrow and use it as pandas_df = h2o_df.as_data_frame(use_multi_thread=True)\n",
      "\n",
      "  warnings.warn(\"Converting H2O frame to pandas dataframe using single-thread.  For faster conversion using\"\n"
     ]
    },
    {
     "name": "stdout",
     "output_type": "stream",
     "text": [
      "drf prediction progress: |"
     ]
    },
    {
     "name": "stderr",
     "output_type": "stream",
     "text": [
      "c:\\Users\\fatin\\AppData\\Local\\Programs\\Python\\Python312\\Lib\\site-packages\\h2o\\frame.py:1983: H2ODependencyWarning: Converting H2O frame to pandas dataframe using single-thread.  For faster conversion using multi-thread, install polars and pyarrow and use it as pandas_df = h2o_df.as_data_frame(use_multi_thread=True)\n",
      "\n",
      "  warnings.warn(\"Converting H2O frame to pandas dataframe using single-thread.  For faster conversion using\"\n"
     ]
    },
    {
     "name": "stdout",
     "output_type": "stream",
     "text": [
      "███████████████████████████████████████████████████████| (done) 100%\n"
     ]
    },
    {
     "name": "stderr",
     "output_type": "stream",
     "text": [
      "c:\\Users\\fatin\\AppData\\Local\\Programs\\Python\\Python312\\Lib\\site-packages\\h2o\\frame.py:1983: H2ODependencyWarning: Converting H2O frame to pandas dataframe using single-thread.  For faster conversion using multi-thread, install polars and pyarrow and use it as pandas_df = h2o_df.as_data_frame(use_multi_thread=True)\n",
      "\n",
      "  warnings.warn(\"Converting H2O frame to pandas dataframe using single-thread.  For faster conversion using\"\n"
     ]
    },
    {
     "name": "stdout",
     "output_type": "stream",
     "text": [
      "drf prediction progress: |"
     ]
    },
    {
     "name": "stderr",
     "output_type": "stream",
     "text": [
      "c:\\Users\\fatin\\AppData\\Local\\Programs\\Python\\Python312\\Lib\\site-packages\\h2o\\frame.py:1983: H2ODependencyWarning: Converting H2O frame to pandas dataframe using single-thread.  For faster conversion using multi-thread, install polars and pyarrow and use it as pandas_df = h2o_df.as_data_frame(use_multi_thread=True)\n",
      "\n",
      "  warnings.warn(\"Converting H2O frame to pandas dataframe using single-thread.  For faster conversion using\"\n"
     ]
    },
    {
     "name": "stdout",
     "output_type": "stream",
     "text": [
      "███████████████████████████████████████████████████████| (done) 100%\n"
     ]
    },
    {
     "name": "stderr",
     "output_type": "stream",
     "text": [
      "c:\\Users\\fatin\\AppData\\Local\\Programs\\Python\\Python312\\Lib\\site-packages\\h2o\\frame.py:1983: H2ODependencyWarning: Converting H2O frame to pandas dataframe using single-thread.  For faster conversion using multi-thread, install polars and pyarrow and use it as pandas_df = h2o_df.as_data_frame(use_multi_thread=True)\n",
      "\n",
      "  warnings.warn(\"Converting H2O frame to pandas dataframe using single-thread.  For faster conversion using\"\n",
      "c:\\Users\\fatin\\AppData\\Local\\Programs\\Python\\Python312\\Lib\\site-packages\\h2o\\frame.py:1983: H2ODependencyWarning: Converting H2O frame to pandas dataframe using single-thread.  For faster conversion using multi-thread, install polars and pyarrow and use it as pandas_df = h2o_df.as_data_frame(use_multi_thread=True)\n",
      "\n",
      "  warnings.warn(\"Converting H2O frame to pandas dataframe using single-thread.  For faster conversion using\"\n"
     ]
    },
    {
     "name": "stdout",
     "output_type": "stream",
     "text": [
      "drf prediction progress: |███████████████████████████████████████████████████████| (done) 100%\n"
     ]
    },
    {
     "name": "stderr",
     "output_type": "stream",
     "text": [
      "c:\\Users\\fatin\\AppData\\Local\\Programs\\Python\\Python312\\Lib\\site-packages\\h2o\\frame.py:1983: H2ODependencyWarning: Converting H2O frame to pandas dataframe using single-thread.  For faster conversion using multi-thread, install polars and pyarrow and use it as pandas_df = h2o_df.as_data_frame(use_multi_thread=True)\n",
      "\n",
      "  warnings.warn(\"Converting H2O frame to pandas dataframe using single-thread.  For faster conversion using\"\n"
     ]
    },
    {
     "name": "stdout",
     "output_type": "stream",
     "text": [
      "drf prediction progress: |"
     ]
    },
    {
     "name": "stderr",
     "output_type": "stream",
     "text": [
      "c:\\Users\\fatin\\AppData\\Local\\Programs\\Python\\Python312\\Lib\\site-packages\\h2o\\frame.py:1983: H2ODependencyWarning: Converting H2O frame to pandas dataframe using single-thread.  For faster conversion using multi-thread, install polars and pyarrow and use it as pandas_df = h2o_df.as_data_frame(use_multi_thread=True)\n",
      "\n",
      "  warnings.warn(\"Converting H2O frame to pandas dataframe using single-thread.  For faster conversion using\"\n"
     ]
    },
    {
     "name": "stdout",
     "output_type": "stream",
     "text": [
      "███████████████████████████████████████████████████████| (done) 100%\n"
     ]
    },
    {
     "name": "stderr",
     "output_type": "stream",
     "text": [
      "c:\\Users\\fatin\\AppData\\Local\\Programs\\Python\\Python312\\Lib\\site-packages\\h2o\\frame.py:1983: H2ODependencyWarning: Converting H2O frame to pandas dataframe using single-thread.  For faster conversion using multi-thread, install polars and pyarrow and use it as pandas_df = h2o_df.as_data_frame(use_multi_thread=True)\n",
      "\n",
      "  warnings.warn(\"Converting H2O frame to pandas dataframe using single-thread.  For faster conversion using\"\n"
     ]
    },
    {
     "name": "stdout",
     "output_type": "stream",
     "text": [
      "drf prediction progress: |"
     ]
    },
    {
     "name": "stderr",
     "output_type": "stream",
     "text": [
      "c:\\Users\\fatin\\AppData\\Local\\Programs\\Python\\Python312\\Lib\\site-packages\\h2o\\frame.py:1983: H2ODependencyWarning: Converting H2O frame to pandas dataframe using single-thread.  For faster conversion using multi-thread, install polars and pyarrow and use it as pandas_df = h2o_df.as_data_frame(use_multi_thread=True)\n",
      "\n",
      "  warnings.warn(\"Converting H2O frame to pandas dataframe using single-thread.  For faster conversion using\"\n"
     ]
    },
    {
     "name": "stdout",
     "output_type": "stream",
     "text": [
      "███████████████████████████████████████████████████████| (done) 100%\n"
     ]
    },
    {
     "name": "stderr",
     "output_type": "stream",
     "text": [
      "c:\\Users\\fatin\\AppData\\Local\\Programs\\Python\\Python312\\Lib\\site-packages\\h2o\\frame.py:1983: H2ODependencyWarning: Converting H2O frame to pandas dataframe using single-thread.  For faster conversion using multi-thread, install polars and pyarrow and use it as pandas_df = h2o_df.as_data_frame(use_multi_thread=True)\n",
      "\n",
      "  warnings.warn(\"Converting H2O frame to pandas dataframe using single-thread.  For faster conversion using\"\n",
      "c:\\Users\\fatin\\AppData\\Local\\Programs\\Python\\Python312\\Lib\\site-packages\\h2o\\frame.py:1983: H2ODependencyWarning: Converting H2O frame to pandas dataframe using single-thread.  For faster conversion using multi-thread, install polars and pyarrow and use it as pandas_df = h2o_df.as_data_frame(use_multi_thread=True)\n",
      "\n",
      "  warnings.warn(\"Converting H2O frame to pandas dataframe using single-thread.  For faster conversion using\"\n"
     ]
    },
    {
     "name": "stdout",
     "output_type": "stream",
     "text": [
      "drf prediction progress: |███████████████████████████████████████████████████████| (done) 100%\n"
     ]
    },
    {
     "name": "stderr",
     "output_type": "stream",
     "text": [
      "c:\\Users\\fatin\\AppData\\Local\\Programs\\Python\\Python312\\Lib\\site-packages\\h2o\\frame.py:1983: H2ODependencyWarning: Converting H2O frame to pandas dataframe using single-thread.  For faster conversion using multi-thread, install polars and pyarrow and use it as pandas_df = h2o_df.as_data_frame(use_multi_thread=True)\n",
      "\n",
      "  warnings.warn(\"Converting H2O frame to pandas dataframe using single-thread.  For faster conversion using\"\n",
      "c:\\Users\\fatin\\AppData\\Local\\Programs\\Python\\Python312\\Lib\\site-packages\\h2o\\frame.py:1983: H2ODependencyWarning: Converting H2O frame to pandas dataframe using single-thread.  For faster conversion using multi-thread, install polars and pyarrow and use it as pandas_df = h2o_df.as_data_frame(use_multi_thread=True)\n",
      "\n",
      "  warnings.warn(\"Converting H2O frame to pandas dataframe using single-thread.  For faster conversion using\"\n"
     ]
    },
    {
     "name": "stdout",
     "output_type": "stream",
     "text": [
      "drf prediction progress: |███████████████████████████████████████████████████████| (done) 100%\n"
     ]
    },
    {
     "name": "stderr",
     "output_type": "stream",
     "text": [
      "c:\\Users\\fatin\\AppData\\Local\\Programs\\Python\\Python312\\Lib\\site-packages\\h2o\\frame.py:1983: H2ODependencyWarning: Converting H2O frame to pandas dataframe using single-thread.  For faster conversion using multi-thread, install polars and pyarrow and use it as pandas_df = h2o_df.as_data_frame(use_multi_thread=True)\n",
      "\n",
      "  warnings.warn(\"Converting H2O frame to pandas dataframe using single-thread.  For faster conversion using\"\n"
     ]
    },
    {
     "name": "stdout",
     "output_type": "stream",
     "text": [
      "drf prediction progress: |"
     ]
    },
    {
     "name": "stderr",
     "output_type": "stream",
     "text": [
      "c:\\Users\\fatin\\AppData\\Local\\Programs\\Python\\Python312\\Lib\\site-packages\\h2o\\frame.py:1983: H2ODependencyWarning: Converting H2O frame to pandas dataframe using single-thread.  For faster conversion using multi-thread, install polars and pyarrow and use it as pandas_df = h2o_df.as_data_frame(use_multi_thread=True)\n",
      "\n",
      "  warnings.warn(\"Converting H2O frame to pandas dataframe using single-thread.  For faster conversion using\"\n"
     ]
    },
    {
     "name": "stdout",
     "output_type": "stream",
     "text": [
      "███████████████████████████████████████████████████████| (done) 100%\n"
     ]
    },
    {
     "name": "stderr",
     "output_type": "stream",
     "text": [
      "c:\\Users\\fatin\\AppData\\Local\\Programs\\Python\\Python312\\Lib\\site-packages\\h2o\\frame.py:1983: H2ODependencyWarning: Converting H2O frame to pandas dataframe using single-thread.  For faster conversion using multi-thread, install polars and pyarrow and use it as pandas_df = h2o_df.as_data_frame(use_multi_thread=True)\n",
      "\n",
      "  warnings.warn(\"Converting H2O frame to pandas dataframe using single-thread.  For faster conversion using\"\n",
      "c:\\Users\\fatin\\AppData\\Local\\Programs\\Python\\Python312\\Lib\\site-packages\\h2o\\frame.py:1983: H2ODependencyWarning: Converting H2O frame to pandas dataframe using single-thread.  For faster conversion using multi-thread, install polars and pyarrow and use it as pandas_df = h2o_df.as_data_frame(use_multi_thread=True)\n",
      "\n",
      "  warnings.warn(\"Converting H2O frame to pandas dataframe using single-thread.  For faster conversion using\"\n"
     ]
    },
    {
     "name": "stdout",
     "output_type": "stream",
     "text": [
      "drf prediction progress: |███████████████████████████████████████████████████████| (done) 100%\n"
     ]
    },
    {
     "name": "stderr",
     "output_type": "stream",
     "text": [
      "c:\\Users\\fatin\\AppData\\Local\\Programs\\Python\\Python312\\Lib\\site-packages\\h2o\\frame.py:1983: H2ODependencyWarning: Converting H2O frame to pandas dataframe using single-thread.  For faster conversion using multi-thread, install polars and pyarrow and use it as pandas_df = h2o_df.as_data_frame(use_multi_thread=True)\n",
      "\n",
      "  warnings.warn(\"Converting H2O frame to pandas dataframe using single-thread.  For faster conversion using\"\n"
     ]
    },
    {
     "name": "stdout",
     "output_type": "stream",
     "text": [
      "drf prediction progress: |"
     ]
    },
    {
     "name": "stderr",
     "output_type": "stream",
     "text": [
      "c:\\Users\\fatin\\AppData\\Local\\Programs\\Python\\Python312\\Lib\\site-packages\\h2o\\frame.py:1983: H2ODependencyWarning: Converting H2O frame to pandas dataframe using single-thread.  For faster conversion using multi-thread, install polars and pyarrow and use it as pandas_df = h2o_df.as_data_frame(use_multi_thread=True)\n",
      "\n",
      "  warnings.warn(\"Converting H2O frame to pandas dataframe using single-thread.  For faster conversion using\"\n"
     ]
    },
    {
     "name": "stdout",
     "output_type": "stream",
     "text": [
      "███████████████████████████████████████████████████████| (done) 100%\n"
     ]
    },
    {
     "name": "stderr",
     "output_type": "stream",
     "text": [
      "c:\\Users\\fatin\\AppData\\Local\\Programs\\Python\\Python312\\Lib\\site-packages\\h2o\\frame.py:1983: H2ODependencyWarning: Converting H2O frame to pandas dataframe using single-thread.  For faster conversion using multi-thread, install polars and pyarrow and use it as pandas_df = h2o_df.as_data_frame(use_multi_thread=True)\n",
      "\n",
      "  warnings.warn(\"Converting H2O frame to pandas dataframe using single-thread.  For faster conversion using\"\n"
     ]
    },
    {
     "name": "stdout",
     "output_type": "stream",
     "text": [
      "drf prediction progress: |"
     ]
    },
    {
     "name": "stderr",
     "output_type": "stream",
     "text": [
      "c:\\Users\\fatin\\AppData\\Local\\Programs\\Python\\Python312\\Lib\\site-packages\\h2o\\frame.py:1983: H2ODependencyWarning: Converting H2O frame to pandas dataframe using single-thread.  For faster conversion using multi-thread, install polars and pyarrow and use it as pandas_df = h2o_df.as_data_frame(use_multi_thread=True)\n",
      "\n",
      "  warnings.warn(\"Converting H2O frame to pandas dataframe using single-thread.  For faster conversion using\"\n"
     ]
    },
    {
     "name": "stdout",
     "output_type": "stream",
     "text": [
      "███████████████████████████████████████████████████████| (done) 100%\n"
     ]
    },
    {
     "name": "stderr",
     "output_type": "stream",
     "text": [
      "c:\\Users\\fatin\\AppData\\Local\\Programs\\Python\\Python312\\Lib\\site-packages\\h2o\\frame.py:1983: H2ODependencyWarning: Converting H2O frame to pandas dataframe using single-thread.  For faster conversion using multi-thread, install polars and pyarrow and use it as pandas_df = h2o_df.as_data_frame(use_multi_thread=True)\n",
      "\n",
      "  warnings.warn(\"Converting H2O frame to pandas dataframe using single-thread.  For faster conversion using\"\n"
     ]
    },
    {
     "name": "stdout",
     "output_type": "stream",
     "text": [
      "drf prediction progress: |"
     ]
    },
    {
     "name": "stderr",
     "output_type": "stream",
     "text": [
      "c:\\Users\\fatin\\AppData\\Local\\Programs\\Python\\Python312\\Lib\\site-packages\\h2o\\frame.py:1983: H2ODependencyWarning: Converting H2O frame to pandas dataframe using single-thread.  For faster conversion using multi-thread, install polars and pyarrow and use it as pandas_df = h2o_df.as_data_frame(use_multi_thread=True)\n",
      "\n",
      "  warnings.warn(\"Converting H2O frame to pandas dataframe using single-thread.  For faster conversion using\"\n"
     ]
    },
    {
     "name": "stdout",
     "output_type": "stream",
     "text": [
      "███████████████████████████████████████████████████████| (done) 100%\n"
     ]
    },
    {
     "name": "stderr",
     "output_type": "stream",
     "text": [
      "c:\\Users\\fatin\\AppData\\Local\\Programs\\Python\\Python312\\Lib\\site-packages\\h2o\\frame.py:1983: H2ODependencyWarning: Converting H2O frame to pandas dataframe using single-thread.  For faster conversion using multi-thread, install polars and pyarrow and use it as pandas_df = h2o_df.as_data_frame(use_multi_thread=True)\n",
      "\n",
      "  warnings.warn(\"Converting H2O frame to pandas dataframe using single-thread.  For faster conversion using\"\n"
     ]
    },
    {
     "name": "stdout",
     "output_type": "stream",
     "text": [
      "drf prediction progress: |"
     ]
    },
    {
     "name": "stderr",
     "output_type": "stream",
     "text": [
      "c:\\Users\\fatin\\AppData\\Local\\Programs\\Python\\Python312\\Lib\\site-packages\\h2o\\frame.py:1983: H2ODependencyWarning: Converting H2O frame to pandas dataframe using single-thread.  For faster conversion using multi-thread, install polars and pyarrow and use it as pandas_df = h2o_df.as_data_frame(use_multi_thread=True)\n",
      "\n",
      "  warnings.warn(\"Converting H2O frame to pandas dataframe using single-thread.  For faster conversion using\"\n"
     ]
    },
    {
     "name": "stdout",
     "output_type": "stream",
     "text": [
      "███████████████████████████████████████████████████████| (done) 100%\n"
     ]
    },
    {
     "name": "stderr",
     "output_type": "stream",
     "text": [
      "c:\\Users\\fatin\\AppData\\Local\\Programs\\Python\\Python312\\Lib\\site-packages\\h2o\\frame.py:1983: H2ODependencyWarning: Converting H2O frame to pandas dataframe using single-thread.  For faster conversion using multi-thread, install polars and pyarrow and use it as pandas_df = h2o_df.as_data_frame(use_multi_thread=True)\n",
      "\n",
      "  warnings.warn(\"Converting H2O frame to pandas dataframe using single-thread.  For faster conversion using\"\n"
     ]
    },
    {
     "name": "stdout",
     "output_type": "stream",
     "text": [
      "drf prediction progress: |"
     ]
    },
    {
     "name": "stderr",
     "output_type": "stream",
     "text": [
      "c:\\Users\\fatin\\AppData\\Local\\Programs\\Python\\Python312\\Lib\\site-packages\\h2o\\frame.py:1983: H2ODependencyWarning: Converting H2O frame to pandas dataframe using single-thread.  For faster conversion using multi-thread, install polars and pyarrow and use it as pandas_df = h2o_df.as_data_frame(use_multi_thread=True)\n",
      "\n",
      "  warnings.warn(\"Converting H2O frame to pandas dataframe using single-thread.  For faster conversion using\"\n"
     ]
    },
    {
     "name": "stdout",
     "output_type": "stream",
     "text": [
      "███████████████████████████████████████████████████████| (done) 100%\n"
     ]
    },
    {
     "name": "stderr",
     "output_type": "stream",
     "text": [
      "c:\\Users\\fatin\\AppData\\Local\\Programs\\Python\\Python312\\Lib\\site-packages\\h2o\\frame.py:1983: H2ODependencyWarning: Converting H2O frame to pandas dataframe using single-thread.  For faster conversion using multi-thread, install polars and pyarrow and use it as pandas_df = h2o_df.as_data_frame(use_multi_thread=True)\n",
      "\n",
      "  warnings.warn(\"Converting H2O frame to pandas dataframe using single-thread.  For faster conversion using\"\n"
     ]
    },
    {
     "name": "stdout",
     "output_type": "stream",
     "text": [
      "drf prediction progress: |"
     ]
    },
    {
     "name": "stderr",
     "output_type": "stream",
     "text": [
      "c:\\Users\\fatin\\AppData\\Local\\Programs\\Python\\Python312\\Lib\\site-packages\\h2o\\frame.py:1983: H2ODependencyWarning: Converting H2O frame to pandas dataframe using single-thread.  For faster conversion using multi-thread, install polars and pyarrow and use it as pandas_df = h2o_df.as_data_frame(use_multi_thread=True)\n",
      "\n",
      "  warnings.warn(\"Converting H2O frame to pandas dataframe using single-thread.  For faster conversion using\"\n"
     ]
    },
    {
     "name": "stdout",
     "output_type": "stream",
     "text": [
      "███████████████████████████████████████████████████████| (done) 100%\n"
     ]
    },
    {
     "name": "stderr",
     "output_type": "stream",
     "text": [
      "c:\\Users\\fatin\\AppData\\Local\\Programs\\Python\\Python312\\Lib\\site-packages\\h2o\\frame.py:1983: H2ODependencyWarning: Converting H2O frame to pandas dataframe using single-thread.  For faster conversion using multi-thread, install polars and pyarrow and use it as pandas_df = h2o_df.as_data_frame(use_multi_thread=True)\n",
      "\n",
      "  warnings.warn(\"Converting H2O frame to pandas dataframe using single-thread.  For faster conversion using\"\n"
     ]
    },
    {
     "name": "stdout",
     "output_type": "stream",
     "text": [
      "drf prediction progress: |"
     ]
    },
    {
     "name": "stderr",
     "output_type": "stream",
     "text": [
      "c:\\Users\\fatin\\AppData\\Local\\Programs\\Python\\Python312\\Lib\\site-packages\\h2o\\frame.py:1983: H2ODependencyWarning: Converting H2O frame to pandas dataframe using single-thread.  For faster conversion using multi-thread, install polars and pyarrow and use it as pandas_df = h2o_df.as_data_frame(use_multi_thread=True)\n",
      "\n",
      "  warnings.warn(\"Converting H2O frame to pandas dataframe using single-thread.  For faster conversion using\"\n"
     ]
    },
    {
     "name": "stdout",
     "output_type": "stream",
     "text": [
      "███████████████████████████████████████████████████████| (done) 100%\n"
     ]
    },
    {
     "name": "stderr",
     "output_type": "stream",
     "text": [
      "c:\\Users\\fatin\\AppData\\Local\\Programs\\Python\\Python312\\Lib\\site-packages\\h2o\\frame.py:1983: H2ODependencyWarning: Converting H2O frame to pandas dataframe using single-thread.  For faster conversion using multi-thread, install polars and pyarrow and use it as pandas_df = h2o_df.as_data_frame(use_multi_thread=True)\n",
      "\n",
      "  warnings.warn(\"Converting H2O frame to pandas dataframe using single-thread.  For faster conversion using\"\n"
     ]
    },
    {
     "name": "stdout",
     "output_type": "stream",
     "text": [
      "drf prediction progress: |"
     ]
    },
    {
     "name": "stderr",
     "output_type": "stream",
     "text": [
      "c:\\Users\\fatin\\AppData\\Local\\Programs\\Python\\Python312\\Lib\\site-packages\\h2o\\frame.py:1983: H2ODependencyWarning: Converting H2O frame to pandas dataframe using single-thread.  For faster conversion using multi-thread, install polars and pyarrow and use it as pandas_df = h2o_df.as_data_frame(use_multi_thread=True)\n",
      "\n",
      "  warnings.warn(\"Converting H2O frame to pandas dataframe using single-thread.  For faster conversion using\"\n"
     ]
    },
    {
     "name": "stdout",
     "output_type": "stream",
     "text": [
      "███████████████████████████████████████████████████████| (done) 100%\n"
     ]
    },
    {
     "name": "stderr",
     "output_type": "stream",
     "text": [
      "c:\\Users\\fatin\\AppData\\Local\\Programs\\Python\\Python312\\Lib\\site-packages\\h2o\\frame.py:1983: H2ODependencyWarning: Converting H2O frame to pandas dataframe using single-thread.  For faster conversion using multi-thread, install polars and pyarrow and use it as pandas_df = h2o_df.as_data_frame(use_multi_thread=True)\n",
      "\n",
      "  warnings.warn(\"Converting H2O frame to pandas dataframe using single-thread.  For faster conversion using\"\n"
     ]
    },
    {
     "name": "stdout",
     "output_type": "stream",
     "text": [
      "drf prediction progress: |"
     ]
    },
    {
     "name": "stderr",
     "output_type": "stream",
     "text": [
      "c:\\Users\\fatin\\AppData\\Local\\Programs\\Python\\Python312\\Lib\\site-packages\\h2o\\frame.py:1983: H2ODependencyWarning: Converting H2O frame to pandas dataframe using single-thread.  For faster conversion using multi-thread, install polars and pyarrow and use it as pandas_df = h2o_df.as_data_frame(use_multi_thread=True)\n",
      "\n",
      "  warnings.warn(\"Converting H2O frame to pandas dataframe using single-thread.  For faster conversion using\"\n"
     ]
    },
    {
     "name": "stdout",
     "output_type": "stream",
     "text": [
      "███████████████████████████████████████████████████████| (done) 100%\n"
     ]
    },
    {
     "name": "stderr",
     "output_type": "stream",
     "text": [
      "c:\\Users\\fatin\\AppData\\Local\\Programs\\Python\\Python312\\Lib\\site-packages\\h2o\\frame.py:1983: H2ODependencyWarning: Converting H2O frame to pandas dataframe using single-thread.  For faster conversion using multi-thread, install polars and pyarrow and use it as pandas_df = h2o_df.as_data_frame(use_multi_thread=True)\n",
      "\n",
      "  warnings.warn(\"Converting H2O frame to pandas dataframe using single-thread.  For faster conversion using\"\n"
     ]
    },
    {
     "name": "stdout",
     "output_type": "stream",
     "text": [
      "drf prediction progress: |"
     ]
    },
    {
     "name": "stderr",
     "output_type": "stream",
     "text": [
      "c:\\Users\\fatin\\AppData\\Local\\Programs\\Python\\Python312\\Lib\\site-packages\\h2o\\frame.py:1983: H2ODependencyWarning: Converting H2O frame to pandas dataframe using single-thread.  For faster conversion using multi-thread, install polars and pyarrow and use it as pandas_df = h2o_df.as_data_frame(use_multi_thread=True)\n",
      "\n",
      "  warnings.warn(\"Converting H2O frame to pandas dataframe using single-thread.  For faster conversion using\"\n"
     ]
    },
    {
     "name": "stdout",
     "output_type": "stream",
     "text": [
      "███████████████████████████████████████████████████████| (done) 100%\n"
     ]
    },
    {
     "name": "stderr",
     "output_type": "stream",
     "text": [
      "c:\\Users\\fatin\\AppData\\Local\\Programs\\Python\\Python312\\Lib\\site-packages\\h2o\\frame.py:1983: H2ODependencyWarning: Converting H2O frame to pandas dataframe using single-thread.  For faster conversion using multi-thread, install polars and pyarrow and use it as pandas_df = h2o_df.as_data_frame(use_multi_thread=True)\n",
      "\n",
      "  warnings.warn(\"Converting H2O frame to pandas dataframe using single-thread.  For faster conversion using\"\n"
     ]
    },
    {
     "name": "stdout",
     "output_type": "stream",
     "text": [
      "drf prediction progress: |"
     ]
    },
    {
     "name": "stderr",
     "output_type": "stream",
     "text": [
      "c:\\Users\\fatin\\AppData\\Local\\Programs\\Python\\Python312\\Lib\\site-packages\\h2o\\frame.py:1983: H2ODependencyWarning: Converting H2O frame to pandas dataframe using single-thread.  For faster conversion using multi-thread, install polars and pyarrow and use it as pandas_df = h2o_df.as_data_frame(use_multi_thread=True)\n",
      "\n",
      "  warnings.warn(\"Converting H2O frame to pandas dataframe using single-thread.  For faster conversion using\"\n"
     ]
    },
    {
     "name": "stdout",
     "output_type": "stream",
     "text": [
      "███████████████████████████████████████████████████████| (done) 100%\n"
     ]
    },
    {
     "name": "stderr",
     "output_type": "stream",
     "text": [
      "c:\\Users\\fatin\\AppData\\Local\\Programs\\Python\\Python312\\Lib\\site-packages\\h2o\\frame.py:1983: H2ODependencyWarning: Converting H2O frame to pandas dataframe using single-thread.  For faster conversion using multi-thread, install polars and pyarrow and use it as pandas_df = h2o_df.as_data_frame(use_multi_thread=True)\n",
      "\n",
      "  warnings.warn(\"Converting H2O frame to pandas dataframe using single-thread.  For faster conversion using\"\n"
     ]
    },
    {
     "name": "stdout",
     "output_type": "stream",
     "text": [
      "drf prediction progress: |"
     ]
    },
    {
     "name": "stderr",
     "output_type": "stream",
     "text": [
      "c:\\Users\\fatin\\AppData\\Local\\Programs\\Python\\Python312\\Lib\\site-packages\\h2o\\frame.py:1983: H2ODependencyWarning: Converting H2O frame to pandas dataframe using single-thread.  For faster conversion using multi-thread, install polars and pyarrow and use it as pandas_df = h2o_df.as_data_frame(use_multi_thread=True)\n",
      "\n",
      "  warnings.warn(\"Converting H2O frame to pandas dataframe using single-thread.  For faster conversion using\"\n"
     ]
    },
    {
     "name": "stdout",
     "output_type": "stream",
     "text": [
      "███████████████████████████████████████████████████████| (done) 100%\n"
     ]
    },
    {
     "name": "stderr",
     "output_type": "stream",
     "text": [
      "c:\\Users\\fatin\\AppData\\Local\\Programs\\Python\\Python312\\Lib\\site-packages\\h2o\\frame.py:1983: H2ODependencyWarning: Converting H2O frame to pandas dataframe using single-thread.  For faster conversion using multi-thread, install polars and pyarrow and use it as pandas_df = h2o_df.as_data_frame(use_multi_thread=True)\n",
      "\n",
      "  warnings.warn(\"Converting H2O frame to pandas dataframe using single-thread.  For faster conversion using\"\n"
     ]
    },
    {
     "name": "stdout",
     "output_type": "stream",
     "text": [
      "drf prediction progress: |"
     ]
    },
    {
     "name": "stderr",
     "output_type": "stream",
     "text": [
      "c:\\Users\\fatin\\AppData\\Local\\Programs\\Python\\Python312\\Lib\\site-packages\\h2o\\frame.py:1983: H2ODependencyWarning: Converting H2O frame to pandas dataframe using single-thread.  For faster conversion using multi-thread, install polars and pyarrow and use it as pandas_df = h2o_df.as_data_frame(use_multi_thread=True)\n",
      "\n",
      "  warnings.warn(\"Converting H2O frame to pandas dataframe using single-thread.  For faster conversion using\"\n"
     ]
    },
    {
     "name": "stdout",
     "output_type": "stream",
     "text": [
      "███████████████████████████████████████████████████████| (done) 100%\n",
      "drf prediction progress: |"
     ]
    },
    {
     "name": "stderr",
     "output_type": "stream",
     "text": [
      "c:\\Users\\fatin\\AppData\\Local\\Programs\\Python\\Python312\\Lib\\site-packages\\h2o\\frame.py:1983: H2ODependencyWarning: Converting H2O frame to pandas dataframe using single-thread.  For faster conversion using multi-thread, install polars and pyarrow and use it as pandas_df = h2o_df.as_data_frame(use_multi_thread=True)\n",
      "\n",
      "  warnings.warn(\"Converting H2O frame to pandas dataframe using single-thread.  For faster conversion using\"\n",
      "c:\\Users\\fatin\\AppData\\Local\\Programs\\Python\\Python312\\Lib\\site-packages\\h2o\\frame.py:1983: H2ODependencyWarning: Converting H2O frame to pandas dataframe using single-thread.  For faster conversion using multi-thread, install polars and pyarrow and use it as pandas_df = h2o_df.as_data_frame(use_multi_thread=True)\n",
      "\n",
      "  warnings.warn(\"Converting H2O frame to pandas dataframe using single-thread.  For faster conversion using\"\n"
     ]
    },
    {
     "name": "stdout",
     "output_type": "stream",
     "text": [
      "███████████████████████████████████████████████████████| (done) 100%\n"
     ]
    },
    {
     "name": "stderr",
     "output_type": "stream",
     "text": [
      "c:\\Users\\fatin\\AppData\\Local\\Programs\\Python\\Python312\\Lib\\site-packages\\h2o\\frame.py:1983: H2ODependencyWarning: Converting H2O frame to pandas dataframe using single-thread.  For faster conversion using multi-thread, install polars and pyarrow and use it as pandas_df = h2o_df.as_data_frame(use_multi_thread=True)\n",
      "\n",
      "  warnings.warn(\"Converting H2O frame to pandas dataframe using single-thread.  For faster conversion using\"\n",
      "c:\\Users\\fatin\\AppData\\Local\\Programs\\Python\\Python312\\Lib\\site-packages\\h2o\\frame.py:1983: H2ODependencyWarning: Converting H2O frame to pandas dataframe using single-thread.  For faster conversion using multi-thread, install polars and pyarrow and use it as pandas_df = h2o_df.as_data_frame(use_multi_thread=True)\n",
      "\n",
      "  warnings.warn(\"Converting H2O frame to pandas dataframe using single-thread.  For faster conversion using\"\n"
     ]
    },
    {
     "name": "stdout",
     "output_type": "stream",
     "text": [
      "drf prediction progress: |███████████████████████████████████████████████████████| (done) 100%\n"
     ]
    },
    {
     "name": "stderr",
     "output_type": "stream",
     "text": [
      "c:\\Users\\fatin\\AppData\\Local\\Programs\\Python\\Python312\\Lib\\site-packages\\h2o\\frame.py:1983: H2ODependencyWarning: Converting H2O frame to pandas dataframe using single-thread.  For faster conversion using multi-thread, install polars and pyarrow and use it as pandas_df = h2o_df.as_data_frame(use_multi_thread=True)\n",
      "\n",
      "  warnings.warn(\"Converting H2O frame to pandas dataframe using single-thread.  For faster conversion using\"\n"
     ]
    },
    {
     "name": "stdout",
     "output_type": "stream",
     "text": [
      "Global RMSE : 4.0049010682457675\n",
      "Global MAE  : 1.688569233497468\n",
      "\n",
      "Aperçu du jeu de données test avec prédictions :\n",
      "  ENTITY_DESCRIPTION_SHORT  WAIT_TIME_MAX  CAPACITY  OPEN_TIME  UP_TIME  \\\n",
      "0              Bumper Cars              0       0.0          0        0   \n",
      "1              Bumper Cars              0       0.0          0        0   \n",
      "2              Bumper Cars              0       0.0          0        0   \n",
      "3              Bumper Cars              0       0.0          0        0   \n",
      "4              Bumper Cars              0       0.0          0        0   \n",
      "\n",
      "   feels_like weather_description REF_CLOSING_DESCRIPTION  ATTENDANCE  \\\n",
      "0       17.05     overcast clouds        Fermeture RÃ©hab       46804   \n",
      "1       20.62          light rain        Fermeture RÃ©hab       46804   \n",
      "2       19.69     overcast clouds        Fermeture RÃ©hab       46804   \n",
      "3       18.73     overcast clouds        Fermeture RÃ©hab       46804   \n",
      "4       17.05     overcast clouds        Fermeture RÃ©hab       46804   \n",
      "\n",
      "   NIGHT_SHOW_FLAG  ...  day_cos  weekday_sin  weekday_cos  hour_sin  \\\n",
      "0                0  ...  0.97953    -0.433884    -0.900969 -0.707107   \n",
      "1                0  ...  0.97953    -0.433884    -0.900969 -0.258819   \n",
      "2                0  ...  0.97953    -0.433884    -0.900969  0.500000   \n",
      "3                0  ...  0.97953    -0.433884    -0.900969  0.707107   \n",
      "4                0  ...  0.97953    -0.433884    -0.900969 -0.707107   \n",
      "\n",
      "   hour_cos    minute_sin    minute_cos  predicted_WAIT_TIME_MAX  residual  \\\n",
      "0  0.707107 -1.000000e+00 -1.836970e-16                      0.0       0.0   \n",
      "1 -0.965926  1.000000e+00  2.832769e-16                      0.0       0.0   \n",
      "2 -0.866025  1.000000e+00  2.832769e-16                      0.0       0.0   \n",
      "3 -0.707107  5.665539e-16 -1.000000e+00                      0.0       0.0   \n",
      "4  0.707107  5.665539e-16 -1.000000e+00                      0.0       0.0   \n",
      "\n",
      "    attraction  \n",
      "0  Bumper Cars  \n",
      "1  Bumper Cars  \n",
      "2  Bumper Cars  \n",
      "3  Bumper Cars  \n",
      "4  Bumper Cars  \n",
      "\n",
      "[5 rows x 24 columns]\n"
     ]
    },
    {
     "name": "stderr",
     "output_type": "stream",
     "text": [
      "c:\\Users\\fatin\\AppData\\Local\\Programs\\Python\\Python312\\Lib\\site-packages\\h2o\\frame.py:1983: H2ODependencyWarning: Converting H2O frame to pandas dataframe using single-thread.  For faster conversion using multi-thread, install polars and pyarrow and use it as pandas_df = h2o_df.as_data_frame(use_multi_thread=True)\n",
      "\n",
      "  warnings.warn(\"Converting H2O frame to pandas dataframe using single-thread.  For faster conversion using\"\n"
     ]
    }
   ],
   "source": [
    "import pandas as pd\n",
    "import numpy as np\n",
    "from sklearn.metrics import mean_squared_error, mean_absolute_error\n",
    "\n",
    "# Initialiser une liste pour stocker les DataFrames de prédictions pour chaque attraction\n",
    "predictions_all = []\n",
    "\n",
    "# Pour chaque attraction ayant un modèle entraîné\n",
    "for attraction in unique_attractions:\n",
    "    # On ne prend en compte que celles pour lesquelles on a entraîné un modèle\n",
    "    if attraction not in models_per_attraction:\n",
    "        continue\n",
    "    model = models_per_attraction[attraction]\n",
    "    \n",
    "    # Filtrer l'ensemble des données pour cette attraction depuis le H2OFrame complet\n",
    "    # (Ici, on utilise toutes les observations pour l'attraction.\n",
    "    # Vous pouvez adapter pour utiliser un sous-ensemble \"test\" si vous l'avez défini.)\n",
    "    test_attraction = hf[hf[\"ENTITY_DESCRIPTION_SHORT\"] == attraction]\n",
    "    \n",
    "    # Effectuer la prédiction avec le modèle DRF de cette attraction\n",
    "    pred_hf = model.predict(test_attraction)\n",
    "    \n",
    "    # Convertir le sous-ensemble test et les prédictions en DataFrame pandas\n",
    "    test_df = test_attraction.as_data_frame()\n",
    "    pred_df = pred_hf.as_data_frame()\n",
    "    \n",
    "    # Ajouter la colonne des prédictions dans le DataFrame\n",
    "    test_df[\"predicted_WAIT_TIME_MAX\"] = pred_df[\"predict\"]\n",
    "    \n",
    "    # Calculer le résidu (erreur) pour chaque observation\n",
    "    test_df[\"residual\"] = test_df[\"WAIT_TIME_MAX\"] - test_df[\"predicted_WAIT_TIME_MAX\"]\n",
    "    \n",
    "    # Ajouter une colonne indiquant l'attraction\n",
    "    test_df[\"attraction\"] = attraction\n",
    "    \n",
    "    predictions_all.append(test_df)\n",
    "\n",
    "# Concaténer toutes les prédictions en un seul DataFrame\n",
    "final_predictions = pd.concat(predictions_all, axis=0)\n",
    "\n",
    "# Calculer les métriques globales sur l'ensemble des prédictions\n",
    "global_rmse = np.sqrt(mean_squared_error(final_predictions[\"WAIT_TIME_MAX\"], final_predictions[\"predicted_WAIT_TIME_MAX\"]))\n",
    "global_mae  = mean_absolute_error(final_predictions[\"WAIT_TIME_MAX\"], final_predictions[\"predicted_WAIT_TIME_MAX\"])\n",
    "\n",
    "print(\"Global RMSE :\", global_rmse)\n",
    "print(\"Global MAE  :\", global_mae)\n",
    "\n",
    "# Afficher quelques lignes du jeu de données test avec les prédictions\n",
    "print(\"\\nAperçu du jeu de données test avec prédictions :\")\n",
    "print(final_predictions.head())\n",
    "\n",
    "# Optionnel : Sauvegarder le jeu de données final dans un fichier CSV\n",
    "# final_predictions.to_csv(\"test_predictions_all_attractions.csv\", index=False)\n"
   ]
  },
  {
   "cell_type": "code",
   "execution_count": 7,
   "metadata": {},
   "outputs": [
    {
     "name": "stdout",
     "output_type": "stream",
     "text": [
      "Parse progress: |████████████████████████████████████████████████████████████████| (done) 100%\n",
      "drf prediction progress: |███████████████████████████████████████████████████████| (done) 100%\n",
      "Parse progress: |████████████████████████████████████████████████████████████████| (done) 100%\n"
     ]
    },
    {
     "name": "stderr",
     "output_type": "stream",
     "text": [
      "c:\\Users\\fatin\\AppData\\Local\\Programs\\Python\\Python312\\Lib\\site-packages\\h2o\\job.py:81: UserWarning: Test/Validation dataset is missing column 'CAPACITY': substituting in a column of NaN\n",
      "  warnings.warn(w)\n",
      "c:\\Users\\fatin\\AppData\\Local\\Programs\\Python\\Python312\\Lib\\site-packages\\h2o\\job.py:81: UserWarning: Test/Validation dataset is missing column 'OPEN_TIME': substituting in a column of NaN\n",
      "  warnings.warn(w)\n",
      "c:\\Users\\fatin\\AppData\\Local\\Programs\\Python\\Python312\\Lib\\site-packages\\h2o\\job.py:81: UserWarning: Test/Validation dataset is missing column 'UP_TIME': substituting in a column of NaN\n",
      "  warnings.warn(w)\n",
      "c:\\Users\\fatin\\AppData\\Local\\Programs\\Python\\Python312\\Lib\\site-packages\\h2o\\job.py:81: UserWarning: Test/Validation dataset is missing column 'feels_like': substituting in a column of NaN\n",
      "  warnings.warn(w)\n",
      "c:\\Users\\fatin\\AppData\\Local\\Programs\\Python\\Python312\\Lib\\site-packages\\h2o\\frame.py:1983: H2ODependencyWarning: Converting H2O frame to pandas dataframe using single-thread.  For faster conversion using multi-thread, install polars and pyarrow and use it as pandas_df = h2o_df.as_data_frame(use_multi_thread=True)\n",
      "\n",
      "  warnings.warn(\"Converting H2O frame to pandas dataframe using single-thread.  For faster conversion using\"\n"
     ]
    },
    {
     "name": "stdout",
     "output_type": "stream",
     "text": [
      "drf prediction progress: |███████████████████████████████████████████████████████| (done) 100%\n",
      "Parse progress: |████████████████████████████████████████████████████████████████| (done) 100%\n"
     ]
    },
    {
     "name": "stderr",
     "output_type": "stream",
     "text": [
      "c:\\Users\\fatin\\AppData\\Local\\Programs\\Python\\Python312\\Lib\\site-packages\\h2o\\job.py:81: UserWarning: Test/Validation dataset is missing column 'CAPACITY': substituting in a column of NaN\n",
      "  warnings.warn(w)\n",
      "c:\\Users\\fatin\\AppData\\Local\\Programs\\Python\\Python312\\Lib\\site-packages\\h2o\\job.py:81: UserWarning: Test/Validation dataset is missing column 'OPEN_TIME': substituting in a column of NaN\n",
      "  warnings.warn(w)\n",
      "c:\\Users\\fatin\\AppData\\Local\\Programs\\Python\\Python312\\Lib\\site-packages\\h2o\\job.py:81: UserWarning: Test/Validation dataset is missing column 'UP_TIME': substituting in a column of NaN\n",
      "  warnings.warn(w)\n",
      "c:\\Users\\fatin\\AppData\\Local\\Programs\\Python\\Python312\\Lib\\site-packages\\h2o\\job.py:81: UserWarning: Test/Validation dataset is missing column 'feels_like': substituting in a column of NaN\n",
      "  warnings.warn(w)\n",
      "c:\\Users\\fatin\\AppData\\Local\\Programs\\Python\\Python312\\Lib\\site-packages\\h2o\\frame.py:1983: H2ODependencyWarning: Converting H2O frame to pandas dataframe using single-thread.  For faster conversion using multi-thread, install polars and pyarrow and use it as pandas_df = h2o_df.as_data_frame(use_multi_thread=True)\n",
      "\n",
      "  warnings.warn(\"Converting H2O frame to pandas dataframe using single-thread.  For faster conversion using\"\n"
     ]
    },
    {
     "name": "stdout",
     "output_type": "stream",
     "text": [
      "drf prediction progress: |███████████████████████████████████████████████████████| (done) 100%\n",
      "Parse progress: |████████████████████████████████████████████████████████████████| (done) 100%\n"
     ]
    },
    {
     "name": "stderr",
     "output_type": "stream",
     "text": [
      "c:\\Users\\fatin\\AppData\\Local\\Programs\\Python\\Python312\\Lib\\site-packages\\h2o\\job.py:81: UserWarning: Test/Validation dataset is missing column 'CAPACITY': substituting in a column of NaN\n",
      "  warnings.warn(w)\n",
      "c:\\Users\\fatin\\AppData\\Local\\Programs\\Python\\Python312\\Lib\\site-packages\\h2o\\job.py:81: UserWarning: Test/Validation dataset is missing column 'OPEN_TIME': substituting in a column of NaN\n",
      "  warnings.warn(w)\n",
      "c:\\Users\\fatin\\AppData\\Local\\Programs\\Python\\Python312\\Lib\\site-packages\\h2o\\job.py:81: UserWarning: Test/Validation dataset is missing column 'UP_TIME': substituting in a column of NaN\n",
      "  warnings.warn(w)\n",
      "c:\\Users\\fatin\\AppData\\Local\\Programs\\Python\\Python312\\Lib\\site-packages\\h2o\\job.py:81: UserWarning: Test/Validation dataset is missing column 'feels_like': substituting in a column of NaN\n",
      "  warnings.warn(w)\n",
      "c:\\Users\\fatin\\AppData\\Local\\Programs\\Python\\Python312\\Lib\\site-packages\\h2o\\frame.py:1983: H2ODependencyWarning: Converting H2O frame to pandas dataframe using single-thread.  For faster conversion using multi-thread, install polars and pyarrow and use it as pandas_df = h2o_df.as_data_frame(use_multi_thread=True)\n",
      "\n",
      "  warnings.warn(\"Converting H2O frame to pandas dataframe using single-thread.  For faster conversion using\"\n"
     ]
    },
    {
     "name": "stdout",
     "output_type": "stream",
     "text": [
      "drf prediction progress: |███████████████████████████████████████████████████████| (done) 100%\n",
      "Parse progress: |████████████████████████████████████████████████████████████████| (done) 100%\n"
     ]
    },
    {
     "name": "stderr",
     "output_type": "stream",
     "text": [
      "c:\\Users\\fatin\\AppData\\Local\\Programs\\Python\\Python312\\Lib\\site-packages\\h2o\\job.py:81: UserWarning: Test/Validation dataset is missing column 'CAPACITY': substituting in a column of NaN\n",
      "  warnings.warn(w)\n",
      "c:\\Users\\fatin\\AppData\\Local\\Programs\\Python\\Python312\\Lib\\site-packages\\h2o\\job.py:81: UserWarning: Test/Validation dataset is missing column 'OPEN_TIME': substituting in a column of NaN\n",
      "  warnings.warn(w)\n",
      "c:\\Users\\fatin\\AppData\\Local\\Programs\\Python\\Python312\\Lib\\site-packages\\h2o\\job.py:81: UserWarning: Test/Validation dataset is missing column 'UP_TIME': substituting in a column of NaN\n",
      "  warnings.warn(w)\n",
      "c:\\Users\\fatin\\AppData\\Local\\Programs\\Python\\Python312\\Lib\\site-packages\\h2o\\job.py:81: UserWarning: Test/Validation dataset is missing column 'feels_like': substituting in a column of NaN\n",
      "  warnings.warn(w)\n",
      "c:\\Users\\fatin\\AppData\\Local\\Programs\\Python\\Python312\\Lib\\site-packages\\h2o\\frame.py:1983: H2ODependencyWarning: Converting H2O frame to pandas dataframe using single-thread.  For faster conversion using multi-thread, install polars and pyarrow and use it as pandas_df = h2o_df.as_data_frame(use_multi_thread=True)\n",
      "\n",
      "  warnings.warn(\"Converting H2O frame to pandas dataframe using single-thread.  For faster conversion using\"\n"
     ]
    },
    {
     "name": "stdout",
     "output_type": "stream",
     "text": [
      "drf prediction progress: |███████████████████████████████████████████████████████| (done) 100%\n",
      "Parse progress: |████████████████████████████████████████████████████████████████| (done) 100%\n"
     ]
    },
    {
     "name": "stderr",
     "output_type": "stream",
     "text": [
      "c:\\Users\\fatin\\AppData\\Local\\Programs\\Python\\Python312\\Lib\\site-packages\\h2o\\job.py:81: UserWarning: Test/Validation dataset is missing column 'CAPACITY': substituting in a column of NaN\n",
      "  warnings.warn(w)\n",
      "c:\\Users\\fatin\\AppData\\Local\\Programs\\Python\\Python312\\Lib\\site-packages\\h2o\\job.py:81: UserWarning: Test/Validation dataset is missing column 'OPEN_TIME': substituting in a column of NaN\n",
      "  warnings.warn(w)\n",
      "c:\\Users\\fatin\\AppData\\Local\\Programs\\Python\\Python312\\Lib\\site-packages\\h2o\\job.py:81: UserWarning: Test/Validation dataset is missing column 'UP_TIME': substituting in a column of NaN\n",
      "  warnings.warn(w)\n",
      "c:\\Users\\fatin\\AppData\\Local\\Programs\\Python\\Python312\\Lib\\site-packages\\h2o\\job.py:81: UserWarning: Test/Validation dataset is missing column 'feels_like': substituting in a column of NaN\n",
      "  warnings.warn(w)\n",
      "c:\\Users\\fatin\\AppData\\Local\\Programs\\Python\\Python312\\Lib\\site-packages\\h2o\\frame.py:1983: H2ODependencyWarning: Converting H2O frame to pandas dataframe using single-thread.  For faster conversion using multi-thread, install polars and pyarrow and use it as pandas_df = h2o_df.as_data_frame(use_multi_thread=True)\n",
      "\n",
      "  warnings.warn(\"Converting H2O frame to pandas dataframe using single-thread.  For faster conversion using\"\n"
     ]
    },
    {
     "name": "stdout",
     "output_type": "stream",
     "text": [
      "drf prediction progress: |███████████████████████████████████████████████████████| (done) 100%\n",
      "Parse progress: |████████████████████████████████████████████████████████████████| (done) 100%\n"
     ]
    },
    {
     "name": "stderr",
     "output_type": "stream",
     "text": [
      "c:\\Users\\fatin\\AppData\\Local\\Programs\\Python\\Python312\\Lib\\site-packages\\h2o\\job.py:81: UserWarning: Test/Validation dataset is missing column 'CAPACITY': substituting in a column of NaN\n",
      "  warnings.warn(w)\n",
      "c:\\Users\\fatin\\AppData\\Local\\Programs\\Python\\Python312\\Lib\\site-packages\\h2o\\job.py:81: UserWarning: Test/Validation dataset is missing column 'OPEN_TIME': substituting in a column of NaN\n",
      "  warnings.warn(w)\n",
      "c:\\Users\\fatin\\AppData\\Local\\Programs\\Python\\Python312\\Lib\\site-packages\\h2o\\job.py:81: UserWarning: Test/Validation dataset is missing column 'UP_TIME': substituting in a column of NaN\n",
      "  warnings.warn(w)\n",
      "c:\\Users\\fatin\\AppData\\Local\\Programs\\Python\\Python312\\Lib\\site-packages\\h2o\\job.py:81: UserWarning: Test/Validation dataset is missing column 'feels_like': substituting in a column of NaN\n",
      "  warnings.warn(w)\n",
      "c:\\Users\\fatin\\AppData\\Local\\Programs\\Python\\Python312\\Lib\\site-packages\\h2o\\frame.py:1983: H2ODependencyWarning: Converting H2O frame to pandas dataframe using single-thread.  For faster conversion using multi-thread, install polars and pyarrow and use it as pandas_df = h2o_df.as_data_frame(use_multi_thread=True)\n",
      "\n",
      "  warnings.warn(\"Converting H2O frame to pandas dataframe using single-thread.  For faster conversion using\"\n"
     ]
    },
    {
     "name": "stdout",
     "output_type": "stream",
     "text": [
      "drf prediction progress: |███████████████████████████████████████████████████████| (done) 100%\n",
      "Parse progress: |"
     ]
    },
    {
     "name": "stderr",
     "output_type": "stream",
     "text": [
      "c:\\Users\\fatin\\AppData\\Local\\Programs\\Python\\Python312\\Lib\\site-packages\\h2o\\job.py:81: UserWarning: Test/Validation dataset is missing column 'CAPACITY': substituting in a column of NaN\n",
      "  warnings.warn(w)\n",
      "c:\\Users\\fatin\\AppData\\Local\\Programs\\Python\\Python312\\Lib\\site-packages\\h2o\\job.py:81: UserWarning: Test/Validation dataset is missing column 'OPEN_TIME': substituting in a column of NaN\n",
      "  warnings.warn(w)\n",
      "c:\\Users\\fatin\\AppData\\Local\\Programs\\Python\\Python312\\Lib\\site-packages\\h2o\\job.py:81: UserWarning: Test/Validation dataset is missing column 'UP_TIME': substituting in a column of NaN\n",
      "  warnings.warn(w)\n",
      "c:\\Users\\fatin\\AppData\\Local\\Programs\\Python\\Python312\\Lib\\site-packages\\h2o\\job.py:81: UserWarning: Test/Validation dataset is missing column 'feels_like': substituting in a column of NaN\n",
      "  warnings.warn(w)\n",
      "c:\\Users\\fatin\\AppData\\Local\\Programs\\Python\\Python312\\Lib\\site-packages\\h2o\\frame.py:1983: H2ODependencyWarning: Converting H2O frame to pandas dataframe using single-thread.  For faster conversion using multi-thread, install polars and pyarrow and use it as pandas_df = h2o_df.as_data_frame(use_multi_thread=True)\n",
      "\n",
      "  warnings.warn(\"Converting H2O frame to pandas dataframe using single-thread.  For faster conversion using\"\n"
     ]
    },
    {
     "name": "stdout",
     "output_type": "stream",
     "text": [
      "████████████████████████████████████████████████████████████████| (done) 100%\n",
      "drf prediction progress: |███████████████████████████████████████████████████████| (done) 100%\n",
      "Parse progress: |████████████████████████████████████████████████████████████████| (done) 100%\n"
     ]
    },
    {
     "name": "stderr",
     "output_type": "stream",
     "text": [
      "c:\\Users\\fatin\\AppData\\Local\\Programs\\Python\\Python312\\Lib\\site-packages\\h2o\\job.py:81: UserWarning: Test/Validation dataset is missing column 'CAPACITY': substituting in a column of NaN\n",
      "  warnings.warn(w)\n",
      "c:\\Users\\fatin\\AppData\\Local\\Programs\\Python\\Python312\\Lib\\site-packages\\h2o\\job.py:81: UserWarning: Test/Validation dataset is missing column 'OPEN_TIME': substituting in a column of NaN\n",
      "  warnings.warn(w)\n",
      "c:\\Users\\fatin\\AppData\\Local\\Programs\\Python\\Python312\\Lib\\site-packages\\h2o\\job.py:81: UserWarning: Test/Validation dataset is missing column 'UP_TIME': substituting in a column of NaN\n",
      "  warnings.warn(w)\n",
      "c:\\Users\\fatin\\AppData\\Local\\Programs\\Python\\Python312\\Lib\\site-packages\\h2o\\job.py:81: UserWarning: Test/Validation dataset is missing column 'feels_like': substituting in a column of NaN\n",
      "  warnings.warn(w)\n",
      "c:\\Users\\fatin\\AppData\\Local\\Programs\\Python\\Python312\\Lib\\site-packages\\h2o\\frame.py:1983: H2ODependencyWarning: Converting H2O frame to pandas dataframe using single-thread.  For faster conversion using multi-thread, install polars and pyarrow and use it as pandas_df = h2o_df.as_data_frame(use_multi_thread=True)\n",
      "\n",
      "  warnings.warn(\"Converting H2O frame to pandas dataframe using single-thread.  For faster conversion using\"\n"
     ]
    },
    {
     "name": "stdout",
     "output_type": "stream",
     "text": [
      "drf prediction progress: |███████████████████████████████████████████████████████| (done) 100%\n",
      "Parse progress: |████████████████████████████████████████████████████████████████| (done) 100%\n"
     ]
    },
    {
     "name": "stderr",
     "output_type": "stream",
     "text": [
      "c:\\Users\\fatin\\AppData\\Local\\Programs\\Python\\Python312\\Lib\\site-packages\\h2o\\job.py:81: UserWarning: Test/Validation dataset is missing column 'CAPACITY': substituting in a column of NaN\n",
      "  warnings.warn(w)\n",
      "c:\\Users\\fatin\\AppData\\Local\\Programs\\Python\\Python312\\Lib\\site-packages\\h2o\\job.py:81: UserWarning: Test/Validation dataset is missing column 'OPEN_TIME': substituting in a column of NaN\n",
      "  warnings.warn(w)\n",
      "c:\\Users\\fatin\\AppData\\Local\\Programs\\Python\\Python312\\Lib\\site-packages\\h2o\\job.py:81: UserWarning: Test/Validation dataset is missing column 'UP_TIME': substituting in a column of NaN\n",
      "  warnings.warn(w)\n",
      "c:\\Users\\fatin\\AppData\\Local\\Programs\\Python\\Python312\\Lib\\site-packages\\h2o\\job.py:81: UserWarning: Test/Validation dataset is missing column 'feels_like': substituting in a column of NaN\n",
      "  warnings.warn(w)\n",
      "c:\\Users\\fatin\\AppData\\Local\\Programs\\Python\\Python312\\Lib\\site-packages\\h2o\\frame.py:1983: H2ODependencyWarning: Converting H2O frame to pandas dataframe using single-thread.  For faster conversion using multi-thread, install polars and pyarrow and use it as pandas_df = h2o_df.as_data_frame(use_multi_thread=True)\n",
      "\n",
      "  warnings.warn(\"Converting H2O frame to pandas dataframe using single-thread.  For faster conversion using\"\n"
     ]
    },
    {
     "name": "stdout",
     "output_type": "stream",
     "text": [
      "drf prediction progress: |███████████████████████████████████████████████████████| (done) 100%\n",
      "Parse progress: |████████████████████████████████████████████████████████████████| (done) 100%\n"
     ]
    },
    {
     "name": "stderr",
     "output_type": "stream",
     "text": [
      "c:\\Users\\fatin\\AppData\\Local\\Programs\\Python\\Python312\\Lib\\site-packages\\h2o\\job.py:81: UserWarning: Test/Validation dataset is missing column 'CAPACITY': substituting in a column of NaN\n",
      "  warnings.warn(w)\n",
      "c:\\Users\\fatin\\AppData\\Local\\Programs\\Python\\Python312\\Lib\\site-packages\\h2o\\job.py:81: UserWarning: Test/Validation dataset is missing column 'OPEN_TIME': substituting in a column of NaN\n",
      "  warnings.warn(w)\n",
      "c:\\Users\\fatin\\AppData\\Local\\Programs\\Python\\Python312\\Lib\\site-packages\\h2o\\job.py:81: UserWarning: Test/Validation dataset is missing column 'UP_TIME': substituting in a column of NaN\n",
      "  warnings.warn(w)\n",
      "c:\\Users\\fatin\\AppData\\Local\\Programs\\Python\\Python312\\Lib\\site-packages\\h2o\\job.py:81: UserWarning: Test/Validation dataset is missing column 'feels_like': substituting in a column of NaN\n",
      "  warnings.warn(w)\n",
      "c:\\Users\\fatin\\AppData\\Local\\Programs\\Python\\Python312\\Lib\\site-packages\\h2o\\frame.py:1983: H2ODependencyWarning: Converting H2O frame to pandas dataframe using single-thread.  For faster conversion using multi-thread, install polars and pyarrow and use it as pandas_df = h2o_df.as_data_frame(use_multi_thread=True)\n",
      "\n",
      "  warnings.warn(\"Converting H2O frame to pandas dataframe using single-thread.  For faster conversion using\"\n"
     ]
    },
    {
     "name": "stdout",
     "output_type": "stream",
     "text": [
      "drf prediction progress: |███████████████████████████████████████████████████████| (done) 100%\n",
      "Parse progress: |████████████████████████████████████████████████████████████████| (done) 100%\n"
     ]
    },
    {
     "name": "stderr",
     "output_type": "stream",
     "text": [
      "c:\\Users\\fatin\\AppData\\Local\\Programs\\Python\\Python312\\Lib\\site-packages\\h2o\\job.py:81: UserWarning: Test/Validation dataset is missing column 'CAPACITY': substituting in a column of NaN\n",
      "  warnings.warn(w)\n",
      "c:\\Users\\fatin\\AppData\\Local\\Programs\\Python\\Python312\\Lib\\site-packages\\h2o\\job.py:81: UserWarning: Test/Validation dataset is missing column 'OPEN_TIME': substituting in a column of NaN\n",
      "  warnings.warn(w)\n",
      "c:\\Users\\fatin\\AppData\\Local\\Programs\\Python\\Python312\\Lib\\site-packages\\h2o\\job.py:81: UserWarning: Test/Validation dataset is missing column 'UP_TIME': substituting in a column of NaN\n",
      "  warnings.warn(w)\n",
      "c:\\Users\\fatin\\AppData\\Local\\Programs\\Python\\Python312\\Lib\\site-packages\\h2o\\job.py:81: UserWarning: Test/Validation dataset is missing column 'feels_like': substituting in a column of NaN\n",
      "  warnings.warn(w)\n",
      "c:\\Users\\fatin\\AppData\\Local\\Programs\\Python\\Python312\\Lib\\site-packages\\h2o\\frame.py:1983: H2ODependencyWarning: Converting H2O frame to pandas dataframe using single-thread.  For faster conversion using multi-thread, install polars and pyarrow and use it as pandas_df = h2o_df.as_data_frame(use_multi_thread=True)\n",
      "\n",
      "  warnings.warn(\"Converting H2O frame to pandas dataframe using single-thread.  For faster conversion using\"\n"
     ]
    },
    {
     "name": "stdout",
     "output_type": "stream",
     "text": [
      "drf prediction progress: |███████████████████████████████████████████████████████| (done) 100%\n",
      "Parse progress: |████████████████████████████████████████████████████████████████| (done) 100%\n"
     ]
    },
    {
     "name": "stderr",
     "output_type": "stream",
     "text": [
      "c:\\Users\\fatin\\AppData\\Local\\Programs\\Python\\Python312\\Lib\\site-packages\\h2o\\job.py:81: UserWarning: Test/Validation dataset is missing column 'CAPACITY': substituting in a column of NaN\n",
      "  warnings.warn(w)\n",
      "c:\\Users\\fatin\\AppData\\Local\\Programs\\Python\\Python312\\Lib\\site-packages\\h2o\\job.py:81: UserWarning: Test/Validation dataset is missing column 'OPEN_TIME': substituting in a column of NaN\n",
      "  warnings.warn(w)\n",
      "c:\\Users\\fatin\\AppData\\Local\\Programs\\Python\\Python312\\Lib\\site-packages\\h2o\\job.py:81: UserWarning: Test/Validation dataset is missing column 'UP_TIME': substituting in a column of NaN\n",
      "  warnings.warn(w)\n",
      "c:\\Users\\fatin\\AppData\\Local\\Programs\\Python\\Python312\\Lib\\site-packages\\h2o\\job.py:81: UserWarning: Test/Validation dataset is missing column 'feels_like': substituting in a column of NaN\n",
      "  warnings.warn(w)\n",
      "c:\\Users\\fatin\\AppData\\Local\\Programs\\Python\\Python312\\Lib\\site-packages\\h2o\\frame.py:1983: H2ODependencyWarning: Converting H2O frame to pandas dataframe using single-thread.  For faster conversion using multi-thread, install polars and pyarrow and use it as pandas_df = h2o_df.as_data_frame(use_multi_thread=True)\n",
      "\n",
      "  warnings.warn(\"Converting H2O frame to pandas dataframe using single-thread.  For faster conversion using\"\n"
     ]
    },
    {
     "name": "stdout",
     "output_type": "stream",
     "text": [
      "drf prediction progress: |███████████████████████████████████████████████████████| (done) 100%\n",
      "Parse progress: |████████████████████████████████████████████████████████████████| (done) 100%\n"
     ]
    },
    {
     "name": "stderr",
     "output_type": "stream",
     "text": [
      "c:\\Users\\fatin\\AppData\\Local\\Programs\\Python\\Python312\\Lib\\site-packages\\h2o\\job.py:81: UserWarning: Test/Validation dataset is missing column 'CAPACITY': substituting in a column of NaN\n",
      "  warnings.warn(w)\n",
      "c:\\Users\\fatin\\AppData\\Local\\Programs\\Python\\Python312\\Lib\\site-packages\\h2o\\job.py:81: UserWarning: Test/Validation dataset is missing column 'OPEN_TIME': substituting in a column of NaN\n",
      "  warnings.warn(w)\n",
      "c:\\Users\\fatin\\AppData\\Local\\Programs\\Python\\Python312\\Lib\\site-packages\\h2o\\job.py:81: UserWarning: Test/Validation dataset is missing column 'UP_TIME': substituting in a column of NaN\n",
      "  warnings.warn(w)\n",
      "c:\\Users\\fatin\\AppData\\Local\\Programs\\Python\\Python312\\Lib\\site-packages\\h2o\\job.py:81: UserWarning: Test/Validation dataset is missing column 'feels_like': substituting in a column of NaN\n",
      "  warnings.warn(w)\n",
      "c:\\Users\\fatin\\AppData\\Local\\Programs\\Python\\Python312\\Lib\\site-packages\\h2o\\frame.py:1983: H2ODependencyWarning: Converting H2O frame to pandas dataframe using single-thread.  For faster conversion using multi-thread, install polars and pyarrow and use it as pandas_df = h2o_df.as_data_frame(use_multi_thread=True)\n",
      "\n",
      "  warnings.warn(\"Converting H2O frame to pandas dataframe using single-thread.  For faster conversion using\"\n"
     ]
    },
    {
     "name": "stdout",
     "output_type": "stream",
     "text": [
      "drf prediction progress: |███████████████████████████████████████████████████████| (done) 100%\n",
      "Parse progress: |████████████████████████████████████████████████████████████████| (done) 100%\n"
     ]
    },
    {
     "name": "stderr",
     "output_type": "stream",
     "text": [
      "c:\\Users\\fatin\\AppData\\Local\\Programs\\Python\\Python312\\Lib\\site-packages\\h2o\\job.py:81: UserWarning: Test/Validation dataset is missing column 'CAPACITY': substituting in a column of NaN\n",
      "  warnings.warn(w)\n",
      "c:\\Users\\fatin\\AppData\\Local\\Programs\\Python\\Python312\\Lib\\site-packages\\h2o\\job.py:81: UserWarning: Test/Validation dataset is missing column 'OPEN_TIME': substituting in a column of NaN\n",
      "  warnings.warn(w)\n",
      "c:\\Users\\fatin\\AppData\\Local\\Programs\\Python\\Python312\\Lib\\site-packages\\h2o\\job.py:81: UserWarning: Test/Validation dataset is missing column 'UP_TIME': substituting in a column of NaN\n",
      "  warnings.warn(w)\n",
      "c:\\Users\\fatin\\AppData\\Local\\Programs\\Python\\Python312\\Lib\\site-packages\\h2o\\job.py:81: UserWarning: Test/Validation dataset is missing column 'feels_like': substituting in a column of NaN\n",
      "  warnings.warn(w)\n",
      "c:\\Users\\fatin\\AppData\\Local\\Programs\\Python\\Python312\\Lib\\site-packages\\h2o\\frame.py:1983: H2ODependencyWarning: Converting H2O frame to pandas dataframe using single-thread.  For faster conversion using multi-thread, install polars and pyarrow and use it as pandas_df = h2o_df.as_data_frame(use_multi_thread=True)\n",
      "\n",
      "  warnings.warn(\"Converting H2O frame to pandas dataframe using single-thread.  For faster conversion using\"\n"
     ]
    },
    {
     "name": "stdout",
     "output_type": "stream",
     "text": [
      "drf prediction progress: |███████████████████████████████████████████████████████| (done) 100%\n",
      "Parse progress: |████████████████████████████████████████████████████████████████| (done) 100%\n"
     ]
    },
    {
     "name": "stderr",
     "output_type": "stream",
     "text": [
      "c:\\Users\\fatin\\AppData\\Local\\Programs\\Python\\Python312\\Lib\\site-packages\\h2o\\job.py:81: UserWarning: Test/Validation dataset is missing column 'CAPACITY': substituting in a column of NaN\n",
      "  warnings.warn(w)\n",
      "c:\\Users\\fatin\\AppData\\Local\\Programs\\Python\\Python312\\Lib\\site-packages\\h2o\\job.py:81: UserWarning: Test/Validation dataset is missing column 'OPEN_TIME': substituting in a column of NaN\n",
      "  warnings.warn(w)\n",
      "c:\\Users\\fatin\\AppData\\Local\\Programs\\Python\\Python312\\Lib\\site-packages\\h2o\\job.py:81: UserWarning: Test/Validation dataset is missing column 'UP_TIME': substituting in a column of NaN\n",
      "  warnings.warn(w)\n",
      "c:\\Users\\fatin\\AppData\\Local\\Programs\\Python\\Python312\\Lib\\site-packages\\h2o\\job.py:81: UserWarning: Test/Validation dataset is missing column 'feels_like': substituting in a column of NaN\n",
      "  warnings.warn(w)\n",
      "c:\\Users\\fatin\\AppData\\Local\\Programs\\Python\\Python312\\Lib\\site-packages\\h2o\\frame.py:1983: H2ODependencyWarning: Converting H2O frame to pandas dataframe using single-thread.  For faster conversion using multi-thread, install polars and pyarrow and use it as pandas_df = h2o_df.as_data_frame(use_multi_thread=True)\n",
      "\n",
      "  warnings.warn(\"Converting H2O frame to pandas dataframe using single-thread.  For faster conversion using\"\n"
     ]
    },
    {
     "name": "stdout",
     "output_type": "stream",
     "text": [
      "drf prediction progress: |███████████████████████████████████████████████████████| (done) 100%\n",
      "Parse progress: |████████████████████████████████████████████████████████████████| (done) 100%\n"
     ]
    },
    {
     "name": "stderr",
     "output_type": "stream",
     "text": [
      "c:\\Users\\fatin\\AppData\\Local\\Programs\\Python\\Python312\\Lib\\site-packages\\h2o\\job.py:81: UserWarning: Test/Validation dataset is missing column 'CAPACITY': substituting in a column of NaN\n",
      "  warnings.warn(w)\n",
      "c:\\Users\\fatin\\AppData\\Local\\Programs\\Python\\Python312\\Lib\\site-packages\\h2o\\job.py:81: UserWarning: Test/Validation dataset is missing column 'OPEN_TIME': substituting in a column of NaN\n",
      "  warnings.warn(w)\n",
      "c:\\Users\\fatin\\AppData\\Local\\Programs\\Python\\Python312\\Lib\\site-packages\\h2o\\job.py:81: UserWarning: Test/Validation dataset is missing column 'UP_TIME': substituting in a column of NaN\n",
      "  warnings.warn(w)\n",
      "c:\\Users\\fatin\\AppData\\Local\\Programs\\Python\\Python312\\Lib\\site-packages\\h2o\\job.py:81: UserWarning: Test/Validation dataset is missing column 'feels_like': substituting in a column of NaN\n",
      "  warnings.warn(w)\n",
      "c:\\Users\\fatin\\AppData\\Local\\Programs\\Python\\Python312\\Lib\\site-packages\\h2o\\frame.py:1983: H2ODependencyWarning: Converting H2O frame to pandas dataframe using single-thread.  For faster conversion using multi-thread, install polars and pyarrow and use it as pandas_df = h2o_df.as_data_frame(use_multi_thread=True)\n",
      "\n",
      "  warnings.warn(\"Converting H2O frame to pandas dataframe using single-thread.  For faster conversion using\"\n"
     ]
    },
    {
     "name": "stdout",
     "output_type": "stream",
     "text": [
      "drf prediction progress: |███████████████████████████████████████████████████████| (done) 100%\n",
      "Parse progress: |"
     ]
    },
    {
     "name": "stderr",
     "output_type": "stream",
     "text": [
      "c:\\Users\\fatin\\AppData\\Local\\Programs\\Python\\Python312\\Lib\\site-packages\\h2o\\job.py:81: UserWarning: Test/Validation dataset is missing column 'CAPACITY': substituting in a column of NaN\n",
      "  warnings.warn(w)\n",
      "c:\\Users\\fatin\\AppData\\Local\\Programs\\Python\\Python312\\Lib\\site-packages\\h2o\\job.py:81: UserWarning: Test/Validation dataset is missing column 'OPEN_TIME': substituting in a column of NaN\n",
      "  warnings.warn(w)\n",
      "c:\\Users\\fatin\\AppData\\Local\\Programs\\Python\\Python312\\Lib\\site-packages\\h2o\\job.py:81: UserWarning: Test/Validation dataset is missing column 'UP_TIME': substituting in a column of NaN\n",
      "  warnings.warn(w)\n",
      "c:\\Users\\fatin\\AppData\\Local\\Programs\\Python\\Python312\\Lib\\site-packages\\h2o\\job.py:81: UserWarning: Test/Validation dataset is missing column 'feels_like': substituting in a column of NaN\n",
      "  warnings.warn(w)\n",
      "c:\\Users\\fatin\\AppData\\Local\\Programs\\Python\\Python312\\Lib\\site-packages\\h2o\\frame.py:1983: H2ODependencyWarning: Converting H2O frame to pandas dataframe using single-thread.  For faster conversion using multi-thread, install polars and pyarrow and use it as pandas_df = h2o_df.as_data_frame(use_multi_thread=True)\n",
      "\n",
      "  warnings.warn(\"Converting H2O frame to pandas dataframe using single-thread.  For faster conversion using\"\n"
     ]
    },
    {
     "name": "stdout",
     "output_type": "stream",
     "text": [
      "████████████████████████████████████████████████████████████████| (done) 100%\n",
      "drf prediction progress: |███████████████████████████████████████████████████████| (done) 100%\n",
      "Parse progress: |████████████████████████████████████████████████████████████████| (done) 100%\n"
     ]
    },
    {
     "name": "stderr",
     "output_type": "stream",
     "text": [
      "c:\\Users\\fatin\\AppData\\Local\\Programs\\Python\\Python312\\Lib\\site-packages\\h2o\\job.py:81: UserWarning: Test/Validation dataset is missing column 'CAPACITY': substituting in a column of NaN\n",
      "  warnings.warn(w)\n",
      "c:\\Users\\fatin\\AppData\\Local\\Programs\\Python\\Python312\\Lib\\site-packages\\h2o\\job.py:81: UserWarning: Test/Validation dataset is missing column 'OPEN_TIME': substituting in a column of NaN\n",
      "  warnings.warn(w)\n",
      "c:\\Users\\fatin\\AppData\\Local\\Programs\\Python\\Python312\\Lib\\site-packages\\h2o\\job.py:81: UserWarning: Test/Validation dataset is missing column 'UP_TIME': substituting in a column of NaN\n",
      "  warnings.warn(w)\n",
      "c:\\Users\\fatin\\AppData\\Local\\Programs\\Python\\Python312\\Lib\\site-packages\\h2o\\job.py:81: UserWarning: Test/Validation dataset is missing column 'feels_like': substituting in a column of NaN\n",
      "  warnings.warn(w)\n",
      "c:\\Users\\fatin\\AppData\\Local\\Programs\\Python\\Python312\\Lib\\site-packages\\h2o\\frame.py:1983: H2ODependencyWarning: Converting H2O frame to pandas dataframe using single-thread.  For faster conversion using multi-thread, install polars and pyarrow and use it as pandas_df = h2o_df.as_data_frame(use_multi_thread=True)\n",
      "\n",
      "  warnings.warn(\"Converting H2O frame to pandas dataframe using single-thread.  For faster conversion using\"\n"
     ]
    },
    {
     "name": "stdout",
     "output_type": "stream",
     "text": [
      "drf prediction progress: |███████████████████████████████████████████████████████| (done) 100%\n",
      "Parse progress: |████████████████████████████████████████████████████████████████| (done) 100%\n"
     ]
    },
    {
     "name": "stderr",
     "output_type": "stream",
     "text": [
      "c:\\Users\\fatin\\AppData\\Local\\Programs\\Python\\Python312\\Lib\\site-packages\\h2o\\job.py:81: UserWarning: Test/Validation dataset is missing column 'CAPACITY': substituting in a column of NaN\n",
      "  warnings.warn(w)\n",
      "c:\\Users\\fatin\\AppData\\Local\\Programs\\Python\\Python312\\Lib\\site-packages\\h2o\\job.py:81: UserWarning: Test/Validation dataset is missing column 'OPEN_TIME': substituting in a column of NaN\n",
      "  warnings.warn(w)\n",
      "c:\\Users\\fatin\\AppData\\Local\\Programs\\Python\\Python312\\Lib\\site-packages\\h2o\\job.py:81: UserWarning: Test/Validation dataset is missing column 'UP_TIME': substituting in a column of NaN\n",
      "  warnings.warn(w)\n",
      "c:\\Users\\fatin\\AppData\\Local\\Programs\\Python\\Python312\\Lib\\site-packages\\h2o\\job.py:81: UserWarning: Test/Validation dataset is missing column 'feels_like': substituting in a column of NaN\n",
      "  warnings.warn(w)\n",
      "c:\\Users\\fatin\\AppData\\Local\\Programs\\Python\\Python312\\Lib\\site-packages\\h2o\\frame.py:1983: H2ODependencyWarning: Converting H2O frame to pandas dataframe using single-thread.  For faster conversion using multi-thread, install polars and pyarrow and use it as pandas_df = h2o_df.as_data_frame(use_multi_thread=True)\n",
      "\n",
      "  warnings.warn(\"Converting H2O frame to pandas dataframe using single-thread.  For faster conversion using\"\n"
     ]
    },
    {
     "name": "stdout",
     "output_type": "stream",
     "text": [
      "drf prediction progress: |███████████████████████████████████████████████████████| (done) 100%\n",
      "Parse progress: |████████████████████████████████████████████████████████████████| (done) 100%\n"
     ]
    },
    {
     "name": "stderr",
     "output_type": "stream",
     "text": [
      "c:\\Users\\fatin\\AppData\\Local\\Programs\\Python\\Python312\\Lib\\site-packages\\h2o\\job.py:81: UserWarning: Test/Validation dataset is missing column 'CAPACITY': substituting in a column of NaN\n",
      "  warnings.warn(w)\n",
      "c:\\Users\\fatin\\AppData\\Local\\Programs\\Python\\Python312\\Lib\\site-packages\\h2o\\job.py:81: UserWarning: Test/Validation dataset is missing column 'OPEN_TIME': substituting in a column of NaN\n",
      "  warnings.warn(w)\n",
      "c:\\Users\\fatin\\AppData\\Local\\Programs\\Python\\Python312\\Lib\\site-packages\\h2o\\job.py:81: UserWarning: Test/Validation dataset is missing column 'UP_TIME': substituting in a column of NaN\n",
      "  warnings.warn(w)\n",
      "c:\\Users\\fatin\\AppData\\Local\\Programs\\Python\\Python312\\Lib\\site-packages\\h2o\\job.py:81: UserWarning: Test/Validation dataset is missing column 'feels_like': substituting in a column of NaN\n",
      "  warnings.warn(w)\n",
      "c:\\Users\\fatin\\AppData\\Local\\Programs\\Python\\Python312\\Lib\\site-packages\\h2o\\frame.py:1983: H2ODependencyWarning: Converting H2O frame to pandas dataframe using single-thread.  For faster conversion using multi-thread, install polars and pyarrow and use it as pandas_df = h2o_df.as_data_frame(use_multi_thread=True)\n",
      "\n",
      "  warnings.warn(\"Converting H2O frame to pandas dataframe using single-thread.  For faster conversion using\"\n"
     ]
    },
    {
     "name": "stdout",
     "output_type": "stream",
     "text": [
      "drf prediction progress: |███████████████████████████████████████████████████████| (done) 100%\n",
      "Parse progress: |████████████████████████████████████████████████████████████████| (done) 100%\n"
     ]
    },
    {
     "name": "stderr",
     "output_type": "stream",
     "text": [
      "c:\\Users\\fatin\\AppData\\Local\\Programs\\Python\\Python312\\Lib\\site-packages\\h2o\\job.py:81: UserWarning: Test/Validation dataset is missing column 'CAPACITY': substituting in a column of NaN\n",
      "  warnings.warn(w)\n",
      "c:\\Users\\fatin\\AppData\\Local\\Programs\\Python\\Python312\\Lib\\site-packages\\h2o\\job.py:81: UserWarning: Test/Validation dataset is missing column 'OPEN_TIME': substituting in a column of NaN\n",
      "  warnings.warn(w)\n",
      "c:\\Users\\fatin\\AppData\\Local\\Programs\\Python\\Python312\\Lib\\site-packages\\h2o\\job.py:81: UserWarning: Test/Validation dataset is missing column 'UP_TIME': substituting in a column of NaN\n",
      "  warnings.warn(w)\n",
      "c:\\Users\\fatin\\AppData\\Local\\Programs\\Python\\Python312\\Lib\\site-packages\\h2o\\job.py:81: UserWarning: Test/Validation dataset is missing column 'feels_like': substituting in a column of NaN\n",
      "  warnings.warn(w)\n",
      "c:\\Users\\fatin\\AppData\\Local\\Programs\\Python\\Python312\\Lib\\site-packages\\h2o\\frame.py:1983: H2ODependencyWarning: Converting H2O frame to pandas dataframe using single-thread.  For faster conversion using multi-thread, install polars and pyarrow and use it as pandas_df = h2o_df.as_data_frame(use_multi_thread=True)\n",
      "\n",
      "  warnings.warn(\"Converting H2O frame to pandas dataframe using single-thread.  For faster conversion using\"\n"
     ]
    },
    {
     "name": "stdout",
     "output_type": "stream",
     "text": [
      "drf prediction progress: |███████████████████████████████████████████████████████| (done) 100%\n",
      "Parse progress: |████████████████████████████████████████████████████████████████| (done) 100%\n"
     ]
    },
    {
     "name": "stderr",
     "output_type": "stream",
     "text": [
      "c:\\Users\\fatin\\AppData\\Local\\Programs\\Python\\Python312\\Lib\\site-packages\\h2o\\job.py:81: UserWarning: Test/Validation dataset is missing column 'CAPACITY': substituting in a column of NaN\n",
      "  warnings.warn(w)\n",
      "c:\\Users\\fatin\\AppData\\Local\\Programs\\Python\\Python312\\Lib\\site-packages\\h2o\\job.py:81: UserWarning: Test/Validation dataset is missing column 'OPEN_TIME': substituting in a column of NaN\n",
      "  warnings.warn(w)\n",
      "c:\\Users\\fatin\\AppData\\Local\\Programs\\Python\\Python312\\Lib\\site-packages\\h2o\\job.py:81: UserWarning: Test/Validation dataset is missing column 'UP_TIME': substituting in a column of NaN\n",
      "  warnings.warn(w)\n",
      "c:\\Users\\fatin\\AppData\\Local\\Programs\\Python\\Python312\\Lib\\site-packages\\h2o\\job.py:81: UserWarning: Test/Validation dataset is missing column 'feels_like': substituting in a column of NaN\n",
      "  warnings.warn(w)\n",
      "c:\\Users\\fatin\\AppData\\Local\\Programs\\Python\\Python312\\Lib\\site-packages\\h2o\\frame.py:1983: H2ODependencyWarning: Converting H2O frame to pandas dataframe using single-thread.  For faster conversion using multi-thread, install polars and pyarrow and use it as pandas_df = h2o_df.as_data_frame(use_multi_thread=True)\n",
      "\n",
      "  warnings.warn(\"Converting H2O frame to pandas dataframe using single-thread.  For faster conversion using\"\n"
     ]
    },
    {
     "name": "stdout",
     "output_type": "stream",
     "text": [
      "drf prediction progress: |███████████████████████████████████████████████████████| (done) 100%\n",
      "Parse progress: |████████████████████████████████████████████████████████████████| (done) 100%\n"
     ]
    },
    {
     "name": "stderr",
     "output_type": "stream",
     "text": [
      "c:\\Users\\fatin\\AppData\\Local\\Programs\\Python\\Python312\\Lib\\site-packages\\h2o\\job.py:81: UserWarning: Test/Validation dataset is missing column 'CAPACITY': substituting in a column of NaN\n",
      "  warnings.warn(w)\n",
      "c:\\Users\\fatin\\AppData\\Local\\Programs\\Python\\Python312\\Lib\\site-packages\\h2o\\job.py:81: UserWarning: Test/Validation dataset is missing column 'OPEN_TIME': substituting in a column of NaN\n",
      "  warnings.warn(w)\n",
      "c:\\Users\\fatin\\AppData\\Local\\Programs\\Python\\Python312\\Lib\\site-packages\\h2o\\job.py:81: UserWarning: Test/Validation dataset is missing column 'UP_TIME': substituting in a column of NaN\n",
      "  warnings.warn(w)\n",
      "c:\\Users\\fatin\\AppData\\Local\\Programs\\Python\\Python312\\Lib\\site-packages\\h2o\\job.py:81: UserWarning: Test/Validation dataset is missing column 'feels_like': substituting in a column of NaN\n",
      "  warnings.warn(w)\n",
      "c:\\Users\\fatin\\AppData\\Local\\Programs\\Python\\Python312\\Lib\\site-packages\\h2o\\frame.py:1983: H2ODependencyWarning: Converting H2O frame to pandas dataframe using single-thread.  For faster conversion using multi-thread, install polars and pyarrow and use it as pandas_df = h2o_df.as_data_frame(use_multi_thread=True)\n",
      "\n",
      "  warnings.warn(\"Converting H2O frame to pandas dataframe using single-thread.  For faster conversion using\"\n"
     ]
    },
    {
     "name": "stdout",
     "output_type": "stream",
     "text": [
      "drf prediction progress: |███████████████████████████████████████████████████████| (done) 100%\n",
      "Parse progress: |████████████████████████████████████████████████████████████████| (done) 100%\n"
     ]
    },
    {
     "name": "stderr",
     "output_type": "stream",
     "text": [
      "c:\\Users\\fatin\\AppData\\Local\\Programs\\Python\\Python312\\Lib\\site-packages\\h2o\\job.py:81: UserWarning: Test/Validation dataset is missing column 'CAPACITY': substituting in a column of NaN\n",
      "  warnings.warn(w)\n",
      "c:\\Users\\fatin\\AppData\\Local\\Programs\\Python\\Python312\\Lib\\site-packages\\h2o\\job.py:81: UserWarning: Test/Validation dataset is missing column 'OPEN_TIME': substituting in a column of NaN\n",
      "  warnings.warn(w)\n",
      "c:\\Users\\fatin\\AppData\\Local\\Programs\\Python\\Python312\\Lib\\site-packages\\h2o\\job.py:81: UserWarning: Test/Validation dataset is missing column 'UP_TIME': substituting in a column of NaN\n",
      "  warnings.warn(w)\n",
      "c:\\Users\\fatin\\AppData\\Local\\Programs\\Python\\Python312\\Lib\\site-packages\\h2o\\job.py:81: UserWarning: Test/Validation dataset is missing column 'feels_like': substituting in a column of NaN\n",
      "  warnings.warn(w)\n",
      "c:\\Users\\fatin\\AppData\\Local\\Programs\\Python\\Python312\\Lib\\site-packages\\h2o\\frame.py:1983: H2ODependencyWarning: Converting H2O frame to pandas dataframe using single-thread.  For faster conversion using multi-thread, install polars and pyarrow and use it as pandas_df = h2o_df.as_data_frame(use_multi_thread=True)\n",
      "\n",
      "  warnings.warn(\"Converting H2O frame to pandas dataframe using single-thread.  For faster conversion using\"\n"
     ]
    },
    {
     "name": "stdout",
     "output_type": "stream",
     "text": [
      "drf prediction progress: |███████████████████████████████████████████████████████| (done) 100%\n",
      "Parse progress: |████████████████████████████████████████████████████████████████| (done) 100%\n"
     ]
    },
    {
     "name": "stderr",
     "output_type": "stream",
     "text": [
      "c:\\Users\\fatin\\AppData\\Local\\Programs\\Python\\Python312\\Lib\\site-packages\\h2o\\job.py:81: UserWarning: Test/Validation dataset is missing column 'CAPACITY': substituting in a column of NaN\n",
      "  warnings.warn(w)\n",
      "c:\\Users\\fatin\\AppData\\Local\\Programs\\Python\\Python312\\Lib\\site-packages\\h2o\\job.py:81: UserWarning: Test/Validation dataset is missing column 'OPEN_TIME': substituting in a column of NaN\n",
      "  warnings.warn(w)\n",
      "c:\\Users\\fatin\\AppData\\Local\\Programs\\Python\\Python312\\Lib\\site-packages\\h2o\\job.py:81: UserWarning: Test/Validation dataset is missing column 'UP_TIME': substituting in a column of NaN\n",
      "  warnings.warn(w)\n",
      "c:\\Users\\fatin\\AppData\\Local\\Programs\\Python\\Python312\\Lib\\site-packages\\h2o\\job.py:81: UserWarning: Test/Validation dataset is missing column 'feels_like': substituting in a column of NaN\n",
      "  warnings.warn(w)\n",
      "c:\\Users\\fatin\\AppData\\Local\\Programs\\Python\\Python312\\Lib\\site-packages\\h2o\\frame.py:1983: H2ODependencyWarning: Converting H2O frame to pandas dataframe using single-thread.  For faster conversion using multi-thread, install polars and pyarrow and use it as pandas_df = h2o_df.as_data_frame(use_multi_thread=True)\n",
      "\n",
      "  warnings.warn(\"Converting H2O frame to pandas dataframe using single-thread.  For faster conversion using\"\n"
     ]
    },
    {
     "name": "stdout",
     "output_type": "stream",
     "text": [
      "drf prediction progress: |███████████████████████████████████████████████████████| (done) 100%\n",
      "Parse progress: |"
     ]
    },
    {
     "name": "stderr",
     "output_type": "stream",
     "text": [
      "c:\\Users\\fatin\\AppData\\Local\\Programs\\Python\\Python312\\Lib\\site-packages\\h2o\\job.py:81: UserWarning: Test/Validation dataset is missing column 'CAPACITY': substituting in a column of NaN\n",
      "  warnings.warn(w)\n",
      "c:\\Users\\fatin\\AppData\\Local\\Programs\\Python\\Python312\\Lib\\site-packages\\h2o\\job.py:81: UserWarning: Test/Validation dataset is missing column 'OPEN_TIME': substituting in a column of NaN\n",
      "  warnings.warn(w)\n",
      "c:\\Users\\fatin\\AppData\\Local\\Programs\\Python\\Python312\\Lib\\site-packages\\h2o\\job.py:81: UserWarning: Test/Validation dataset is missing column 'UP_TIME': substituting in a column of NaN\n",
      "  warnings.warn(w)\n",
      "c:\\Users\\fatin\\AppData\\Local\\Programs\\Python\\Python312\\Lib\\site-packages\\h2o\\job.py:81: UserWarning: Test/Validation dataset is missing column 'feels_like': substituting in a column of NaN\n",
      "  warnings.warn(w)\n",
      "c:\\Users\\fatin\\AppData\\Local\\Programs\\Python\\Python312\\Lib\\site-packages\\h2o\\frame.py:1983: H2ODependencyWarning: Converting H2O frame to pandas dataframe using single-thread.  For faster conversion using multi-thread, install polars and pyarrow and use it as pandas_df = h2o_df.as_data_frame(use_multi_thread=True)\n",
      "\n",
      "  warnings.warn(\"Converting H2O frame to pandas dataframe using single-thread.  For faster conversion using\"\n"
     ]
    },
    {
     "name": "stdout",
     "output_type": "stream",
     "text": [
      "████████████████████████████████████████████████████████████████| (done) 100%\n",
      "drf prediction progress: |███████████████████████████████████████████████████████| (done) 100%\n",
      "Parse progress: |████████████████████████████████████████████████████████████████| (done) 100%\n"
     ]
    },
    {
     "name": "stderr",
     "output_type": "stream",
     "text": [
      "c:\\Users\\fatin\\AppData\\Local\\Programs\\Python\\Python312\\Lib\\site-packages\\h2o\\job.py:81: UserWarning: Test/Validation dataset is missing column 'CAPACITY': substituting in a column of NaN\n",
      "  warnings.warn(w)\n",
      "c:\\Users\\fatin\\AppData\\Local\\Programs\\Python\\Python312\\Lib\\site-packages\\h2o\\job.py:81: UserWarning: Test/Validation dataset is missing column 'OPEN_TIME': substituting in a column of NaN\n",
      "  warnings.warn(w)\n",
      "c:\\Users\\fatin\\AppData\\Local\\Programs\\Python\\Python312\\Lib\\site-packages\\h2o\\job.py:81: UserWarning: Test/Validation dataset is missing column 'UP_TIME': substituting in a column of NaN\n",
      "  warnings.warn(w)\n",
      "c:\\Users\\fatin\\AppData\\Local\\Programs\\Python\\Python312\\Lib\\site-packages\\h2o\\job.py:81: UserWarning: Test/Validation dataset is missing column 'feels_like': substituting in a column of NaN\n",
      "  warnings.warn(w)\n",
      "c:\\Users\\fatin\\AppData\\Local\\Programs\\Python\\Python312\\Lib\\site-packages\\h2o\\frame.py:1983: H2ODependencyWarning: Converting H2O frame to pandas dataframe using single-thread.  For faster conversion using multi-thread, install polars and pyarrow and use it as pandas_df = h2o_df.as_data_frame(use_multi_thread=True)\n",
      "\n",
      "  warnings.warn(\"Converting H2O frame to pandas dataframe using single-thread.  For faster conversion using\"\n"
     ]
    },
    {
     "name": "stdout",
     "output_type": "stream",
     "text": [
      "drf prediction progress: |███████████████████████████████████████████████████████| (done) 100%\n",
      "Parse progress: |████████████████████████████████████████████████████████████████| (done) 100%\n"
     ]
    },
    {
     "name": "stderr",
     "output_type": "stream",
     "text": [
      "c:\\Users\\fatin\\AppData\\Local\\Programs\\Python\\Python312\\Lib\\site-packages\\h2o\\job.py:81: UserWarning: Test/Validation dataset is missing column 'CAPACITY': substituting in a column of NaN\n",
      "  warnings.warn(w)\n",
      "c:\\Users\\fatin\\AppData\\Local\\Programs\\Python\\Python312\\Lib\\site-packages\\h2o\\job.py:81: UserWarning: Test/Validation dataset is missing column 'OPEN_TIME': substituting in a column of NaN\n",
      "  warnings.warn(w)\n",
      "c:\\Users\\fatin\\AppData\\Local\\Programs\\Python\\Python312\\Lib\\site-packages\\h2o\\job.py:81: UserWarning: Test/Validation dataset is missing column 'UP_TIME': substituting in a column of NaN\n",
      "  warnings.warn(w)\n",
      "c:\\Users\\fatin\\AppData\\Local\\Programs\\Python\\Python312\\Lib\\site-packages\\h2o\\job.py:81: UserWarning: Test/Validation dataset is missing column 'feels_like': substituting in a column of NaN\n",
      "  warnings.warn(w)\n",
      "c:\\Users\\fatin\\AppData\\Local\\Programs\\Python\\Python312\\Lib\\site-packages\\h2o\\frame.py:1983: H2ODependencyWarning: Converting H2O frame to pandas dataframe using single-thread.  For faster conversion using multi-thread, install polars and pyarrow and use it as pandas_df = h2o_df.as_data_frame(use_multi_thread=True)\n",
      "\n",
      "  warnings.warn(\"Converting H2O frame to pandas dataframe using single-thread.  For faster conversion using\"\n"
     ]
    },
    {
     "name": "stdout",
     "output_type": "stream",
     "text": [
      "drf prediction progress: |███████████████████████████████████████████████████████| (done) 100%\n",
      "Parse progress: |████████████████████████████████████████████████████████████████| (done) 100%\n"
     ]
    },
    {
     "name": "stderr",
     "output_type": "stream",
     "text": [
      "c:\\Users\\fatin\\AppData\\Local\\Programs\\Python\\Python312\\Lib\\site-packages\\h2o\\job.py:81: UserWarning: Test/Validation dataset is missing column 'CAPACITY': substituting in a column of NaN\n",
      "  warnings.warn(w)\n",
      "c:\\Users\\fatin\\AppData\\Local\\Programs\\Python\\Python312\\Lib\\site-packages\\h2o\\job.py:81: UserWarning: Test/Validation dataset is missing column 'OPEN_TIME': substituting in a column of NaN\n",
      "  warnings.warn(w)\n",
      "c:\\Users\\fatin\\AppData\\Local\\Programs\\Python\\Python312\\Lib\\site-packages\\h2o\\job.py:81: UserWarning: Test/Validation dataset is missing column 'UP_TIME': substituting in a column of NaN\n",
      "  warnings.warn(w)\n",
      "c:\\Users\\fatin\\AppData\\Local\\Programs\\Python\\Python312\\Lib\\site-packages\\h2o\\job.py:81: UserWarning: Test/Validation dataset is missing column 'feels_like': substituting in a column of NaN\n",
      "  warnings.warn(w)\n",
      "c:\\Users\\fatin\\AppData\\Local\\Programs\\Python\\Python312\\Lib\\site-packages\\h2o\\frame.py:1983: H2ODependencyWarning: Converting H2O frame to pandas dataframe using single-thread.  For faster conversion using multi-thread, install polars and pyarrow and use it as pandas_df = h2o_df.as_data_frame(use_multi_thread=True)\n",
      "\n",
      "  warnings.warn(\"Converting H2O frame to pandas dataframe using single-thread.  For faster conversion using\"\n"
     ]
    },
    {
     "name": "stdout",
     "output_type": "stream",
     "text": [
      "drf prediction progress: |███████████████████████████████████████████████████████| (done) 100%\n",
      "Parse progress: |████████████████████████████████████████████████████████████████| (done) 100%\n"
     ]
    },
    {
     "name": "stderr",
     "output_type": "stream",
     "text": [
      "c:\\Users\\fatin\\AppData\\Local\\Programs\\Python\\Python312\\Lib\\site-packages\\h2o\\job.py:81: UserWarning: Test/Validation dataset is missing column 'CAPACITY': substituting in a column of NaN\n",
      "  warnings.warn(w)\n",
      "c:\\Users\\fatin\\AppData\\Local\\Programs\\Python\\Python312\\Lib\\site-packages\\h2o\\job.py:81: UserWarning: Test/Validation dataset is missing column 'OPEN_TIME': substituting in a column of NaN\n",
      "  warnings.warn(w)\n",
      "c:\\Users\\fatin\\AppData\\Local\\Programs\\Python\\Python312\\Lib\\site-packages\\h2o\\job.py:81: UserWarning: Test/Validation dataset is missing column 'UP_TIME': substituting in a column of NaN\n",
      "  warnings.warn(w)\n",
      "c:\\Users\\fatin\\AppData\\Local\\Programs\\Python\\Python312\\Lib\\site-packages\\h2o\\job.py:81: UserWarning: Test/Validation dataset is missing column 'feels_like': substituting in a column of NaN\n",
      "  warnings.warn(w)\n",
      "c:\\Users\\fatin\\AppData\\Local\\Programs\\Python\\Python312\\Lib\\site-packages\\h2o\\frame.py:1983: H2ODependencyWarning: Converting H2O frame to pandas dataframe using single-thread.  For faster conversion using multi-thread, install polars and pyarrow and use it as pandas_df = h2o_df.as_data_frame(use_multi_thread=True)\n",
      "\n",
      "  warnings.warn(\"Converting H2O frame to pandas dataframe using single-thread.  For faster conversion using\"\n"
     ]
    },
    {
     "name": "stdout",
     "output_type": "stream",
     "text": [
      "drf prediction progress: |███████████████████████████████████████████████████████| (done) 100%\n",
      "Parse progress: |"
     ]
    },
    {
     "name": "stderr",
     "output_type": "stream",
     "text": [
      "c:\\Users\\fatin\\AppData\\Local\\Programs\\Python\\Python312\\Lib\\site-packages\\h2o\\job.py:81: UserWarning: Test/Validation dataset is missing column 'CAPACITY': substituting in a column of NaN\n",
      "  warnings.warn(w)\n",
      "c:\\Users\\fatin\\AppData\\Local\\Programs\\Python\\Python312\\Lib\\site-packages\\h2o\\job.py:81: UserWarning: Test/Validation dataset is missing column 'OPEN_TIME': substituting in a column of NaN\n",
      "  warnings.warn(w)\n",
      "c:\\Users\\fatin\\AppData\\Local\\Programs\\Python\\Python312\\Lib\\site-packages\\h2o\\job.py:81: UserWarning: Test/Validation dataset is missing column 'UP_TIME': substituting in a column of NaN\n",
      "  warnings.warn(w)\n",
      "c:\\Users\\fatin\\AppData\\Local\\Programs\\Python\\Python312\\Lib\\site-packages\\h2o\\job.py:81: UserWarning: Test/Validation dataset is missing column 'feels_like': substituting in a column of NaN\n",
      "  warnings.warn(w)\n",
      "c:\\Users\\fatin\\AppData\\Local\\Programs\\Python\\Python312\\Lib\\site-packages\\h2o\\frame.py:1983: H2ODependencyWarning: Converting H2O frame to pandas dataframe using single-thread.  For faster conversion using multi-thread, install polars and pyarrow and use it as pandas_df = h2o_df.as_data_frame(use_multi_thread=True)\n",
      "\n",
      "  warnings.warn(\"Converting H2O frame to pandas dataframe using single-thread.  For faster conversion using\"\n"
     ]
    },
    {
     "name": "stdout",
     "output_type": "stream",
     "text": [
      "████████████████████████████████████████████████████████████████| (done) 100%\n",
      "drf prediction progress: |███████████████████████████████████████████████████████| (done) 100%\n",
      "Parse progress: |████████████████████████████████████████████████████████████████| (done) 100%\n"
     ]
    },
    {
     "name": "stderr",
     "output_type": "stream",
     "text": [
      "c:\\Users\\fatin\\AppData\\Local\\Programs\\Python\\Python312\\Lib\\site-packages\\h2o\\job.py:81: UserWarning: Test/Validation dataset is missing column 'CAPACITY': substituting in a column of NaN\n",
      "  warnings.warn(w)\n",
      "c:\\Users\\fatin\\AppData\\Local\\Programs\\Python\\Python312\\Lib\\site-packages\\h2o\\job.py:81: UserWarning: Test/Validation dataset is missing column 'OPEN_TIME': substituting in a column of NaN\n",
      "  warnings.warn(w)\n",
      "c:\\Users\\fatin\\AppData\\Local\\Programs\\Python\\Python312\\Lib\\site-packages\\h2o\\job.py:81: UserWarning: Test/Validation dataset is missing column 'UP_TIME': substituting in a column of NaN\n",
      "  warnings.warn(w)\n",
      "c:\\Users\\fatin\\AppData\\Local\\Programs\\Python\\Python312\\Lib\\site-packages\\h2o\\job.py:81: UserWarning: Test/Validation dataset is missing column 'feels_like': substituting in a column of NaN\n",
      "  warnings.warn(w)\n",
      "c:\\Users\\fatin\\AppData\\Local\\Programs\\Python\\Python312\\Lib\\site-packages\\h2o\\frame.py:1983: H2ODependencyWarning: Converting H2O frame to pandas dataframe using single-thread.  For faster conversion using multi-thread, install polars and pyarrow and use it as pandas_df = h2o_df.as_data_frame(use_multi_thread=True)\n",
      "\n",
      "  warnings.warn(\"Converting H2O frame to pandas dataframe using single-thread.  For faster conversion using\"\n"
     ]
    },
    {
     "name": "stdout",
     "output_type": "stream",
     "text": [
      "drf prediction progress: |███████████████████████████████████████████████████████| (done) 100%\n",
      "Agenda de prédiction du WAIT_TIME_MAX (toutes les 15 minutes) :\n",
      "              datetime  predicted_WAIT_TIME_MAX\n",
      "0  2025-02-13 10:00:00                 5.100000\n",
      "1  2025-02-13 10:15:00                 5.100000\n",
      "2  2025-02-13 10:30:00                 5.750000\n",
      "3  2025-02-13 10:45:00                 8.750000\n",
      "4  2025-02-13 11:00:00                11.300000\n",
      "5  2025-02-13 11:15:00                14.400000\n",
      "6  2025-02-13 11:30:00                16.291818\n",
      "7  2025-02-13 11:45:00                16.246104\n",
      "8  2025-02-13 12:00:00                18.718963\n",
      "9  2025-02-13 12:15:00                19.318963\n",
      "10 2025-02-13 12:30:00                19.587233\n",
      "11 2025-02-13 12:45:00                19.452297\n",
      "12 2025-02-13 13:00:00                19.469904\n",
      "13 2025-02-13 13:15:00                20.169904\n",
      "14 2025-02-13 13:30:00                19.869051\n",
      "15 2025-02-13 13:45:00                19.768389\n",
      "16 2025-02-13 14:00:00                19.019904\n",
      "17 2025-02-13 14:15:00                19.369904\n",
      "18 2025-02-13 14:30:00                19.169051\n",
      "19 2025-02-13 14:45:00                19.168389\n",
      "20 2025-02-13 15:00:00                18.527189\n",
      "21 2025-02-13 15:15:00                19.277189\n",
      "22 2025-02-13 15:30:00                18.945566\n",
      "23 2025-02-13 15:45:00                18.475674\n",
      "24 2025-02-13 16:00:00                17.427189\n",
      "25 2025-02-13 16:15:00                17.927189\n",
      "26 2025-02-13 16:30:00                17.357081\n",
      "27 2025-02-13 16:45:00                16.753855\n",
      "28 2025-02-13 17:00:00                12.073929\n",
      "29 2025-02-13 17:15:00                11.305179\n",
      "30 2025-02-13 17:30:00                11.593750\n",
      "31 2025-02-13 17:45:00                12.193750\n",
      "32 2025-02-13 18:00:00                10.126786\n"
     ]
    },
    {
     "name": "stderr",
     "output_type": "stream",
     "text": [
      "c:\\Users\\fatin\\AppData\\Local\\Programs\\Python\\Python312\\Lib\\site-packages\\h2o\\job.py:81: UserWarning: Test/Validation dataset is missing column 'CAPACITY': substituting in a column of NaN\n",
      "  warnings.warn(w)\n",
      "c:\\Users\\fatin\\AppData\\Local\\Programs\\Python\\Python312\\Lib\\site-packages\\h2o\\job.py:81: UserWarning: Test/Validation dataset is missing column 'OPEN_TIME': substituting in a column of NaN\n",
      "  warnings.warn(w)\n",
      "c:\\Users\\fatin\\AppData\\Local\\Programs\\Python\\Python312\\Lib\\site-packages\\h2o\\job.py:81: UserWarning: Test/Validation dataset is missing column 'UP_TIME': substituting in a column of NaN\n",
      "  warnings.warn(w)\n",
      "c:\\Users\\fatin\\AppData\\Local\\Programs\\Python\\Python312\\Lib\\site-packages\\h2o\\job.py:81: UserWarning: Test/Validation dataset is missing column 'feels_like': substituting in a column of NaN\n",
      "  warnings.warn(w)\n",
      "c:\\Users\\fatin\\AppData\\Local\\Programs\\Python\\Python312\\Lib\\site-packages\\h2o\\frame.py:1983: H2ODependencyWarning: Converting H2O frame to pandas dataframe using single-thread.  For faster conversion using multi-thread, install polars and pyarrow and use it as pandas_df = h2o_df.as_data_frame(use_multi_thread=True)\n",
      "\n",
      "  warnings.warn(\"Converting H2O frame to pandas dataframe using single-thread.  For faster conversion using\"\n"
     ]
    },
    {
     "data": {
      "image/png": "[encoded data removed]",
      "text/plain": [
       "<Figure size 1200x600 with 1 Axes>"
      ]
     },
     "metadata": {},
     "output_type": "display_data"
    }
   ],
   "source": [
    "import pandas as pd\n",
    "import numpy as np\n",
    "import datetime\n",
    "\n",
    "def generate_schedule(model, date_str, open_time_str, close_time_str, weather_description, attendance, additional_features=None):\n",
    "    \"\"\"\n",
    "    Génère un agenda de prédictions de WAIT_TIME_MAX pour une attraction pour une journée donnée.\n",
    "    \n",
    "    Paramètres:\n",
    "      - model: le modèle H2O (par exemple, issu de models_per_attraction) à utiliser pour la prédiction.\n",
    "      - date_str: date de la prédiction sous forme de chaîne (ex: '2025-02-13').\n",
    "      - open_time_str: heure d'ouverture au format 'HH:MM' (ex: '10:00').\n",
    "      - close_time_str: heure de fermeture au format 'HH:MM' (ex: '18:00').\n",
    "      - weather_description: description de la météo (ex: 'light rain').\n",
    "      - attendance: affluence du jour (ex: 46804).\n",
    "      - additional_features: dictionnaire optionnel contenant d'autres variables attendues par le modèle \n",
    "                              (par exemple, {'REF_CLOSING_DESCRIPTION': 'Open', 'NIGHT_SHOW_FLAG': 0, 'PARADE_FLAG': 0}).\n",
    "    \n",
    "    Retourne un DataFrame pandas contenant pour chaque créneau (toutes les 15 minutes) la date/heure et la prédiction.\n",
    "    \"\"\"\n",
    "    # Convertir les chaînes en objets datetime\n",
    "    date_obj = pd.to_datetime(date_str)\n",
    "    open_dt = pd.to_datetime(f\"{date_str} {open_time_str}\")\n",
    "    close_dt = pd.to_datetime(f\"{date_str} {close_time_str}\")\n",
    "    \n",
    "    # Initialiser la liste pour stocker l'agenda\n",
    "    schedule = []\n",
    "    current_dt = open_dt\n",
    "    \n",
    "    while current_dt <= close_dt:\n",
    "        # Pour la date donnée, les valeurs jour, mois et jour de la semaine restent constantes\n",
    "        month = date_obj.month\n",
    "        day = date_obj.day\n",
    "        weekday = date_obj.dayofweek  # 0 = lundi, 6 = dimanche\n",
    "        \n",
    "        # Pour l'heure actuelle\n",
    "        hour = current_dt.hour\n",
    "        minute = current_dt.minute\n",
    "        \n",
    "        # Calcul des encodages cycliques\n",
    "        month_sin = np.sin(2 * np.pi * month / 12)\n",
    "        month_cos = np.cos(2 * np.pi * month / 12)\n",
    "        day_sin = np.sin(2 * np.pi * day / 31)\n",
    "        day_cos = np.cos(2 * np.pi * day / 31)\n",
    "        weekday_sin = np.sin(2 * np.pi * weekday / 7)\n",
    "        weekday_cos = np.cos(2 * np.pi * weekday / 7)\n",
    "        hour_sin = np.sin(2 * np.pi * hour / 24)\n",
    "        hour_cos = np.cos(2 * np.pi * hour / 24)\n",
    "        minute_sin = np.sin(2 * np.pi * minute / 60)\n",
    "        minute_cos = np.cos(2 * np.pi * minute / 60)\n",
    "        \n",
    "        # Constitution du dictionnaire d'input pour le modèle.\n",
    "        # Veillez à ce que les clés correspondent exactement aux noms de colonnes attendus par votre modèle.\n",
    "        input_features = {\n",
    "            \"month_sin\": month_sin,\n",
    "            \"month_cos\": month_cos,\n",
    "            \"day_sin\": day_sin,\n",
    "            \"day_cos\": day_cos,\n",
    "            \"weekday_sin\": weekday_sin,\n",
    "            \"weekday_cos\": weekday_cos,\n",
    "            \"hour_sin\": hour_sin,\n",
    "            \"hour_cos\": hour_cos,\n",
    "            \"minute_sin\": minute_sin,\n",
    "            \"minute_cos\": minute_cos,\n",
    "            \"weather_description\": weather_description,\n",
    "            \"ATTENDANCE\": attendance  # si votre modèle utilise cette variable\n",
    "        }\n",
    "        # Ajout des éventuelles variables supplémentaires\n",
    "        if additional_features is not None:\n",
    "            input_features.update(additional_features)\n",
    "        \n",
    "        # Prédiction à l'aide de la fonction prédéfinie predict_wait_time\n",
    "        pred_wait = predict_wait_time(model, input_features)\n",
    "        \n",
    "        schedule.append({\n",
    "            \"datetime\": current_dt,\n",
    "            \"predicted_WAIT_TIME_MAX\": pred_wait\n",
    "        })\n",
    "        \n",
    "        # Passage au créneau suivant (15 minutes)\n",
    "        current_dt += datetime.timedelta(minutes=15)\n",
    "    \n",
    "    schedule_df = pd.DataFrame(schedule)\n",
    "    return schedule_df\n",
    "\n",
    "# Exemple d'utilisation :\n",
    "# On suppose que 'selected_model' est le modèle pour une attraction spécifique (par exemple, celui avec la MAE la plus faible)\n",
    "# Vous pouvez adapter les valeurs ci-dessous selon les besoins de votre client\n",
    "\n",
    "date_example = \"2025-02-13\"\n",
    "open_time_example = \"10:00\"\n",
    "close_time_example = \"18:00\"\n",
    "weather_example = \"light rain\"\n",
    "attendance_example = 46804\n",
    "\n",
    "# Optionnel : d'autres features attendues par le modèle (exemple)\n",
    "additional_features_example = {\n",
    "    \"REF_CLOSING_DESCRIPTION\": \"Open\",\n",
    "    \"NIGHT_SHOW_FLAG\": 0,\n",
    "    \"PARADE_FLAG\": 0\n",
    "}\n",
    "\n",
    "# Générer l'agenda pour l'attraction sélectionnée\n",
    "schedule_df = generate_schedule(selected_model, date_example, open_time_example, close_time_example, \n",
    "                                weather_example, attendance_example, additional_features_example)\n",
    "\n",
    "# Afficher l'agenda\n",
    "print(\"Agenda de prédiction du WAIT_TIME_MAX (toutes les 15 minutes) :\")\n",
    "print(schedule_df)\n",
    "\n",
    "# Optionnel : tracer l'évolution du temps d'attente prédit sur la journée\n",
    "import matplotlib.pyplot as plt\n",
    "\n",
    "plt.figure(figsize=(12,6))\n",
    "plt.plot(schedule_df[\"datetime\"], schedule_df[\"predicted_WAIT_TIME_MAX\"], marker='o')\n",
    "plt.xlabel(\"Date et heure\")\n",
    "plt.ylabel(\"Prédiction de WAIT_TIME_MAX\")\n",
    "plt.title(\"Agenda des prédictions de WAIT_TIME_MAX pour l'attraction\")\n",
    "plt.xticks(rotation=45)\n",
    "plt.grid(True)\n",
    "plt.show()"
   ]
  },
  {
   "cell_type": "code",
   "execution_count": 12,
   "metadata": {},
   "outputs": [
    {
     "name": "stdout",
     "output_type": "stream",
     "text": [
      "Parse progress: |████████████████████████████████████████████████████████████████| (done) 100%\n",
      "drf prediction progress: |███████████████████████████████████████████████████████| (done) 100%\n",
      "Parse progress: |"
     ]
    },
    {
     "name": "stderr",
     "output_type": "stream",
     "text": [
      "c:\\Users\\fatin\\AppData\\Local\\Programs\\Python\\Python312\\Lib\\site-packages\\h2o\\job.py:81: UserWarning: Test/Validation dataset is missing column 'CAPACITY': substituting in a column of NaN\n",
      "  warnings.warn(w)\n",
      "c:\\Users\\fatin\\AppData\\Local\\Programs\\Python\\Python312\\Lib\\site-packages\\h2o\\job.py:81: UserWarning: Test/Validation dataset is missing column 'OPEN_TIME': substituting in a column of NaN\n",
      "  warnings.warn(w)\n",
      "c:\\Users\\fatin\\AppData\\Local\\Programs\\Python\\Python312\\Lib\\site-packages\\h2o\\job.py:81: UserWarning: Test/Validation dataset is missing column 'UP_TIME': substituting in a column of NaN\n",
      "  warnings.warn(w)\n",
      "c:\\Users\\fatin\\AppData\\Local\\Programs\\Python\\Python312\\Lib\\site-packages\\h2o\\job.py:81: UserWarning: Test/Validation dataset is missing column 'feels_like': substituting in a column of NaN\n",
      "  warnings.warn(w)\n",
      "c:\\Users\\fatin\\AppData\\Local\\Programs\\Python\\Python312\\Lib\\site-packages\\h2o\\frame.py:1983: H2ODependencyWarning: Converting H2O frame to pandas dataframe using single-thread.  For faster conversion using multi-thread, install polars and pyarrow and use it as pandas_df = h2o_df.as_data_frame(use_multi_thread=True)\n",
      "\n",
      "  warnings.warn(\"Converting H2O frame to pandas dataframe using single-thread.  For faster conversion using\"\n"
     ]
    },
    {
     "name": "stdout",
     "output_type": "stream",
     "text": [
      "████████████████████████████████████████████████████████████████| (done) 100%\n",
      "drf prediction progress: |███████████████████████████████████████████████████████| (done) 100%\n",
      "Parse progress: |████████████████████████████████████████████████████████████████| (done) 100%\n"
     ]
    },
    {
     "name": "stderr",
     "output_type": "stream",
     "text": [
      "c:\\Users\\fatin\\AppData\\Local\\Programs\\Python\\Python312\\Lib\\site-packages\\h2o\\job.py:81: UserWarning: Test/Validation dataset is missing column 'CAPACITY': substituting in a column of NaN\n",
      "  warnings.warn(w)\n",
      "c:\\Users\\fatin\\AppData\\Local\\Programs\\Python\\Python312\\Lib\\site-packages\\h2o\\job.py:81: UserWarning: Test/Validation dataset is missing column 'OPEN_TIME': substituting in a column of NaN\n",
      "  warnings.warn(w)\n",
      "c:\\Users\\fatin\\AppData\\Local\\Programs\\Python\\Python312\\Lib\\site-packages\\h2o\\job.py:81: UserWarning: Test/Validation dataset is missing column 'UP_TIME': substituting in a column of NaN\n",
      "  warnings.warn(w)\n",
      "c:\\Users\\fatin\\AppData\\Local\\Programs\\Python\\Python312\\Lib\\site-packages\\h2o\\job.py:81: UserWarning: Test/Validation dataset is missing column 'feels_like': substituting in a column of NaN\n",
      "  warnings.warn(w)\n",
      "c:\\Users\\fatin\\AppData\\Local\\Programs\\Python\\Python312\\Lib\\site-packages\\h2o\\frame.py:1983: H2ODependencyWarning: Converting H2O frame to pandas dataframe using single-thread.  For faster conversion using multi-thread, install polars and pyarrow and use it as pandas_df = h2o_df.as_data_frame(use_multi_thread=True)\n",
      "\n",
      "  warnings.warn(\"Converting H2O frame to pandas dataframe using single-thread.  For faster conversion using\"\n"
     ]
    },
    {
     "name": "stdout",
     "output_type": "stream",
     "text": [
      "drf prediction progress: |███████████████████████████████████████████████████████| (done) 100%\n",
      "Parse progress: |████████████████████████████████████████████████████████████████| (done) 100%\n"
     ]
    },
    {
     "name": "stderr",
     "output_type": "stream",
     "text": [
      "c:\\Users\\fatin\\AppData\\Local\\Programs\\Python\\Python312\\Lib\\site-packages\\h2o\\job.py:81: UserWarning: Test/Validation dataset is missing column 'CAPACITY': substituting in a column of NaN\n",
      "  warnings.warn(w)\n",
      "c:\\Users\\fatin\\AppData\\Local\\Programs\\Python\\Python312\\Lib\\site-packages\\h2o\\job.py:81: UserWarning: Test/Validation dataset is missing column 'OPEN_TIME': substituting in a column of NaN\n",
      "  warnings.warn(w)\n",
      "c:\\Users\\fatin\\AppData\\Local\\Programs\\Python\\Python312\\Lib\\site-packages\\h2o\\job.py:81: UserWarning: Test/Validation dataset is missing column 'UP_TIME': substituting in a column of NaN\n",
      "  warnings.warn(w)\n",
      "c:\\Users\\fatin\\AppData\\Local\\Programs\\Python\\Python312\\Lib\\site-packages\\h2o\\job.py:81: UserWarning: Test/Validation dataset is missing column 'feels_like': substituting in a column of NaN\n",
      "  warnings.warn(w)\n",
      "c:\\Users\\fatin\\AppData\\Local\\Programs\\Python\\Python312\\Lib\\site-packages\\h2o\\frame.py:1983: H2ODependencyWarning: Converting H2O frame to pandas dataframe using single-thread.  For faster conversion using multi-thread, install polars and pyarrow and use it as pandas_df = h2o_df.as_data_frame(use_multi_thread=True)\n",
      "\n",
      "  warnings.warn(\"Converting H2O frame to pandas dataframe using single-thread.  For faster conversion using\"\n"
     ]
    },
    {
     "name": "stdout",
     "output_type": "stream",
     "text": [
      "drf prediction progress: |███████████████████████████████████████████████████████| (done) 100%\n",
      "Parse progress: |████████████████████████████████████████████████████████████████| (done) 100%\n"
     ]
    },
    {
     "name": "stderr",
     "output_type": "stream",
     "text": [
      "c:\\Users\\fatin\\AppData\\Local\\Programs\\Python\\Python312\\Lib\\site-packages\\h2o\\job.py:81: UserWarning: Test/Validation dataset is missing column 'CAPACITY': substituting in a column of NaN\n",
      "  warnings.warn(w)\n",
      "c:\\Users\\fatin\\AppData\\Local\\Programs\\Python\\Python312\\Lib\\site-packages\\h2o\\job.py:81: UserWarning: Test/Validation dataset is missing column 'OPEN_TIME': substituting in a column of NaN\n",
      "  warnings.warn(w)\n",
      "c:\\Users\\fatin\\AppData\\Local\\Programs\\Python\\Python312\\Lib\\site-packages\\h2o\\job.py:81: UserWarning: Test/Validation dataset is missing column 'UP_TIME': substituting in a column of NaN\n",
      "  warnings.warn(w)\n",
      "c:\\Users\\fatin\\AppData\\Local\\Programs\\Python\\Python312\\Lib\\site-packages\\h2o\\job.py:81: UserWarning: Test/Validation dataset is missing column 'feels_like': substituting in a column of NaN\n",
      "  warnings.warn(w)\n",
      "c:\\Users\\fatin\\AppData\\Local\\Programs\\Python\\Python312\\Lib\\site-packages\\h2o\\frame.py:1983: H2ODependencyWarning: Converting H2O frame to pandas dataframe using single-thread.  For faster conversion using multi-thread, install polars and pyarrow and use it as pandas_df = h2o_df.as_data_frame(use_multi_thread=True)\n",
      "\n",
      "  warnings.warn(\"Converting H2O frame to pandas dataframe using single-thread.  For faster conversion using\"\n"
     ]
    },
    {
     "name": "stdout",
     "output_type": "stream",
     "text": [
      "drf prediction progress: |███████████████████████████████████████████████████████| (done) 100%\n",
      "Parse progress: |████████████████████████████████████████████████████████████████| (done) 100%\n"
     ]
    },
    {
     "name": "stderr",
     "output_type": "stream",
     "text": [
      "c:\\Users\\fatin\\AppData\\Local\\Programs\\Python\\Python312\\Lib\\site-packages\\h2o\\job.py:81: UserWarning: Test/Validation dataset is missing column 'CAPACITY': substituting in a column of NaN\n",
      "  warnings.warn(w)\n",
      "c:\\Users\\fatin\\AppData\\Local\\Programs\\Python\\Python312\\Lib\\site-packages\\h2o\\job.py:81: UserWarning: Test/Validation dataset is missing column 'OPEN_TIME': substituting in a column of NaN\n",
      "  warnings.warn(w)\n",
      "c:\\Users\\fatin\\AppData\\Local\\Programs\\Python\\Python312\\Lib\\site-packages\\h2o\\job.py:81: UserWarning: Test/Validation dataset is missing column 'UP_TIME': substituting in a column of NaN\n",
      "  warnings.warn(w)\n",
      "c:\\Users\\fatin\\AppData\\Local\\Programs\\Python\\Python312\\Lib\\site-packages\\h2o\\job.py:81: UserWarning: Test/Validation dataset is missing column 'feels_like': substituting in a column of NaN\n",
      "  warnings.warn(w)\n",
      "c:\\Users\\fatin\\AppData\\Local\\Programs\\Python\\Python312\\Lib\\site-packages\\h2o\\frame.py:1983: H2ODependencyWarning: Converting H2O frame to pandas dataframe using single-thread.  For faster conversion using multi-thread, install polars and pyarrow and use it as pandas_df = h2o_df.as_data_frame(use_multi_thread=True)\n",
      "\n",
      "  warnings.warn(\"Converting H2O frame to pandas dataframe using single-thread.  For faster conversion using\"\n"
     ]
    },
    {
     "name": "stdout",
     "output_type": "stream",
     "text": [
      "drf prediction progress: |███████████████████████████████████████████████████████| (done) 100%\n",
      "Parse progress: |████████████████████████████████████████████████████████████████| (done) 100%\n"
     ]
    },
    {
     "name": "stderr",
     "output_type": "stream",
     "text": [
      "c:\\Users\\fatin\\AppData\\Local\\Programs\\Python\\Python312\\Lib\\site-packages\\h2o\\job.py:81: UserWarning: Test/Validation dataset is missing column 'CAPACITY': substituting in a column of NaN\n",
      "  warnings.warn(w)\n",
      "c:\\Users\\fatin\\AppData\\Local\\Programs\\Python\\Python312\\Lib\\site-packages\\h2o\\job.py:81: UserWarning: Test/Validation dataset is missing column 'OPEN_TIME': substituting in a column of NaN\n",
      "  warnings.warn(w)\n",
      "c:\\Users\\fatin\\AppData\\Local\\Programs\\Python\\Python312\\Lib\\site-packages\\h2o\\job.py:81: UserWarning: Test/Validation dataset is missing column 'UP_TIME': substituting in a column of NaN\n",
      "  warnings.warn(w)\n",
      "c:\\Users\\fatin\\AppData\\Local\\Programs\\Python\\Python312\\Lib\\site-packages\\h2o\\job.py:81: UserWarning: Test/Validation dataset is missing column 'feels_like': substituting in a column of NaN\n",
      "  warnings.warn(w)\n",
      "c:\\Users\\fatin\\AppData\\Local\\Programs\\Python\\Python312\\Lib\\site-packages\\h2o\\frame.py:1983: H2ODependencyWarning: Converting H2O frame to pandas dataframe using single-thread.  For faster conversion using multi-thread, install polars and pyarrow and use it as pandas_df = h2o_df.as_data_frame(use_multi_thread=True)\n",
      "\n",
      "  warnings.warn(\"Converting H2O frame to pandas dataframe using single-thread.  For faster conversion using\"\n"
     ]
    },
    {
     "name": "stdout",
     "output_type": "stream",
     "text": [
      "drf prediction progress: |███████████████████████████████████████████████████████| (done) 100%\n",
      "Parse progress: |████████████████████████████████████████████████████████████████| (done) 100%\n"
     ]
    },
    {
     "name": "stderr",
     "output_type": "stream",
     "text": [
      "c:\\Users\\fatin\\AppData\\Local\\Programs\\Python\\Python312\\Lib\\site-packages\\h2o\\job.py:81: UserWarning: Test/Validation dataset is missing column 'CAPACITY': substituting in a column of NaN\n",
      "  warnings.warn(w)\n",
      "c:\\Users\\fatin\\AppData\\Local\\Programs\\Python\\Python312\\Lib\\site-packages\\h2o\\job.py:81: UserWarning: Test/Validation dataset is missing column 'OPEN_TIME': substituting in a column of NaN\n",
      "  warnings.warn(w)\n",
      "c:\\Users\\fatin\\AppData\\Local\\Programs\\Python\\Python312\\Lib\\site-packages\\h2o\\job.py:81: UserWarning: Test/Validation dataset is missing column 'UP_TIME': substituting in a column of NaN\n",
      "  warnings.warn(w)\n",
      "c:\\Users\\fatin\\AppData\\Local\\Programs\\Python\\Python312\\Lib\\site-packages\\h2o\\job.py:81: UserWarning: Test/Validation dataset is missing column 'feels_like': substituting in a column of NaN\n",
      "  warnings.warn(w)\n",
      "c:\\Users\\fatin\\AppData\\Local\\Programs\\Python\\Python312\\Lib\\site-packages\\h2o\\frame.py:1983: H2ODependencyWarning: Converting H2O frame to pandas dataframe using single-thread.  For faster conversion using multi-thread, install polars and pyarrow and use it as pandas_df = h2o_df.as_data_frame(use_multi_thread=True)\n",
      "\n",
      "  warnings.warn(\"Converting H2O frame to pandas dataframe using single-thread.  For faster conversion using\"\n"
     ]
    },
    {
     "name": "stdout",
     "output_type": "stream",
     "text": [
      "drf prediction progress: |███████████████████████████████████████████████████████| (done) 100%\n",
      "Parse progress: |████████████████████████████████████████████████████████████████| (done) 100%\n"
     ]
    },
    {
     "name": "stderr",
     "output_type": "stream",
     "text": [
      "c:\\Users\\fatin\\AppData\\Local\\Programs\\Python\\Python312\\Lib\\site-packages\\h2o\\job.py:81: UserWarning: Test/Validation dataset is missing column 'CAPACITY': substituting in a column of NaN\n",
      "  warnings.warn(w)\n",
      "c:\\Users\\fatin\\AppData\\Local\\Programs\\Python\\Python312\\Lib\\site-packages\\h2o\\job.py:81: UserWarning: Test/Validation dataset is missing column 'OPEN_TIME': substituting in a column of NaN\n",
      "  warnings.warn(w)\n",
      "c:\\Users\\fatin\\AppData\\Local\\Programs\\Python\\Python312\\Lib\\site-packages\\h2o\\job.py:81: UserWarning: Test/Validation dataset is missing column 'UP_TIME': substituting in a column of NaN\n",
      "  warnings.warn(w)\n",
      "c:\\Users\\fatin\\AppData\\Local\\Programs\\Python\\Python312\\Lib\\site-packages\\h2o\\job.py:81: UserWarning: Test/Validation dataset is missing column 'feels_like': substituting in a column of NaN\n",
      "  warnings.warn(w)\n",
      "c:\\Users\\fatin\\AppData\\Local\\Programs\\Python\\Python312\\Lib\\site-packages\\h2o\\frame.py:1983: H2ODependencyWarning: Converting H2O frame to pandas dataframe using single-thread.  For faster conversion using multi-thread, install polars and pyarrow and use it as pandas_df = h2o_df.as_data_frame(use_multi_thread=True)\n",
      "\n",
      "  warnings.warn(\"Converting H2O frame to pandas dataframe using single-thread.  For faster conversion using\"\n"
     ]
    },
    {
     "name": "stdout",
     "output_type": "stream",
     "text": [
      "drf prediction progress: |███████████████████████████████████████████████████████| (done) 100%\n",
      "Parse progress: |████████████████████████████████████████████████████████████████| (done) 100%\n"
     ]
    },
    {
     "name": "stderr",
     "output_type": "stream",
     "text": [
      "c:\\Users\\fatin\\AppData\\Local\\Programs\\Python\\Python312\\Lib\\site-packages\\h2o\\job.py:81: UserWarning: Test/Validation dataset is missing column 'CAPACITY': substituting in a column of NaN\n",
      "  warnings.warn(w)\n",
      "c:\\Users\\fatin\\AppData\\Local\\Programs\\Python\\Python312\\Lib\\site-packages\\h2o\\job.py:81: UserWarning: Test/Validation dataset is missing column 'OPEN_TIME': substituting in a column of NaN\n",
      "  warnings.warn(w)\n",
      "c:\\Users\\fatin\\AppData\\Local\\Programs\\Python\\Python312\\Lib\\site-packages\\h2o\\job.py:81: UserWarning: Test/Validation dataset is missing column 'UP_TIME': substituting in a column of NaN\n",
      "  warnings.warn(w)\n",
      "c:\\Users\\fatin\\AppData\\Local\\Programs\\Python\\Python312\\Lib\\site-packages\\h2o\\job.py:81: UserWarning: Test/Validation dataset is missing column 'feels_like': substituting in a column of NaN\n",
      "  warnings.warn(w)\n",
      "c:\\Users\\fatin\\AppData\\Local\\Programs\\Python\\Python312\\Lib\\site-packages\\h2o\\frame.py:1983: H2ODependencyWarning: Converting H2O frame to pandas dataframe using single-thread.  For faster conversion using multi-thread, install polars and pyarrow and use it as pandas_df = h2o_df.as_data_frame(use_multi_thread=True)\n",
      "\n",
      "  warnings.warn(\"Converting H2O frame to pandas dataframe using single-thread.  For faster conversion using\"\n"
     ]
    },
    {
     "name": "stdout",
     "output_type": "stream",
     "text": [
      "drf prediction progress: |███████████████████████████████████████████████████████| (done) 100%\n",
      "Parse progress: |████████████████████████████████████████████████████████████████| (done) 100%\n"
     ]
    },
    {
     "name": "stderr",
     "output_type": "stream",
     "text": [
      "c:\\Users\\fatin\\AppData\\Local\\Programs\\Python\\Python312\\Lib\\site-packages\\h2o\\job.py:81: UserWarning: Test/Validation dataset is missing column 'CAPACITY': substituting in a column of NaN\n",
      "  warnings.warn(w)\n",
      "c:\\Users\\fatin\\AppData\\Local\\Programs\\Python\\Python312\\Lib\\site-packages\\h2o\\job.py:81: UserWarning: Test/Validation dataset is missing column 'OPEN_TIME': substituting in a column of NaN\n",
      "  warnings.warn(w)\n",
      "c:\\Users\\fatin\\AppData\\Local\\Programs\\Python\\Python312\\Lib\\site-packages\\h2o\\job.py:81: UserWarning: Test/Validation dataset is missing column 'UP_TIME': substituting in a column of NaN\n",
      "  warnings.warn(w)\n",
      "c:\\Users\\fatin\\AppData\\Local\\Programs\\Python\\Python312\\Lib\\site-packages\\h2o\\job.py:81: UserWarning: Test/Validation dataset is missing column 'feels_like': substituting in a column of NaN\n",
      "  warnings.warn(w)\n",
      "c:\\Users\\fatin\\AppData\\Local\\Programs\\Python\\Python312\\Lib\\site-packages\\h2o\\frame.py:1983: H2ODependencyWarning: Converting H2O frame to pandas dataframe using single-thread.  For faster conversion using multi-thread, install polars and pyarrow and use it as pandas_df = h2o_df.as_data_frame(use_multi_thread=True)\n",
      "\n",
      "  warnings.warn(\"Converting H2O frame to pandas dataframe using single-thread.  For faster conversion using\"\n"
     ]
    },
    {
     "name": "stdout",
     "output_type": "stream",
     "text": [
      "drf prediction progress: |███████████████████████████████████████████████████████| (done) 100%\n",
      "Parse progress: |████████████████████████████████████████████████████████████████| (done) 100%\n"
     ]
    },
    {
     "name": "stderr",
     "output_type": "stream",
     "text": [
      "c:\\Users\\fatin\\AppData\\Local\\Programs\\Python\\Python312\\Lib\\site-packages\\h2o\\job.py:81: UserWarning: Test/Validation dataset is missing column 'CAPACITY': substituting in a column of NaN\n",
      "  warnings.warn(w)\n",
      "c:\\Users\\fatin\\AppData\\Local\\Programs\\Python\\Python312\\Lib\\site-packages\\h2o\\job.py:81: UserWarning: Test/Validation dataset is missing column 'OPEN_TIME': substituting in a column of NaN\n",
      "  warnings.warn(w)\n",
      "c:\\Users\\fatin\\AppData\\Local\\Programs\\Python\\Python312\\Lib\\site-packages\\h2o\\job.py:81: UserWarning: Test/Validation dataset is missing column 'UP_TIME': substituting in a column of NaN\n",
      "  warnings.warn(w)\n",
      "c:\\Users\\fatin\\AppData\\Local\\Programs\\Python\\Python312\\Lib\\site-packages\\h2o\\job.py:81: UserWarning: Test/Validation dataset is missing column 'feels_like': substituting in a column of NaN\n",
      "  warnings.warn(w)\n",
      "c:\\Users\\fatin\\AppData\\Local\\Programs\\Python\\Python312\\Lib\\site-packages\\h2o\\frame.py:1983: H2ODependencyWarning: Converting H2O frame to pandas dataframe using single-thread.  For faster conversion using multi-thread, install polars and pyarrow and use it as pandas_df = h2o_df.as_data_frame(use_multi_thread=True)\n",
      "\n",
      "  warnings.warn(\"Converting H2O frame to pandas dataframe using single-thread.  For faster conversion using\"\n"
     ]
    },
    {
     "name": "stdout",
     "output_type": "stream",
     "text": [
      "drf prediction progress: |███████████████████████████████████████████████████████| (done) 100%\n",
      "Parse progress: |████████████████████████████████████████████████████████████████| (done) 100%\n"
     ]
    },
    {
     "name": "stderr",
     "output_type": "stream",
     "text": [
      "c:\\Users\\fatin\\AppData\\Local\\Programs\\Python\\Python312\\Lib\\site-packages\\h2o\\job.py:81: UserWarning: Test/Validation dataset is missing column 'CAPACITY': substituting in a column of NaN\n",
      "  warnings.warn(w)\n",
      "c:\\Users\\fatin\\AppData\\Local\\Programs\\Python\\Python312\\Lib\\site-packages\\h2o\\job.py:81: UserWarning: Test/Validation dataset is missing column 'OPEN_TIME': substituting in a column of NaN\n",
      "  warnings.warn(w)\n",
      "c:\\Users\\fatin\\AppData\\Local\\Programs\\Python\\Python312\\Lib\\site-packages\\h2o\\job.py:81: UserWarning: Test/Validation dataset is missing column 'UP_TIME': substituting in a column of NaN\n",
      "  warnings.warn(w)\n",
      "c:\\Users\\fatin\\AppData\\Local\\Programs\\Python\\Python312\\Lib\\site-packages\\h2o\\job.py:81: UserWarning: Test/Validation dataset is missing column 'feels_like': substituting in a column of NaN\n",
      "  warnings.warn(w)\n",
      "c:\\Users\\fatin\\AppData\\Local\\Programs\\Python\\Python312\\Lib\\site-packages\\h2o\\frame.py:1983: H2ODependencyWarning: Converting H2O frame to pandas dataframe using single-thread.  For faster conversion using multi-thread, install polars and pyarrow and use it as pandas_df = h2o_df.as_data_frame(use_multi_thread=True)\n",
      "\n",
      "  warnings.warn(\"Converting H2O frame to pandas dataframe using single-thread.  For faster conversion using\"\n"
     ]
    },
    {
     "name": "stdout",
     "output_type": "stream",
     "text": [
      "drf prediction progress: |███████████████████████████████████████████████████████| (done) 100%\n",
      "Parse progress: |████████████████████████████████████████████████████████████████| (done) 100%\n"
     ]
    },
    {
     "name": "stderr",
     "output_type": "stream",
     "text": [
      "c:\\Users\\fatin\\AppData\\Local\\Programs\\Python\\Python312\\Lib\\site-packages\\h2o\\job.py:81: UserWarning: Test/Validation dataset is missing column 'CAPACITY': substituting in a column of NaN\n",
      "  warnings.warn(w)\n",
      "c:\\Users\\fatin\\AppData\\Local\\Programs\\Python\\Python312\\Lib\\site-packages\\h2o\\job.py:81: UserWarning: Test/Validation dataset is missing column 'OPEN_TIME': substituting in a column of NaN\n",
      "  warnings.warn(w)\n",
      "c:\\Users\\fatin\\AppData\\Local\\Programs\\Python\\Python312\\Lib\\site-packages\\h2o\\job.py:81: UserWarning: Test/Validation dataset is missing column 'UP_TIME': substituting in a column of NaN\n",
      "  warnings.warn(w)\n",
      "c:\\Users\\fatin\\AppData\\Local\\Programs\\Python\\Python312\\Lib\\site-packages\\h2o\\job.py:81: UserWarning: Test/Validation dataset is missing column 'feels_like': substituting in a column of NaN\n",
      "  warnings.warn(w)\n",
      "c:\\Users\\fatin\\AppData\\Local\\Programs\\Python\\Python312\\Lib\\site-packages\\h2o\\frame.py:1983: H2ODependencyWarning: Converting H2O frame to pandas dataframe using single-thread.  For faster conversion using multi-thread, install polars and pyarrow and use it as pandas_df = h2o_df.as_data_frame(use_multi_thread=True)\n",
      "\n",
      "  warnings.warn(\"Converting H2O frame to pandas dataframe using single-thread.  For faster conversion using\"\n"
     ]
    },
    {
     "name": "stdout",
     "output_type": "stream",
     "text": [
      "drf prediction progress: |███████████████████████████████████████████████████████| (done) 100%\n",
      "Parse progress: |████████████████████████████████████████████████████████████████| (done) 100%\n"
     ]
    },
    {
     "name": "stderr",
     "output_type": "stream",
     "text": [
      "c:\\Users\\fatin\\AppData\\Local\\Programs\\Python\\Python312\\Lib\\site-packages\\h2o\\job.py:81: UserWarning: Test/Validation dataset is missing column 'CAPACITY': substituting in a column of NaN\n",
      "  warnings.warn(w)\n",
      "c:\\Users\\fatin\\AppData\\Local\\Programs\\Python\\Python312\\Lib\\site-packages\\h2o\\job.py:81: UserWarning: Test/Validation dataset is missing column 'OPEN_TIME': substituting in a column of NaN\n",
      "  warnings.warn(w)\n",
      "c:\\Users\\fatin\\AppData\\Local\\Programs\\Python\\Python312\\Lib\\site-packages\\h2o\\job.py:81: UserWarning: Test/Validation dataset is missing column 'UP_TIME': substituting in a column of NaN\n",
      "  warnings.warn(w)\n",
      "c:\\Users\\fatin\\AppData\\Local\\Programs\\Python\\Python312\\Lib\\site-packages\\h2o\\job.py:81: UserWarning: Test/Validation dataset is missing column 'feels_like': substituting in a column of NaN\n",
      "  warnings.warn(w)\n",
      "c:\\Users\\fatin\\AppData\\Local\\Programs\\Python\\Python312\\Lib\\site-packages\\h2o\\frame.py:1983: H2ODependencyWarning: Converting H2O frame to pandas dataframe using single-thread.  For faster conversion using multi-thread, install polars and pyarrow and use it as pandas_df = h2o_df.as_data_frame(use_multi_thread=True)\n",
      "\n",
      "  warnings.warn(\"Converting H2O frame to pandas dataframe using single-thread.  For faster conversion using\"\n"
     ]
    },
    {
     "name": "stdout",
     "output_type": "stream",
     "text": [
      "drf prediction progress: |███████████████████████████████████████████████████████| (done) 100%\n",
      "Parse progress: |████████████████████████████████████████████████████████████████| (done) 100%\n"
     ]
    },
    {
     "name": "stderr",
     "output_type": "stream",
     "text": [
      "c:\\Users\\fatin\\AppData\\Local\\Programs\\Python\\Python312\\Lib\\site-packages\\h2o\\job.py:81: UserWarning: Test/Validation dataset is missing column 'CAPACITY': substituting in a column of NaN\n",
      "  warnings.warn(w)\n",
      "c:\\Users\\fatin\\AppData\\Local\\Programs\\Python\\Python312\\Lib\\site-packages\\h2o\\job.py:81: UserWarning: Test/Validation dataset is missing column 'OPEN_TIME': substituting in a column of NaN\n",
      "  warnings.warn(w)\n",
      "c:\\Users\\fatin\\AppData\\Local\\Programs\\Python\\Python312\\Lib\\site-packages\\h2o\\job.py:81: UserWarning: Test/Validation dataset is missing column 'UP_TIME': substituting in a column of NaN\n",
      "  warnings.warn(w)\n",
      "c:\\Users\\fatin\\AppData\\Local\\Programs\\Python\\Python312\\Lib\\site-packages\\h2o\\job.py:81: UserWarning: Test/Validation dataset is missing column 'feels_like': substituting in a column of NaN\n",
      "  warnings.warn(w)\n",
      "c:\\Users\\fatin\\AppData\\Local\\Programs\\Python\\Python312\\Lib\\site-packages\\h2o\\frame.py:1983: H2ODependencyWarning: Converting H2O frame to pandas dataframe using single-thread.  For faster conversion using multi-thread, install polars and pyarrow and use it as pandas_df = h2o_df.as_data_frame(use_multi_thread=True)\n",
      "\n",
      "  warnings.warn(\"Converting H2O frame to pandas dataframe using single-thread.  For faster conversion using\"\n"
     ]
    },
    {
     "name": "stdout",
     "output_type": "stream",
     "text": [
      "drf prediction progress: |███████████████████████████████████████████████████████| (done) 100%\n",
      "Parse progress: |████████████████████████████████████████████████████████████████| (done) 100%\n"
     ]
    },
    {
     "name": "stderr",
     "output_type": "stream",
     "text": [
      "c:\\Users\\fatin\\AppData\\Local\\Programs\\Python\\Python312\\Lib\\site-packages\\h2o\\job.py:81: UserWarning: Test/Validation dataset is missing column 'CAPACITY': substituting in a column of NaN\n",
      "  warnings.warn(w)\n",
      "c:\\Users\\fatin\\AppData\\Local\\Programs\\Python\\Python312\\Lib\\site-packages\\h2o\\job.py:81: UserWarning: Test/Validation dataset is missing column 'OPEN_TIME': substituting in a column of NaN\n",
      "  warnings.warn(w)\n",
      "c:\\Users\\fatin\\AppData\\Local\\Programs\\Python\\Python312\\Lib\\site-packages\\h2o\\job.py:81: UserWarning: Test/Validation dataset is missing column 'UP_TIME': substituting in a column of NaN\n",
      "  warnings.warn(w)\n",
      "c:\\Users\\fatin\\AppData\\Local\\Programs\\Python\\Python312\\Lib\\site-packages\\h2o\\job.py:81: UserWarning: Test/Validation dataset is missing column 'feels_like': substituting in a column of NaN\n",
      "  warnings.warn(w)\n",
      "c:\\Users\\fatin\\AppData\\Local\\Programs\\Python\\Python312\\Lib\\site-packages\\h2o\\frame.py:1983: H2ODependencyWarning: Converting H2O frame to pandas dataframe using single-thread.  For faster conversion using multi-thread, install polars and pyarrow and use it as pandas_df = h2o_df.as_data_frame(use_multi_thread=True)\n",
      "\n",
      "  warnings.warn(\"Converting H2O frame to pandas dataframe using single-thread.  For faster conversion using\"\n"
     ]
    },
    {
     "name": "stdout",
     "output_type": "stream",
     "text": [
      "drf prediction progress: |███████████████████████████████████████████████████████| (done) 100%\n",
      "Parse progress: |████████████████████████████████████████████████████████████████| (done) 100%\n"
     ]
    },
    {
     "name": "stderr",
     "output_type": "stream",
     "text": [
      "c:\\Users\\fatin\\AppData\\Local\\Programs\\Python\\Python312\\Lib\\site-packages\\h2o\\job.py:81: UserWarning: Test/Validation dataset is missing column 'CAPACITY': substituting in a column of NaN\n",
      "  warnings.warn(w)\n",
      "c:\\Users\\fatin\\AppData\\Local\\Programs\\Python\\Python312\\Lib\\site-packages\\h2o\\job.py:81: UserWarning: Test/Validation dataset is missing column 'OPEN_TIME': substituting in a column of NaN\n",
      "  warnings.warn(w)\n",
      "c:\\Users\\fatin\\AppData\\Local\\Programs\\Python\\Python312\\Lib\\site-packages\\h2o\\job.py:81: UserWarning: Test/Validation dataset is missing column 'UP_TIME': substituting in a column of NaN\n",
      "  warnings.warn(w)\n",
      "c:\\Users\\fatin\\AppData\\Local\\Programs\\Python\\Python312\\Lib\\site-packages\\h2o\\job.py:81: UserWarning: Test/Validation dataset is missing column 'feels_like': substituting in a column of NaN\n",
      "  warnings.warn(w)\n",
      "c:\\Users\\fatin\\AppData\\Local\\Programs\\Python\\Python312\\Lib\\site-packages\\h2o\\frame.py:1983: H2ODependencyWarning: Converting H2O frame to pandas dataframe using single-thread.  For faster conversion using multi-thread, install polars and pyarrow and use it as pandas_df = h2o_df.as_data_frame(use_multi_thread=True)\n",
      "\n",
      "  warnings.warn(\"Converting H2O frame to pandas dataframe using single-thread.  For faster conversion using\"\n"
     ]
    },
    {
     "name": "stdout",
     "output_type": "stream",
     "text": [
      "drf prediction progress: |███████████████████████████████████████████████████████| (done) 100%\n",
      "Parse progress: |████████████████████████████████████████████████████████████████| (done) 100%\n"
     ]
    },
    {
     "name": "stderr",
     "output_type": "stream",
     "text": [
      "c:\\Users\\fatin\\AppData\\Local\\Programs\\Python\\Python312\\Lib\\site-packages\\h2o\\job.py:81: UserWarning: Test/Validation dataset is missing column 'CAPACITY': substituting in a column of NaN\n",
      "  warnings.warn(w)\n",
      "c:\\Users\\fatin\\AppData\\Local\\Programs\\Python\\Python312\\Lib\\site-packages\\h2o\\job.py:81: UserWarning: Test/Validation dataset is missing column 'OPEN_TIME': substituting in a column of NaN\n",
      "  warnings.warn(w)\n",
      "c:\\Users\\fatin\\AppData\\Local\\Programs\\Python\\Python312\\Lib\\site-packages\\h2o\\job.py:81: UserWarning: Test/Validation dataset is missing column 'UP_TIME': substituting in a column of NaN\n",
      "  warnings.warn(w)\n",
      "c:\\Users\\fatin\\AppData\\Local\\Programs\\Python\\Python312\\Lib\\site-packages\\h2o\\job.py:81: UserWarning: Test/Validation dataset is missing column 'feels_like': substituting in a column of NaN\n",
      "  warnings.warn(w)\n",
      "c:\\Users\\fatin\\AppData\\Local\\Programs\\Python\\Python312\\Lib\\site-packages\\h2o\\frame.py:1983: H2ODependencyWarning: Converting H2O frame to pandas dataframe using single-thread.  For faster conversion using multi-thread, install polars and pyarrow and use it as pandas_df = h2o_df.as_data_frame(use_multi_thread=True)\n",
      "\n",
      "  warnings.warn(\"Converting H2O frame to pandas dataframe using single-thread.  For faster conversion using\"\n"
     ]
    },
    {
     "name": "stdout",
     "output_type": "stream",
     "text": [
      "drf prediction progress: |███████████████████████████████████████████████████████| (done) 100%\n",
      "Parse progress: |████████████████████████████████████████████████████████████████| (done) 100%\n"
     ]
    },
    {
     "name": "stderr",
     "output_type": "stream",
     "text": [
      "c:\\Users\\fatin\\AppData\\Local\\Programs\\Python\\Python312\\Lib\\site-packages\\h2o\\job.py:81: UserWarning: Test/Validation dataset is missing column 'CAPACITY': substituting in a column of NaN\n",
      "  warnings.warn(w)\n",
      "c:\\Users\\fatin\\AppData\\Local\\Programs\\Python\\Python312\\Lib\\site-packages\\h2o\\job.py:81: UserWarning: Test/Validation dataset is missing column 'OPEN_TIME': substituting in a column of NaN\n",
      "  warnings.warn(w)\n",
      "c:\\Users\\fatin\\AppData\\Local\\Programs\\Python\\Python312\\Lib\\site-packages\\h2o\\job.py:81: UserWarning: Test/Validation dataset is missing column 'UP_TIME': substituting in a column of NaN\n",
      "  warnings.warn(w)\n",
      "c:\\Users\\fatin\\AppData\\Local\\Programs\\Python\\Python312\\Lib\\site-packages\\h2o\\job.py:81: UserWarning: Test/Validation dataset is missing column 'feels_like': substituting in a column of NaN\n",
      "  warnings.warn(w)\n",
      "c:\\Users\\fatin\\AppData\\Local\\Programs\\Python\\Python312\\Lib\\site-packages\\h2o\\frame.py:1983: H2ODependencyWarning: Converting H2O frame to pandas dataframe using single-thread.  For faster conversion using multi-thread, install polars and pyarrow and use it as pandas_df = h2o_df.as_data_frame(use_multi_thread=True)\n",
      "\n",
      "  warnings.warn(\"Converting H2O frame to pandas dataframe using single-thread.  For faster conversion using\"\n"
     ]
    },
    {
     "name": "stdout",
     "output_type": "stream",
     "text": [
      "drf prediction progress: |███████████████████████████████████████████████████████| (done) 100%\n",
      "Parse progress: |████████████████████████████████████████████████████████████████| (done) 100%\n"
     ]
    },
    {
     "name": "stderr",
     "output_type": "stream",
     "text": [
      "c:\\Users\\fatin\\AppData\\Local\\Programs\\Python\\Python312\\Lib\\site-packages\\h2o\\job.py:81: UserWarning: Test/Validation dataset is missing column 'CAPACITY': substituting in a column of NaN\n",
      "  warnings.warn(w)\n",
      "c:\\Users\\fatin\\AppData\\Local\\Programs\\Python\\Python312\\Lib\\site-packages\\h2o\\job.py:81: UserWarning: Test/Validation dataset is missing column 'OPEN_TIME': substituting in a column of NaN\n",
      "  warnings.warn(w)\n",
      "c:\\Users\\fatin\\AppData\\Local\\Programs\\Python\\Python312\\Lib\\site-packages\\h2o\\job.py:81: UserWarning: Test/Validation dataset is missing column 'UP_TIME': substituting in a column of NaN\n",
      "  warnings.warn(w)\n",
      "c:\\Users\\fatin\\AppData\\Local\\Programs\\Python\\Python312\\Lib\\site-packages\\h2o\\job.py:81: UserWarning: Test/Validation dataset is missing column 'feels_like': substituting in a column of NaN\n",
      "  warnings.warn(w)\n",
      "c:\\Users\\fatin\\AppData\\Local\\Programs\\Python\\Python312\\Lib\\site-packages\\h2o\\frame.py:1983: H2ODependencyWarning: Converting H2O frame to pandas dataframe using single-thread.  For faster conversion using multi-thread, install polars and pyarrow and use it as pandas_df = h2o_df.as_data_frame(use_multi_thread=True)\n",
      "\n",
      "  warnings.warn(\"Converting H2O frame to pandas dataframe using single-thread.  For faster conversion using\"\n"
     ]
    },
    {
     "name": "stdout",
     "output_type": "stream",
     "text": [
      "drf prediction progress: |███████████████████████████████████████████████████████| (done) 100%\n",
      "Parse progress: |████████████████████████████████████████████████████████████████| (done) 100%\n"
     ]
    },
    {
     "name": "stderr",
     "output_type": "stream",
     "text": [
      "c:\\Users\\fatin\\AppData\\Local\\Programs\\Python\\Python312\\Lib\\site-packages\\h2o\\job.py:81: UserWarning: Test/Validation dataset is missing column 'CAPACITY': substituting in a column of NaN\n",
      "  warnings.warn(w)\n",
      "c:\\Users\\fatin\\AppData\\Local\\Programs\\Python\\Python312\\Lib\\site-packages\\h2o\\job.py:81: UserWarning: Test/Validation dataset is missing column 'OPEN_TIME': substituting in a column of NaN\n",
      "  warnings.warn(w)\n",
      "c:\\Users\\fatin\\AppData\\Local\\Programs\\Python\\Python312\\Lib\\site-packages\\h2o\\job.py:81: UserWarning: Test/Validation dataset is missing column 'UP_TIME': substituting in a column of NaN\n",
      "  warnings.warn(w)\n",
      "c:\\Users\\fatin\\AppData\\Local\\Programs\\Python\\Python312\\Lib\\site-packages\\h2o\\job.py:81: UserWarning: Test/Validation dataset is missing column 'feels_like': substituting in a column of NaN\n",
      "  warnings.warn(w)\n",
      "c:\\Users\\fatin\\AppData\\Local\\Programs\\Python\\Python312\\Lib\\site-packages\\h2o\\frame.py:1983: H2ODependencyWarning: Converting H2O frame to pandas dataframe using single-thread.  For faster conversion using multi-thread, install polars and pyarrow and use it as pandas_df = h2o_df.as_data_frame(use_multi_thread=True)\n",
      "\n",
      "  warnings.warn(\"Converting H2O frame to pandas dataframe using single-thread.  For faster conversion using\"\n"
     ]
    },
    {
     "name": "stdout",
     "output_type": "stream",
     "text": [
      "drf prediction progress: |███████████████████████████████████████████████████████| (done) 100%\n",
      "Parse progress: |████████████████████████████████████████████████████████████████| (done) 100%\n"
     ]
    },
    {
     "name": "stderr",
     "output_type": "stream",
     "text": [
      "c:\\Users\\fatin\\AppData\\Local\\Programs\\Python\\Python312\\Lib\\site-packages\\h2o\\job.py:81: UserWarning: Test/Validation dataset is missing column 'CAPACITY': substituting in a column of NaN\n",
      "  warnings.warn(w)\n",
      "c:\\Users\\fatin\\AppData\\Local\\Programs\\Python\\Python312\\Lib\\site-packages\\h2o\\job.py:81: UserWarning: Test/Validation dataset is missing column 'OPEN_TIME': substituting in a column of NaN\n",
      "  warnings.warn(w)\n",
      "c:\\Users\\fatin\\AppData\\Local\\Programs\\Python\\Python312\\Lib\\site-packages\\h2o\\job.py:81: UserWarning: Test/Validation dataset is missing column 'UP_TIME': substituting in a column of NaN\n",
      "  warnings.warn(w)\n",
      "c:\\Users\\fatin\\AppData\\Local\\Programs\\Python\\Python312\\Lib\\site-packages\\h2o\\job.py:81: UserWarning: Test/Validation dataset is missing column 'feels_like': substituting in a column of NaN\n",
      "  warnings.warn(w)\n",
      "c:\\Users\\fatin\\AppData\\Local\\Programs\\Python\\Python312\\Lib\\site-packages\\h2o\\frame.py:1983: H2ODependencyWarning: Converting H2O frame to pandas dataframe using single-thread.  For faster conversion using multi-thread, install polars and pyarrow and use it as pandas_df = h2o_df.as_data_frame(use_multi_thread=True)\n",
      "\n",
      "  warnings.warn(\"Converting H2O frame to pandas dataframe using single-thread.  For faster conversion using\"\n"
     ]
    },
    {
     "name": "stdout",
     "output_type": "stream",
     "text": [
      "drf prediction progress: |███████████████████████████████████████████████████████| (done) 100%\n",
      "Parse progress: |████████████████████████████████████████████████████████████████| (done) 100%\n"
     ]
    },
    {
     "name": "stderr",
     "output_type": "stream",
     "text": [
      "c:\\Users\\fatin\\AppData\\Local\\Programs\\Python\\Python312\\Lib\\site-packages\\h2o\\job.py:81: UserWarning: Test/Validation dataset is missing column 'CAPACITY': substituting in a column of NaN\n",
      "  warnings.warn(w)\n",
      "c:\\Users\\fatin\\AppData\\Local\\Programs\\Python\\Python312\\Lib\\site-packages\\h2o\\job.py:81: UserWarning: Test/Validation dataset is missing column 'OPEN_TIME': substituting in a column of NaN\n",
      "  warnings.warn(w)\n",
      "c:\\Users\\fatin\\AppData\\Local\\Programs\\Python\\Python312\\Lib\\site-packages\\h2o\\job.py:81: UserWarning: Test/Validation dataset is missing column 'UP_TIME': substituting in a column of NaN\n",
      "  warnings.warn(w)\n",
      "c:\\Users\\fatin\\AppData\\Local\\Programs\\Python\\Python312\\Lib\\site-packages\\h2o\\job.py:81: UserWarning: Test/Validation dataset is missing column 'feels_like': substituting in a column of NaN\n",
      "  warnings.warn(w)\n",
      "c:\\Users\\fatin\\AppData\\Local\\Programs\\Python\\Python312\\Lib\\site-packages\\h2o\\frame.py:1983: H2ODependencyWarning: Converting H2O frame to pandas dataframe using single-thread.  For faster conversion using multi-thread, install polars and pyarrow and use it as pandas_df = h2o_df.as_data_frame(use_multi_thread=True)\n",
      "\n",
      "  warnings.warn(\"Converting H2O frame to pandas dataframe using single-thread.  For faster conversion using\"\n"
     ]
    },
    {
     "name": "stdout",
     "output_type": "stream",
     "text": [
      "drf prediction progress: |███████████████████████████████████████████████████████| (done) 100%\n",
      "Parse progress: |████████████████████████████████████████████████████████████████| (done) 100%\n"
     ]
    },
    {
     "name": "stderr",
     "output_type": "stream",
     "text": [
      "c:\\Users\\fatin\\AppData\\Local\\Programs\\Python\\Python312\\Lib\\site-packages\\h2o\\job.py:81: UserWarning: Test/Validation dataset is missing column 'CAPACITY': substituting in a column of NaN\n",
      "  warnings.warn(w)\n",
      "c:\\Users\\fatin\\AppData\\Local\\Programs\\Python\\Python312\\Lib\\site-packages\\h2o\\job.py:81: UserWarning: Test/Validation dataset is missing column 'OPEN_TIME': substituting in a column of NaN\n",
      "  warnings.warn(w)\n",
      "c:\\Users\\fatin\\AppData\\Local\\Programs\\Python\\Python312\\Lib\\site-packages\\h2o\\job.py:81: UserWarning: Test/Validation dataset is missing column 'UP_TIME': substituting in a column of NaN\n",
      "  warnings.warn(w)\n",
      "c:\\Users\\fatin\\AppData\\Local\\Programs\\Python\\Python312\\Lib\\site-packages\\h2o\\job.py:81: UserWarning: Test/Validation dataset is missing column 'feels_like': substituting in a column of NaN\n",
      "  warnings.warn(w)\n",
      "c:\\Users\\fatin\\AppData\\Local\\Programs\\Python\\Python312\\Lib\\site-packages\\h2o\\frame.py:1983: H2ODependencyWarning: Converting H2O frame to pandas dataframe using single-thread.  For faster conversion using multi-thread, install polars and pyarrow and use it as pandas_df = h2o_df.as_data_frame(use_multi_thread=True)\n",
      "\n",
      "  warnings.warn(\"Converting H2O frame to pandas dataframe using single-thread.  For faster conversion using\"\n"
     ]
    },
    {
     "name": "stdout",
     "output_type": "stream",
     "text": [
      "drf prediction progress: |███████████████████████████████████████████████████████| (done) 100%\n",
      "Parse progress: |████████████████████████████████████████████████████████████████| (done) 100%\n"
     ]
    },
    {
     "name": "stderr",
     "output_type": "stream",
     "text": [
      "c:\\Users\\fatin\\AppData\\Local\\Programs\\Python\\Python312\\Lib\\site-packages\\h2o\\job.py:81: UserWarning: Test/Validation dataset is missing column 'CAPACITY': substituting in a column of NaN\n",
      "  warnings.warn(w)\n",
      "c:\\Users\\fatin\\AppData\\Local\\Programs\\Python\\Python312\\Lib\\site-packages\\h2o\\job.py:81: UserWarning: Test/Validation dataset is missing column 'OPEN_TIME': substituting in a column of NaN\n",
      "  warnings.warn(w)\n",
      "c:\\Users\\fatin\\AppData\\Local\\Programs\\Python\\Python312\\Lib\\site-packages\\h2o\\job.py:81: UserWarning: Test/Validation dataset is missing column 'UP_TIME': substituting in a column of NaN\n",
      "  warnings.warn(w)\n",
      "c:\\Users\\fatin\\AppData\\Local\\Programs\\Python\\Python312\\Lib\\site-packages\\h2o\\job.py:81: UserWarning: Test/Validation dataset is missing column 'feels_like': substituting in a column of NaN\n",
      "  warnings.warn(w)\n",
      "c:\\Users\\fatin\\AppData\\Local\\Programs\\Python\\Python312\\Lib\\site-packages\\h2o\\frame.py:1983: H2ODependencyWarning: Converting H2O frame to pandas dataframe using single-thread.  For faster conversion using multi-thread, install polars and pyarrow and use it as pandas_df = h2o_df.as_data_frame(use_multi_thread=True)\n",
      "\n",
      "  warnings.warn(\"Converting H2O frame to pandas dataframe using single-thread.  For faster conversion using\"\n"
     ]
    },
    {
     "name": "stdout",
     "output_type": "stream",
     "text": [
      "drf prediction progress: |███████████████████████████████████████████████████████| (done) 100%\n",
      "Parse progress: |████████████████████████████████████████████████████████████████| (done) 100%\n"
     ]
    },
    {
     "name": "stderr",
     "output_type": "stream",
     "text": [
      "c:\\Users\\fatin\\AppData\\Local\\Programs\\Python\\Python312\\Lib\\site-packages\\h2o\\job.py:81: UserWarning: Test/Validation dataset is missing column 'CAPACITY': substituting in a column of NaN\n",
      "  warnings.warn(w)\n",
      "c:\\Users\\fatin\\AppData\\Local\\Programs\\Python\\Python312\\Lib\\site-packages\\h2o\\job.py:81: UserWarning: Test/Validation dataset is missing column 'OPEN_TIME': substituting in a column of NaN\n",
      "  warnings.warn(w)\n",
      "c:\\Users\\fatin\\AppData\\Local\\Programs\\Python\\Python312\\Lib\\site-packages\\h2o\\job.py:81: UserWarning: Test/Validation dataset is missing column 'UP_TIME': substituting in a column of NaN\n",
      "  warnings.warn(w)\n",
      "c:\\Users\\fatin\\AppData\\Local\\Programs\\Python\\Python312\\Lib\\site-packages\\h2o\\job.py:81: UserWarning: Test/Validation dataset is missing column 'feels_like': substituting in a column of NaN\n",
      "  warnings.warn(w)\n",
      "c:\\Users\\fatin\\AppData\\Local\\Programs\\Python\\Python312\\Lib\\site-packages\\h2o\\frame.py:1983: H2ODependencyWarning: Converting H2O frame to pandas dataframe using single-thread.  For faster conversion using multi-thread, install polars and pyarrow and use it as pandas_df = h2o_df.as_data_frame(use_multi_thread=True)\n",
      "\n",
      "  warnings.warn(\"Converting H2O frame to pandas dataframe using single-thread.  For faster conversion using\"\n"
     ]
    },
    {
     "name": "stdout",
     "output_type": "stream",
     "text": [
      "drf prediction progress: |███████████████████████████████████████████████████████| (done) 100%\n",
      "Parse progress: |████████████████████████████████████████████████████████████████| (done) 100%\n"
     ]
    },
    {
     "name": "stderr",
     "output_type": "stream",
     "text": [
      "c:\\Users\\fatin\\AppData\\Local\\Programs\\Python\\Python312\\Lib\\site-packages\\h2o\\job.py:81: UserWarning: Test/Validation dataset is missing column 'CAPACITY': substituting in a column of NaN\n",
      "  warnings.warn(w)\n",
      "c:\\Users\\fatin\\AppData\\Local\\Programs\\Python\\Python312\\Lib\\site-packages\\h2o\\job.py:81: UserWarning: Test/Validation dataset is missing column 'OPEN_TIME': substituting in a column of NaN\n",
      "  warnings.warn(w)\n",
      "c:\\Users\\fatin\\AppData\\Local\\Programs\\Python\\Python312\\Lib\\site-packages\\h2o\\job.py:81: UserWarning: Test/Validation dataset is missing column 'UP_TIME': substituting in a column of NaN\n",
      "  warnings.warn(w)\n",
      "c:\\Users\\fatin\\AppData\\Local\\Programs\\Python\\Python312\\Lib\\site-packages\\h2o\\job.py:81: UserWarning: Test/Validation dataset is missing column 'feels_like': substituting in a column of NaN\n",
      "  warnings.warn(w)\n",
      "c:\\Users\\fatin\\AppData\\Local\\Programs\\Python\\Python312\\Lib\\site-packages\\h2o\\frame.py:1983: H2ODependencyWarning: Converting H2O frame to pandas dataframe using single-thread.  For faster conversion using multi-thread, install polars and pyarrow and use it as pandas_df = h2o_df.as_data_frame(use_multi_thread=True)\n",
      "\n",
      "  warnings.warn(\"Converting H2O frame to pandas dataframe using single-thread.  For faster conversion using\"\n"
     ]
    },
    {
     "name": "stdout",
     "output_type": "stream",
     "text": [
      "drf prediction progress: |███████████████████████████████████████████████████████| (done) 100%\n",
      "Parse progress: |████████████████████████████████████████████████████████████████| (done) 100%\n"
     ]
    },
    {
     "name": "stderr",
     "output_type": "stream",
     "text": [
      "c:\\Users\\fatin\\AppData\\Local\\Programs\\Python\\Python312\\Lib\\site-packages\\h2o\\job.py:81: UserWarning: Test/Validation dataset is missing column 'CAPACITY': substituting in a column of NaN\n",
      "  warnings.warn(w)\n",
      "c:\\Users\\fatin\\AppData\\Local\\Programs\\Python\\Python312\\Lib\\site-packages\\h2o\\job.py:81: UserWarning: Test/Validation dataset is missing column 'OPEN_TIME': substituting in a column of NaN\n",
      "  warnings.warn(w)\n",
      "c:\\Users\\fatin\\AppData\\Local\\Programs\\Python\\Python312\\Lib\\site-packages\\h2o\\job.py:81: UserWarning: Test/Validation dataset is missing column 'UP_TIME': substituting in a column of NaN\n",
      "  warnings.warn(w)\n",
      "c:\\Users\\fatin\\AppData\\Local\\Programs\\Python\\Python312\\Lib\\site-packages\\h2o\\job.py:81: UserWarning: Test/Validation dataset is missing column 'feels_like': substituting in a column of NaN\n",
      "  warnings.warn(w)\n",
      "c:\\Users\\fatin\\AppData\\Local\\Programs\\Python\\Python312\\Lib\\site-packages\\h2o\\frame.py:1983: H2ODependencyWarning: Converting H2O frame to pandas dataframe using single-thread.  For faster conversion using multi-thread, install polars and pyarrow and use it as pandas_df = h2o_df.as_data_frame(use_multi_thread=True)\n",
      "\n",
      "  warnings.warn(\"Converting H2O frame to pandas dataframe using single-thread.  For faster conversion using\"\n"
     ]
    },
    {
     "name": "stdout",
     "output_type": "stream",
     "text": [
      "drf prediction progress: |███████████████████████████████████████████████████████| (done) 100%\n",
      "Parse progress: |████████████████████████████████████████████████████████████████| (done) 100%\n"
     ]
    },
    {
     "name": "stderr",
     "output_type": "stream",
     "text": [
      "c:\\Users\\fatin\\AppData\\Local\\Programs\\Python\\Python312\\Lib\\site-packages\\h2o\\job.py:81: UserWarning: Test/Validation dataset is missing column 'CAPACITY': substituting in a column of NaN\n",
      "  warnings.warn(w)\n",
      "c:\\Users\\fatin\\AppData\\Local\\Programs\\Python\\Python312\\Lib\\site-packages\\h2o\\job.py:81: UserWarning: Test/Validation dataset is missing column 'OPEN_TIME': substituting in a column of NaN\n",
      "  warnings.warn(w)\n",
      "c:\\Users\\fatin\\AppData\\Local\\Programs\\Python\\Python312\\Lib\\site-packages\\h2o\\job.py:81: UserWarning: Test/Validation dataset is missing column 'UP_TIME': substituting in a column of NaN\n",
      "  warnings.warn(w)\n",
      "c:\\Users\\fatin\\AppData\\Local\\Programs\\Python\\Python312\\Lib\\site-packages\\h2o\\job.py:81: UserWarning: Test/Validation dataset is missing column 'feels_like': substituting in a column of NaN\n",
      "  warnings.warn(w)\n",
      "c:\\Users\\fatin\\AppData\\Local\\Programs\\Python\\Python312\\Lib\\site-packages\\h2o\\frame.py:1983: H2ODependencyWarning: Converting H2O frame to pandas dataframe using single-thread.  For faster conversion using multi-thread, install polars and pyarrow and use it as pandas_df = h2o_df.as_data_frame(use_multi_thread=True)\n",
      "\n",
      "  warnings.warn(\"Converting H2O frame to pandas dataframe using single-thread.  For faster conversion using\"\n"
     ]
    },
    {
     "name": "stdout",
     "output_type": "stream",
     "text": [
      "drf prediction progress: |███████████████████████████████████████████████████████| (done) 100%\n",
      "Parse progress: |████████████████████████████████████████████████████████████████| (done) 100%\n"
     ]
    },
    {
     "name": "stderr",
     "output_type": "stream",
     "text": [
      "c:\\Users\\fatin\\AppData\\Local\\Programs\\Python\\Python312\\Lib\\site-packages\\h2o\\job.py:81: UserWarning: Test/Validation dataset is missing column 'CAPACITY': substituting in a column of NaN\n",
      "  warnings.warn(w)\n",
      "c:\\Users\\fatin\\AppData\\Local\\Programs\\Python\\Python312\\Lib\\site-packages\\h2o\\job.py:81: UserWarning: Test/Validation dataset is missing column 'OPEN_TIME': substituting in a column of NaN\n",
      "  warnings.warn(w)\n",
      "c:\\Users\\fatin\\AppData\\Local\\Programs\\Python\\Python312\\Lib\\site-packages\\h2o\\job.py:81: UserWarning: Test/Validation dataset is missing column 'UP_TIME': substituting in a column of NaN\n",
      "  warnings.warn(w)\n",
      "c:\\Users\\fatin\\AppData\\Local\\Programs\\Python\\Python312\\Lib\\site-packages\\h2o\\job.py:81: UserWarning: Test/Validation dataset is missing column 'feels_like': substituting in a column of NaN\n",
      "  warnings.warn(w)\n",
      "c:\\Users\\fatin\\AppData\\Local\\Programs\\Python\\Python312\\Lib\\site-packages\\h2o\\frame.py:1983: H2ODependencyWarning: Converting H2O frame to pandas dataframe using single-thread.  For faster conversion using multi-thread, install polars and pyarrow and use it as pandas_df = h2o_df.as_data_frame(use_multi_thread=True)\n",
      "\n",
      "  warnings.warn(\"Converting H2O frame to pandas dataframe using single-thread.  For faster conversion using\"\n"
     ]
    },
    {
     "name": "stdout",
     "output_type": "stream",
     "text": [
      "drf prediction progress: |███████████████████████████████████████████████████████| (done) 100%\n",
      "Parse progress: |████████████████████████████████████████████████████████████████| (done) 100%\n"
     ]
    },
    {
     "name": "stderr",
     "output_type": "stream",
     "text": [
      "c:\\Users\\fatin\\AppData\\Local\\Programs\\Python\\Python312\\Lib\\site-packages\\h2o\\job.py:81: UserWarning: Test/Validation dataset is missing column 'CAPACITY': substituting in a column of NaN\n",
      "  warnings.warn(w)\n",
      "c:\\Users\\fatin\\AppData\\Local\\Programs\\Python\\Python312\\Lib\\site-packages\\h2o\\job.py:81: UserWarning: Test/Validation dataset is missing column 'OPEN_TIME': substituting in a column of NaN\n",
      "  warnings.warn(w)\n",
      "c:\\Users\\fatin\\AppData\\Local\\Programs\\Python\\Python312\\Lib\\site-packages\\h2o\\job.py:81: UserWarning: Test/Validation dataset is missing column 'UP_TIME': substituting in a column of NaN\n",
      "  warnings.warn(w)\n",
      "c:\\Users\\fatin\\AppData\\Local\\Programs\\Python\\Python312\\Lib\\site-packages\\h2o\\job.py:81: UserWarning: Test/Validation dataset is missing column 'feels_like': substituting in a column of NaN\n",
      "  warnings.warn(w)\n",
      "c:\\Users\\fatin\\AppData\\Local\\Programs\\Python\\Python312\\Lib\\site-packages\\h2o\\frame.py:1983: H2ODependencyWarning: Converting H2O frame to pandas dataframe using single-thread.  For faster conversion using multi-thread, install polars and pyarrow and use it as pandas_df = h2o_df.as_data_frame(use_multi_thread=True)\n",
      "\n",
      "  warnings.warn(\"Converting H2O frame to pandas dataframe using single-thread.  For faster conversion using\"\n"
     ]
    },
    {
     "name": "stdout",
     "output_type": "stream",
     "text": [
      "drf prediction progress: |███████████████████████████████████████████████████████| (done) 100%\n",
      "Parse progress: |████████████████████████████████████████████████████████████████| (done) 100%\n"
     ]
    },
    {
     "name": "stderr",
     "output_type": "stream",
     "text": [
      "c:\\Users\\fatin\\AppData\\Local\\Programs\\Python\\Python312\\Lib\\site-packages\\h2o\\job.py:81: UserWarning: Test/Validation dataset is missing column 'CAPACITY': substituting in a column of NaN\n",
      "  warnings.warn(w)\n",
      "c:\\Users\\fatin\\AppData\\Local\\Programs\\Python\\Python312\\Lib\\site-packages\\h2o\\job.py:81: UserWarning: Test/Validation dataset is missing column 'OPEN_TIME': substituting in a column of NaN\n",
      "  warnings.warn(w)\n",
      "c:\\Users\\fatin\\AppData\\Local\\Programs\\Python\\Python312\\Lib\\site-packages\\h2o\\job.py:81: UserWarning: Test/Validation dataset is missing column 'UP_TIME': substituting in a column of NaN\n",
      "  warnings.warn(w)\n",
      "c:\\Users\\fatin\\AppData\\Local\\Programs\\Python\\Python312\\Lib\\site-packages\\h2o\\job.py:81: UserWarning: Test/Validation dataset is missing column 'feels_like': substituting in a column of NaN\n",
      "  warnings.warn(w)\n",
      "c:\\Users\\fatin\\AppData\\Local\\Programs\\Python\\Python312\\Lib\\site-packages\\h2o\\frame.py:1983: H2ODependencyWarning: Converting H2O frame to pandas dataframe using single-thread.  For faster conversion using multi-thread, install polars and pyarrow and use it as pandas_df = h2o_df.as_data_frame(use_multi_thread=True)\n",
      "\n",
      "  warnings.warn(\"Converting H2O frame to pandas dataframe using single-thread.  For faster conversion using\"\n"
     ]
    },
    {
     "name": "stdout",
     "output_type": "stream",
     "text": [
      "drf prediction progress: |███████████████████████████████████████████████████████| (done) 100%\n",
      "Parse progress: |████████████████████████████████████████████████████████████████| (done) 100%\n"
     ]
    },
    {
     "name": "stderr",
     "output_type": "stream",
     "text": [
      "c:\\Users\\fatin\\AppData\\Local\\Programs\\Python\\Python312\\Lib\\site-packages\\h2o\\job.py:81: UserWarning: Test/Validation dataset is missing column 'CAPACITY': substituting in a column of NaN\n",
      "  warnings.warn(w)\n",
      "c:\\Users\\fatin\\AppData\\Local\\Programs\\Python\\Python312\\Lib\\site-packages\\h2o\\job.py:81: UserWarning: Test/Validation dataset is missing column 'OPEN_TIME': substituting in a column of NaN\n",
      "  warnings.warn(w)\n",
      "c:\\Users\\fatin\\AppData\\Local\\Programs\\Python\\Python312\\Lib\\site-packages\\h2o\\job.py:81: UserWarning: Test/Validation dataset is missing column 'UP_TIME': substituting in a column of NaN\n",
      "  warnings.warn(w)\n",
      "c:\\Users\\fatin\\AppData\\Local\\Programs\\Python\\Python312\\Lib\\site-packages\\h2o\\job.py:81: UserWarning: Test/Validation dataset is missing column 'feels_like': substituting in a column of NaN\n",
      "  warnings.warn(w)\n",
      "c:\\Users\\fatin\\AppData\\Local\\Programs\\Python\\Python312\\Lib\\site-packages\\h2o\\frame.py:1983: H2ODependencyWarning: Converting H2O frame to pandas dataframe using single-thread.  For faster conversion using multi-thread, install polars and pyarrow and use it as pandas_df = h2o_df.as_data_frame(use_multi_thread=True)\n",
      "\n",
      "  warnings.warn(\"Converting H2O frame to pandas dataframe using single-thread.  For faster conversion using\"\n"
     ]
    },
    {
     "name": "stdout",
     "output_type": "stream",
     "text": [
      "drf prediction progress: |███████████████████████████████████████████████████████| (done) 100%\n",
      "Parse progress: |████████████████████████████████████████████████████████████████| (done) 100%\n"
     ]
    },
    {
     "name": "stderr",
     "output_type": "stream",
     "text": [
      "c:\\Users\\fatin\\AppData\\Local\\Programs\\Python\\Python312\\Lib\\site-packages\\h2o\\job.py:81: UserWarning: Test/Validation dataset is missing column 'CAPACITY': substituting in a column of NaN\n",
      "  warnings.warn(w)\n",
      "c:\\Users\\fatin\\AppData\\Local\\Programs\\Python\\Python312\\Lib\\site-packages\\h2o\\job.py:81: UserWarning: Test/Validation dataset is missing column 'OPEN_TIME': substituting in a column of NaN\n",
      "  warnings.warn(w)\n",
      "c:\\Users\\fatin\\AppData\\Local\\Programs\\Python\\Python312\\Lib\\site-packages\\h2o\\job.py:81: UserWarning: Test/Validation dataset is missing column 'UP_TIME': substituting in a column of NaN\n",
      "  warnings.warn(w)\n",
      "c:\\Users\\fatin\\AppData\\Local\\Programs\\Python\\Python312\\Lib\\site-packages\\h2o\\job.py:81: UserWarning: Test/Validation dataset is missing column 'feels_like': substituting in a column of NaN\n",
      "  warnings.warn(w)\n",
      "c:\\Users\\fatin\\AppData\\Local\\Programs\\Python\\Python312\\Lib\\site-packages\\h2o\\frame.py:1983: H2ODependencyWarning: Converting H2O frame to pandas dataframe using single-thread.  For faster conversion using multi-thread, install polars and pyarrow and use it as pandas_df = h2o_df.as_data_frame(use_multi_thread=True)\n",
      "\n",
      "  warnings.warn(\"Converting H2O frame to pandas dataframe using single-thread.  For faster conversion using\"\n"
     ]
    },
    {
     "name": "stdout",
     "output_type": "stream",
     "text": [
      "drf prediction progress: |███████████████████████████████████████████████████████| (done) 100%\n",
      "Parse progress: |████████████████████████████████████████████████████████████████| (done) 100%\n"
     ]
    },
    {
     "name": "stderr",
     "output_type": "stream",
     "text": [
      "c:\\Users\\fatin\\AppData\\Local\\Programs\\Python\\Python312\\Lib\\site-packages\\h2o\\job.py:81: UserWarning: Test/Validation dataset is missing column 'CAPACITY': substituting in a column of NaN\n",
      "  warnings.warn(w)\n",
      "c:\\Users\\fatin\\AppData\\Local\\Programs\\Python\\Python312\\Lib\\site-packages\\h2o\\job.py:81: UserWarning: Test/Validation dataset is missing column 'OPEN_TIME': substituting in a column of NaN\n",
      "  warnings.warn(w)\n",
      "c:\\Users\\fatin\\AppData\\Local\\Programs\\Python\\Python312\\Lib\\site-packages\\h2o\\job.py:81: UserWarning: Test/Validation dataset is missing column 'UP_TIME': substituting in a column of NaN\n",
      "  warnings.warn(w)\n",
      "c:\\Users\\fatin\\AppData\\Local\\Programs\\Python\\Python312\\Lib\\site-packages\\h2o\\job.py:81: UserWarning: Test/Validation dataset is missing column 'feels_like': substituting in a column of NaN\n",
      "  warnings.warn(w)\n",
      "c:\\Users\\fatin\\AppData\\Local\\Programs\\Python\\Python312\\Lib\\site-packages\\h2o\\frame.py:1983: H2ODependencyWarning: Converting H2O frame to pandas dataframe using single-thread.  For faster conversion using multi-thread, install polars and pyarrow and use it as pandas_df = h2o_df.as_data_frame(use_multi_thread=True)\n",
      "\n",
      "  warnings.warn(\"Converting H2O frame to pandas dataframe using single-thread.  For faster conversion using\"\n"
     ]
    },
    {
     "name": "stdout",
     "output_type": "stream",
     "text": [
      "drf prediction progress: |███████████████████████████████████████████████████████| (done) 100%\n",
      "Parse progress: |████████████████████████████████████████████████████████████████| (done) 100%\n"
     ]
    },
    {
     "name": "stderr",
     "output_type": "stream",
     "text": [
      "c:\\Users\\fatin\\AppData\\Local\\Programs\\Python\\Python312\\Lib\\site-packages\\h2o\\job.py:81: UserWarning: Test/Validation dataset is missing column 'CAPACITY': substituting in a column of NaN\n",
      "  warnings.warn(w)\n",
      "c:\\Users\\fatin\\AppData\\Local\\Programs\\Python\\Python312\\Lib\\site-packages\\h2o\\job.py:81: UserWarning: Test/Validation dataset is missing column 'OPEN_TIME': substituting in a column of NaN\n",
      "  warnings.warn(w)\n",
      "c:\\Users\\fatin\\AppData\\Local\\Programs\\Python\\Python312\\Lib\\site-packages\\h2o\\job.py:81: UserWarning: Test/Validation dataset is missing column 'UP_TIME': substituting in a column of NaN\n",
      "  warnings.warn(w)\n",
      "c:\\Users\\fatin\\AppData\\Local\\Programs\\Python\\Python312\\Lib\\site-packages\\h2o\\job.py:81: UserWarning: Test/Validation dataset is missing column 'feels_like': substituting in a column of NaN\n",
      "  warnings.warn(w)\n",
      "c:\\Users\\fatin\\AppData\\Local\\Programs\\Python\\Python312\\Lib\\site-packages\\h2o\\frame.py:1983: H2ODependencyWarning: Converting H2O frame to pandas dataframe using single-thread.  For faster conversion using multi-thread, install polars and pyarrow and use it as pandas_df = h2o_df.as_data_frame(use_multi_thread=True)\n",
      "\n",
      "  warnings.warn(\"Converting H2O frame to pandas dataframe using single-thread.  For faster conversion using\"\n"
     ]
    },
    {
     "name": "stdout",
     "output_type": "stream",
     "text": [
      "drf prediction progress: |███████████████████████████████████████████████████████| (done) 100%\n",
      "Parse progress: |████████████████████████████████████████████████████████████████| (done) 100%\n"
     ]
    },
    {
     "name": "stderr",
     "output_type": "stream",
     "text": [
      "c:\\Users\\fatin\\AppData\\Local\\Programs\\Python\\Python312\\Lib\\site-packages\\h2o\\job.py:81: UserWarning: Test/Validation dataset is missing column 'CAPACITY': substituting in a column of NaN\n",
      "  warnings.warn(w)\n",
      "c:\\Users\\fatin\\AppData\\Local\\Programs\\Python\\Python312\\Lib\\site-packages\\h2o\\job.py:81: UserWarning: Test/Validation dataset is missing column 'OPEN_TIME': substituting in a column of NaN\n",
      "  warnings.warn(w)\n",
      "c:\\Users\\fatin\\AppData\\Local\\Programs\\Python\\Python312\\Lib\\site-packages\\h2o\\job.py:81: UserWarning: Test/Validation dataset is missing column 'UP_TIME': substituting in a column of NaN\n",
      "  warnings.warn(w)\n",
      "c:\\Users\\fatin\\AppData\\Local\\Programs\\Python\\Python312\\Lib\\site-packages\\h2o\\job.py:81: UserWarning: Test/Validation dataset is missing column 'feels_like': substituting in a column of NaN\n",
      "  warnings.warn(w)\n",
      "c:\\Users\\fatin\\AppData\\Local\\Programs\\Python\\Python312\\Lib\\site-packages\\h2o\\frame.py:1983: H2ODependencyWarning: Converting H2O frame to pandas dataframe using single-thread.  For faster conversion using multi-thread, install polars and pyarrow and use it as pandas_df = h2o_df.as_data_frame(use_multi_thread=True)\n",
      "\n",
      "  warnings.warn(\"Converting H2O frame to pandas dataframe using single-thread.  For faster conversion using\"\n"
     ]
    },
    {
     "name": "stdout",
     "output_type": "stream",
     "text": [
      "drf prediction progress: |███████████████████████████████████████████████████████| (done) 100%\n",
      "Parse progress: |████████████████████████████████████████████████████████████████| (done) 100%\n"
     ]
    },
    {
     "name": "stderr",
     "output_type": "stream",
     "text": [
      "c:\\Users\\fatin\\AppData\\Local\\Programs\\Python\\Python312\\Lib\\site-packages\\h2o\\job.py:81: UserWarning: Test/Validation dataset is missing column 'CAPACITY': substituting in a column of NaN\n",
      "  warnings.warn(w)\n",
      "c:\\Users\\fatin\\AppData\\Local\\Programs\\Python\\Python312\\Lib\\site-packages\\h2o\\job.py:81: UserWarning: Test/Validation dataset is missing column 'OPEN_TIME': substituting in a column of NaN\n",
      "  warnings.warn(w)\n",
      "c:\\Users\\fatin\\AppData\\Local\\Programs\\Python\\Python312\\Lib\\site-packages\\h2o\\job.py:81: UserWarning: Test/Validation dataset is missing column 'UP_TIME': substituting in a column of NaN\n",
      "  warnings.warn(w)\n",
      "c:\\Users\\fatin\\AppData\\Local\\Programs\\Python\\Python312\\Lib\\site-packages\\h2o\\job.py:81: UserWarning: Test/Validation dataset is missing column 'feels_like': substituting in a column of NaN\n",
      "  warnings.warn(w)\n",
      "c:\\Users\\fatin\\AppData\\Local\\Programs\\Python\\Python312\\Lib\\site-packages\\h2o\\frame.py:1983: H2ODependencyWarning: Converting H2O frame to pandas dataframe using single-thread.  For faster conversion using multi-thread, install polars and pyarrow and use it as pandas_df = h2o_df.as_data_frame(use_multi_thread=True)\n",
      "\n",
      "  warnings.warn(\"Converting H2O frame to pandas dataframe using single-thread.  For faster conversion using\"\n"
     ]
    },
    {
     "name": "stdout",
     "output_type": "stream",
     "text": [
      "drf prediction progress: |███████████████████████████████████████████████████████| (done) 100%\n",
      "Parse progress: |████████████████████████████████████████████████████████████████| (done) 100%\n"
     ]
    },
    {
     "name": "stderr",
     "output_type": "stream",
     "text": [
      "c:\\Users\\fatin\\AppData\\Local\\Programs\\Python\\Python312\\Lib\\site-packages\\h2o\\job.py:81: UserWarning: Test/Validation dataset is missing column 'CAPACITY': substituting in a column of NaN\n",
      "  warnings.warn(w)\n",
      "c:\\Users\\fatin\\AppData\\Local\\Programs\\Python\\Python312\\Lib\\site-packages\\h2o\\job.py:81: UserWarning: Test/Validation dataset is missing column 'OPEN_TIME': substituting in a column of NaN\n",
      "  warnings.warn(w)\n",
      "c:\\Users\\fatin\\AppData\\Local\\Programs\\Python\\Python312\\Lib\\site-packages\\h2o\\job.py:81: UserWarning: Test/Validation dataset is missing column 'UP_TIME': substituting in a column of NaN\n",
      "  warnings.warn(w)\n",
      "c:\\Users\\fatin\\AppData\\Local\\Programs\\Python\\Python312\\Lib\\site-packages\\h2o\\job.py:81: UserWarning: Test/Validation dataset is missing column 'feels_like': substituting in a column of NaN\n",
      "  warnings.warn(w)\n",
      "c:\\Users\\fatin\\AppData\\Local\\Programs\\Python\\Python312\\Lib\\site-packages\\h2o\\frame.py:1983: H2ODependencyWarning: Converting H2O frame to pandas dataframe using single-thread.  For faster conversion using multi-thread, install polars and pyarrow and use it as pandas_df = h2o_df.as_data_frame(use_multi_thread=True)\n",
      "\n",
      "  warnings.warn(\"Converting H2O frame to pandas dataframe using single-thread.  For faster conversion using\"\n"
     ]
    },
    {
     "name": "stdout",
     "output_type": "stream",
     "text": [
      "drf prediction progress: |███████████████████████████████████████████████████████| (done) 100%\n",
      "Parse progress: |████████████████████████████████████████████████████████████████| (done) 100%\n"
     ]
    },
    {
     "name": "stderr",
     "output_type": "stream",
     "text": [
      "c:\\Users\\fatin\\AppData\\Local\\Programs\\Python\\Python312\\Lib\\site-packages\\h2o\\job.py:81: UserWarning: Test/Validation dataset is missing column 'CAPACITY': substituting in a column of NaN\n",
      "  warnings.warn(w)\n",
      "c:\\Users\\fatin\\AppData\\Local\\Programs\\Python\\Python312\\Lib\\site-packages\\h2o\\job.py:81: UserWarning: Test/Validation dataset is missing column 'OPEN_TIME': substituting in a column of NaN\n",
      "  warnings.warn(w)\n",
      "c:\\Users\\fatin\\AppData\\Local\\Programs\\Python\\Python312\\Lib\\site-packages\\h2o\\job.py:81: UserWarning: Test/Validation dataset is missing column 'UP_TIME': substituting in a column of NaN\n",
      "  warnings.warn(w)\n",
      "c:\\Users\\fatin\\AppData\\Local\\Programs\\Python\\Python312\\Lib\\site-packages\\h2o\\job.py:81: UserWarning: Test/Validation dataset is missing column 'feels_like': substituting in a column of NaN\n",
      "  warnings.warn(w)\n",
      "c:\\Users\\fatin\\AppData\\Local\\Programs\\Python\\Python312\\Lib\\site-packages\\h2o\\frame.py:1983: H2ODependencyWarning: Converting H2O frame to pandas dataframe using single-thread.  For faster conversion using multi-thread, install polars and pyarrow and use it as pandas_df = h2o_df.as_data_frame(use_multi_thread=True)\n",
      "\n",
      "  warnings.warn(\"Converting H2O frame to pandas dataframe using single-thread.  For faster conversion using\"\n"
     ]
    },
    {
     "name": "stdout",
     "output_type": "stream",
     "text": [
      "drf prediction progress: |███████████████████████████████████████████████████████| (done) 100%\n",
      "Parse progress: |████████████████████████████████████████████████████████████████| (done) 100%\n"
     ]
    },
    {
     "name": "stderr",
     "output_type": "stream",
     "text": [
      "c:\\Users\\fatin\\AppData\\Local\\Programs\\Python\\Python312\\Lib\\site-packages\\h2o\\job.py:81: UserWarning: Test/Validation dataset is missing column 'CAPACITY': substituting in a column of NaN\n",
      "  warnings.warn(w)\n",
      "c:\\Users\\fatin\\AppData\\Local\\Programs\\Python\\Python312\\Lib\\site-packages\\h2o\\job.py:81: UserWarning: Test/Validation dataset is missing column 'OPEN_TIME': substituting in a column of NaN\n",
      "  warnings.warn(w)\n",
      "c:\\Users\\fatin\\AppData\\Local\\Programs\\Python\\Python312\\Lib\\site-packages\\h2o\\job.py:81: UserWarning: Test/Validation dataset is missing column 'UP_TIME': substituting in a column of NaN\n",
      "  warnings.warn(w)\n",
      "c:\\Users\\fatin\\AppData\\Local\\Programs\\Python\\Python312\\Lib\\site-packages\\h2o\\job.py:81: UserWarning: Test/Validation dataset is missing column 'feels_like': substituting in a column of NaN\n",
      "  warnings.warn(w)\n",
      "c:\\Users\\fatin\\AppData\\Local\\Programs\\Python\\Python312\\Lib\\site-packages\\h2o\\frame.py:1983: H2ODependencyWarning: Converting H2O frame to pandas dataframe using single-thread.  For faster conversion using multi-thread, install polars and pyarrow and use it as pandas_df = h2o_df.as_data_frame(use_multi_thread=True)\n",
      "\n",
      "  warnings.warn(\"Converting H2O frame to pandas dataframe using single-thread.  For faster conversion using\"\n"
     ]
    },
    {
     "name": "stdout",
     "output_type": "stream",
     "text": [
      "drf prediction progress: |███████████████████████████████████████████████████████| (done) 100%\n",
      "Parse progress: |████████████████████████████████████████████████████████████████| (done) 100%\n"
     ]
    },
    {
     "name": "stderr",
     "output_type": "stream",
     "text": [
      "c:\\Users\\fatin\\AppData\\Local\\Programs\\Python\\Python312\\Lib\\site-packages\\h2o\\job.py:81: UserWarning: Test/Validation dataset is missing column 'CAPACITY': substituting in a column of NaN\n",
      "  warnings.warn(w)\n",
      "c:\\Users\\fatin\\AppData\\Local\\Programs\\Python\\Python312\\Lib\\site-packages\\h2o\\job.py:81: UserWarning: Test/Validation dataset is missing column 'OPEN_TIME': substituting in a column of NaN\n",
      "  warnings.warn(w)\n",
      "c:\\Users\\fatin\\AppData\\Local\\Programs\\Python\\Python312\\Lib\\site-packages\\h2o\\job.py:81: UserWarning: Test/Validation dataset is missing column 'UP_TIME': substituting in a column of NaN\n",
      "  warnings.warn(w)\n",
      "c:\\Users\\fatin\\AppData\\Local\\Programs\\Python\\Python312\\Lib\\site-packages\\h2o\\job.py:81: UserWarning: Test/Validation dataset is missing column 'feels_like': substituting in a column of NaN\n",
      "  warnings.warn(w)\n",
      "c:\\Users\\fatin\\AppData\\Local\\Programs\\Python\\Python312\\Lib\\site-packages\\h2o\\frame.py:1983: H2ODependencyWarning: Converting H2O frame to pandas dataframe using single-thread.  For faster conversion using multi-thread, install polars and pyarrow and use it as pandas_df = h2o_df.as_data_frame(use_multi_thread=True)\n",
      "\n",
      "  warnings.warn(\"Converting H2O frame to pandas dataframe using single-thread.  For faster conversion using\"\n"
     ]
    },
    {
     "name": "stdout",
     "output_type": "stream",
     "text": [
      "drf prediction progress: |███████████████████████████████████████████████████████| (done) 100%\n",
      "Parse progress: |████████████████████████████████████████████████████████████████| (done) 100%\n"
     ]
    },
    {
     "name": "stderr",
     "output_type": "stream",
     "text": [
      "c:\\Users\\fatin\\AppData\\Local\\Programs\\Python\\Python312\\Lib\\site-packages\\h2o\\job.py:81: UserWarning: Test/Validation dataset is missing column 'CAPACITY': substituting in a column of NaN\n",
      "  warnings.warn(w)\n",
      "c:\\Users\\fatin\\AppData\\Local\\Programs\\Python\\Python312\\Lib\\site-packages\\h2o\\job.py:81: UserWarning: Test/Validation dataset is missing column 'OPEN_TIME': substituting in a column of NaN\n",
      "  warnings.warn(w)\n",
      "c:\\Users\\fatin\\AppData\\Local\\Programs\\Python\\Python312\\Lib\\site-packages\\h2o\\job.py:81: UserWarning: Test/Validation dataset is missing column 'UP_TIME': substituting in a column of NaN\n",
      "  warnings.warn(w)\n",
      "c:\\Users\\fatin\\AppData\\Local\\Programs\\Python\\Python312\\Lib\\site-packages\\h2o\\job.py:81: UserWarning: Test/Validation dataset is missing column 'feels_like': substituting in a column of NaN\n",
      "  warnings.warn(w)\n",
      "c:\\Users\\fatin\\AppData\\Local\\Programs\\Python\\Python312\\Lib\\site-packages\\h2o\\frame.py:1983: H2ODependencyWarning: Converting H2O frame to pandas dataframe using single-thread.  For faster conversion using multi-thread, install polars and pyarrow and use it as pandas_df = h2o_df.as_data_frame(use_multi_thread=True)\n",
      "\n",
      "  warnings.warn(\"Converting H2O frame to pandas dataframe using single-thread.  For faster conversion using\"\n"
     ]
    },
    {
     "name": "stdout",
     "output_type": "stream",
     "text": [
      "drf prediction progress: |███████████████████████████████████████████████████████| (done) 100%\n",
      "Parse progress: |████████████████████████████████████████████████████████████████| (done) 100%\n"
     ]
    },
    {
     "name": "stderr",
     "output_type": "stream",
     "text": [
      "c:\\Users\\fatin\\AppData\\Local\\Programs\\Python\\Python312\\Lib\\site-packages\\h2o\\job.py:81: UserWarning: Test/Validation dataset is missing column 'CAPACITY': substituting in a column of NaN\n",
      "  warnings.warn(w)\n",
      "c:\\Users\\fatin\\AppData\\Local\\Programs\\Python\\Python312\\Lib\\site-packages\\h2o\\job.py:81: UserWarning: Test/Validation dataset is missing column 'OPEN_TIME': substituting in a column of NaN\n",
      "  warnings.warn(w)\n",
      "c:\\Users\\fatin\\AppData\\Local\\Programs\\Python\\Python312\\Lib\\site-packages\\h2o\\job.py:81: UserWarning: Test/Validation dataset is missing column 'UP_TIME': substituting in a column of NaN\n",
      "  warnings.warn(w)\n",
      "c:\\Users\\fatin\\AppData\\Local\\Programs\\Python\\Python312\\Lib\\site-packages\\h2o\\job.py:81: UserWarning: Test/Validation dataset is missing column 'feels_like': substituting in a column of NaN\n",
      "  warnings.warn(w)\n",
      "c:\\Users\\fatin\\AppData\\Local\\Programs\\Python\\Python312\\Lib\\site-packages\\h2o\\frame.py:1983: H2ODependencyWarning: Converting H2O frame to pandas dataframe using single-thread.  For faster conversion using multi-thread, install polars and pyarrow and use it as pandas_df = h2o_df.as_data_frame(use_multi_thread=True)\n",
      "\n",
      "  warnings.warn(\"Converting H2O frame to pandas dataframe using single-thread.  For faster conversion using\"\n"
     ]
    },
    {
     "name": "stdout",
     "output_type": "stream",
     "text": [
      "drf prediction progress: |███████████████████████████████████████████████████████| (done) 100%\n",
      "Parse progress: |████████████████████████████████████████████████████████████████| (done) 100%\n"
     ]
    },
    {
     "name": "stderr",
     "output_type": "stream",
     "text": [
      "c:\\Users\\fatin\\AppData\\Local\\Programs\\Python\\Python312\\Lib\\site-packages\\h2o\\job.py:81: UserWarning: Test/Validation dataset is missing column 'CAPACITY': substituting in a column of NaN\n",
      "  warnings.warn(w)\n",
      "c:\\Users\\fatin\\AppData\\Local\\Programs\\Python\\Python312\\Lib\\site-packages\\h2o\\job.py:81: UserWarning: Test/Validation dataset is missing column 'OPEN_TIME': substituting in a column of NaN\n",
      "  warnings.warn(w)\n",
      "c:\\Users\\fatin\\AppData\\Local\\Programs\\Python\\Python312\\Lib\\site-packages\\h2o\\job.py:81: UserWarning: Test/Validation dataset is missing column 'UP_TIME': substituting in a column of NaN\n",
      "  warnings.warn(w)\n",
      "c:\\Users\\fatin\\AppData\\Local\\Programs\\Python\\Python312\\Lib\\site-packages\\h2o\\job.py:81: UserWarning: Test/Validation dataset is missing column 'feels_like': substituting in a column of NaN\n",
      "  warnings.warn(w)\n",
      "c:\\Users\\fatin\\AppData\\Local\\Programs\\Python\\Python312\\Lib\\site-packages\\h2o\\frame.py:1983: H2ODependencyWarning: Converting H2O frame to pandas dataframe using single-thread.  For faster conversion using multi-thread, install polars and pyarrow and use it as pandas_df = h2o_df.as_data_frame(use_multi_thread=True)\n",
      "\n",
      "  warnings.warn(\"Converting H2O frame to pandas dataframe using single-thread.  For faster conversion using\"\n"
     ]
    },
    {
     "name": "stdout",
     "output_type": "stream",
     "text": [
      "drf prediction progress: |███████████████████████████████████████████████████████| (done) 100%\n",
      "Parse progress: |████████████████████████████████████████████████████████████████| (done) 100%\n"
     ]
    },
    {
     "name": "stderr",
     "output_type": "stream",
     "text": [
      "c:\\Users\\fatin\\AppData\\Local\\Programs\\Python\\Python312\\Lib\\site-packages\\h2o\\job.py:81: UserWarning: Test/Validation dataset is missing column 'CAPACITY': substituting in a column of NaN\n",
      "  warnings.warn(w)\n",
      "c:\\Users\\fatin\\AppData\\Local\\Programs\\Python\\Python312\\Lib\\site-packages\\h2o\\job.py:81: UserWarning: Test/Validation dataset is missing column 'OPEN_TIME': substituting in a column of NaN\n",
      "  warnings.warn(w)\n",
      "c:\\Users\\fatin\\AppData\\Local\\Programs\\Python\\Python312\\Lib\\site-packages\\h2o\\job.py:81: UserWarning: Test/Validation dataset is missing column 'UP_TIME': substituting in a column of NaN\n",
      "  warnings.warn(w)\n",
      "c:\\Users\\fatin\\AppData\\Local\\Programs\\Python\\Python312\\Lib\\site-packages\\h2o\\job.py:81: UserWarning: Test/Validation dataset is missing column 'feels_like': substituting in a column of NaN\n",
      "  warnings.warn(w)\n",
      "c:\\Users\\fatin\\AppData\\Local\\Programs\\Python\\Python312\\Lib\\site-packages\\h2o\\frame.py:1983: H2ODependencyWarning: Converting H2O frame to pandas dataframe using single-thread.  For faster conversion using multi-thread, install polars and pyarrow and use it as pandas_df = h2o_df.as_data_frame(use_multi_thread=True)\n",
      "\n",
      "  warnings.warn(\"Converting H2O frame to pandas dataframe using single-thread.  For faster conversion using\"\n"
     ]
    },
    {
     "name": "stdout",
     "output_type": "stream",
     "text": [
      "drf prediction progress: |███████████████████████████████████████████████████████| (done) 100%\n",
      "Parse progress: |████████████████████████████████████████████████████████████████| (done) 100%\n"
     ]
    },
    {
     "name": "stderr",
     "output_type": "stream",
     "text": [
      "c:\\Users\\fatin\\AppData\\Local\\Programs\\Python\\Python312\\Lib\\site-packages\\h2o\\job.py:81: UserWarning: Test/Validation dataset is missing column 'CAPACITY': substituting in a column of NaN\n",
      "  warnings.warn(w)\n",
      "c:\\Users\\fatin\\AppData\\Local\\Programs\\Python\\Python312\\Lib\\site-packages\\h2o\\job.py:81: UserWarning: Test/Validation dataset is missing column 'OPEN_TIME': substituting in a column of NaN\n",
      "  warnings.warn(w)\n",
      "c:\\Users\\fatin\\AppData\\Local\\Programs\\Python\\Python312\\Lib\\site-packages\\h2o\\job.py:81: UserWarning: Test/Validation dataset is missing column 'UP_TIME': substituting in a column of NaN\n",
      "  warnings.warn(w)\n",
      "c:\\Users\\fatin\\AppData\\Local\\Programs\\Python\\Python312\\Lib\\site-packages\\h2o\\job.py:81: UserWarning: Test/Validation dataset is missing column 'feels_like': substituting in a column of NaN\n",
      "  warnings.warn(w)\n",
      "c:\\Users\\fatin\\AppData\\Local\\Programs\\Python\\Python312\\Lib\\site-packages\\h2o\\frame.py:1983: H2ODependencyWarning: Converting H2O frame to pandas dataframe using single-thread.  For faster conversion using multi-thread, install polars and pyarrow and use it as pandas_df = h2o_df.as_data_frame(use_multi_thread=True)\n",
      "\n",
      "  warnings.warn(\"Converting H2O frame to pandas dataframe using single-thread.  For faster conversion using\"\n"
     ]
    },
    {
     "name": "stdout",
     "output_type": "stream",
     "text": [
      "drf prediction progress: |███████████████████████████████████████████████████████| (done) 100%\n",
      "Parse progress: |████████████████████████████████████████████████████████████████| (done) 100%\n"
     ]
    },
    {
     "name": "stderr",
     "output_type": "stream",
     "text": [
      "c:\\Users\\fatin\\AppData\\Local\\Programs\\Python\\Python312\\Lib\\site-packages\\h2o\\job.py:81: UserWarning: Test/Validation dataset is missing column 'CAPACITY': substituting in a column of NaN\n",
      "  warnings.warn(w)\n",
      "c:\\Users\\fatin\\AppData\\Local\\Programs\\Python\\Python312\\Lib\\site-packages\\h2o\\job.py:81: UserWarning: Test/Validation dataset is missing column 'OPEN_TIME': substituting in a column of NaN\n",
      "  warnings.warn(w)\n",
      "c:\\Users\\fatin\\AppData\\Local\\Programs\\Python\\Python312\\Lib\\site-packages\\h2o\\job.py:81: UserWarning: Test/Validation dataset is missing column 'UP_TIME': substituting in a column of NaN\n",
      "  warnings.warn(w)\n",
      "c:\\Users\\fatin\\AppData\\Local\\Programs\\Python\\Python312\\Lib\\site-packages\\h2o\\job.py:81: UserWarning: Test/Validation dataset is missing column 'feels_like': substituting in a column of NaN\n",
      "  warnings.warn(w)\n",
      "c:\\Users\\fatin\\AppData\\Local\\Programs\\Python\\Python312\\Lib\\site-packages\\h2o\\frame.py:1983: H2ODependencyWarning: Converting H2O frame to pandas dataframe using single-thread.  For faster conversion using multi-thread, install polars and pyarrow and use it as pandas_df = h2o_df.as_data_frame(use_multi_thread=True)\n",
      "\n",
      "  warnings.warn(\"Converting H2O frame to pandas dataframe using single-thread.  For faster conversion using\"\n"
     ]
    },
    {
     "name": "stdout",
     "output_type": "stream",
     "text": [
      "drf prediction progress: |███████████████████████████████████████████████████████| (done) 100%\n",
      "Parse progress: |████████████████████████████████████████████████████████████████| (done) 100%\n"
     ]
    },
    {
     "name": "stderr",
     "output_type": "stream",
     "text": [
      "c:\\Users\\fatin\\AppData\\Local\\Programs\\Python\\Python312\\Lib\\site-packages\\h2o\\job.py:81: UserWarning: Test/Validation dataset is missing column 'CAPACITY': substituting in a column of NaN\n",
      "  warnings.warn(w)\n",
      "c:\\Users\\fatin\\AppData\\Local\\Programs\\Python\\Python312\\Lib\\site-packages\\h2o\\job.py:81: UserWarning: Test/Validation dataset is missing column 'OPEN_TIME': substituting in a column of NaN\n",
      "  warnings.warn(w)\n",
      "c:\\Users\\fatin\\AppData\\Local\\Programs\\Python\\Python312\\Lib\\site-packages\\h2o\\job.py:81: UserWarning: Test/Validation dataset is missing column 'UP_TIME': substituting in a column of NaN\n",
      "  warnings.warn(w)\n",
      "c:\\Users\\fatin\\AppData\\Local\\Programs\\Python\\Python312\\Lib\\site-packages\\h2o\\job.py:81: UserWarning: Test/Validation dataset is missing column 'feels_like': substituting in a column of NaN\n",
      "  warnings.warn(w)\n",
      "c:\\Users\\fatin\\AppData\\Local\\Programs\\Python\\Python312\\Lib\\site-packages\\h2o\\frame.py:1983: H2ODependencyWarning: Converting H2O frame to pandas dataframe using single-thread.  For faster conversion using multi-thread, install polars and pyarrow and use it as pandas_df = h2o_df.as_data_frame(use_multi_thread=True)\n",
      "\n",
      "  warnings.warn(\"Converting H2O frame to pandas dataframe using single-thread.  For faster conversion using\"\n"
     ]
    },
    {
     "name": "stdout",
     "output_type": "stream",
     "text": [
      "drf prediction progress: |███████████████████████████████████████████████████████| (done) 100%\n",
      "Parse progress: |████████████████████████████████████████████████████████████████| (done) 100%\n"
     ]
    },
    {
     "name": "stderr",
     "output_type": "stream",
     "text": [
      "c:\\Users\\fatin\\AppData\\Local\\Programs\\Python\\Python312\\Lib\\site-packages\\h2o\\job.py:81: UserWarning: Test/Validation dataset is missing column 'CAPACITY': substituting in a column of NaN\n",
      "  warnings.warn(w)\n",
      "c:\\Users\\fatin\\AppData\\Local\\Programs\\Python\\Python312\\Lib\\site-packages\\h2o\\job.py:81: UserWarning: Test/Validation dataset is missing column 'OPEN_TIME': substituting in a column of NaN\n",
      "  warnings.warn(w)\n",
      "c:\\Users\\fatin\\AppData\\Local\\Programs\\Python\\Python312\\Lib\\site-packages\\h2o\\job.py:81: UserWarning: Test/Validation dataset is missing column 'UP_TIME': substituting in a column of NaN\n",
      "  warnings.warn(w)\n",
      "c:\\Users\\fatin\\AppData\\Local\\Programs\\Python\\Python312\\Lib\\site-packages\\h2o\\job.py:81: UserWarning: Test/Validation dataset is missing column 'feels_like': substituting in a column of NaN\n",
      "  warnings.warn(w)\n",
      "c:\\Users\\fatin\\AppData\\Local\\Programs\\Python\\Python312\\Lib\\site-packages\\h2o\\frame.py:1983: H2ODependencyWarning: Converting H2O frame to pandas dataframe using single-thread.  For faster conversion using multi-thread, install polars and pyarrow and use it as pandas_df = h2o_df.as_data_frame(use_multi_thread=True)\n",
      "\n",
      "  warnings.warn(\"Converting H2O frame to pandas dataframe using single-thread.  For faster conversion using\"\n"
     ]
    },
    {
     "name": "stdout",
     "output_type": "stream",
     "text": [
      "drf prediction progress: |███████████████████████████████████████████████████████| (done) 100%\n",
      "Parse progress: |████████████████████████████████████████████████████████████████| (done) 100%\n"
     ]
    },
    {
     "name": "stderr",
     "output_type": "stream",
     "text": [
      "c:\\Users\\fatin\\AppData\\Local\\Programs\\Python\\Python312\\Lib\\site-packages\\h2o\\job.py:81: UserWarning: Test/Validation dataset is missing column 'CAPACITY': substituting in a column of NaN\n",
      "  warnings.warn(w)\n",
      "c:\\Users\\fatin\\AppData\\Local\\Programs\\Python\\Python312\\Lib\\site-packages\\h2o\\job.py:81: UserWarning: Test/Validation dataset is missing column 'OPEN_TIME': substituting in a column of NaN\n",
      "  warnings.warn(w)\n",
      "c:\\Users\\fatin\\AppData\\Local\\Programs\\Python\\Python312\\Lib\\site-packages\\h2o\\job.py:81: UserWarning: Test/Validation dataset is missing column 'UP_TIME': substituting in a column of NaN\n",
      "  warnings.warn(w)\n",
      "c:\\Users\\fatin\\AppData\\Local\\Programs\\Python\\Python312\\Lib\\site-packages\\h2o\\job.py:81: UserWarning: Test/Validation dataset is missing column 'feels_like': substituting in a column of NaN\n",
      "  warnings.warn(w)\n",
      "c:\\Users\\fatin\\AppData\\Local\\Programs\\Python\\Python312\\Lib\\site-packages\\h2o\\frame.py:1983: H2ODependencyWarning: Converting H2O frame to pandas dataframe using single-thread.  For faster conversion using multi-thread, install polars and pyarrow and use it as pandas_df = h2o_df.as_data_frame(use_multi_thread=True)\n",
      "\n",
      "  warnings.warn(\"Converting H2O frame to pandas dataframe using single-thread.  For faster conversion using\"\n"
     ]
    },
    {
     "name": "stdout",
     "output_type": "stream",
     "text": [
      "drf prediction progress: |███████████████████████████████████████████████████████| (done) 100%\n",
      "Parse progress: |████████████████████████████████████████████████████████████████| (done) 100%\n"
     ]
    },
    {
     "name": "stderr",
     "output_type": "stream",
     "text": [
      "c:\\Users\\fatin\\AppData\\Local\\Programs\\Python\\Python312\\Lib\\site-packages\\h2o\\job.py:81: UserWarning: Test/Validation dataset is missing column 'CAPACITY': substituting in a column of NaN\n",
      "  warnings.warn(w)\n",
      "c:\\Users\\fatin\\AppData\\Local\\Programs\\Python\\Python312\\Lib\\site-packages\\h2o\\job.py:81: UserWarning: Test/Validation dataset is missing column 'OPEN_TIME': substituting in a column of NaN\n",
      "  warnings.warn(w)\n",
      "c:\\Users\\fatin\\AppData\\Local\\Programs\\Python\\Python312\\Lib\\site-packages\\h2o\\job.py:81: UserWarning: Test/Validation dataset is missing column 'UP_TIME': substituting in a column of NaN\n",
      "  warnings.warn(w)\n",
      "c:\\Users\\fatin\\AppData\\Local\\Programs\\Python\\Python312\\Lib\\site-packages\\h2o\\job.py:81: UserWarning: Test/Validation dataset is missing column 'feels_like': substituting in a column of NaN\n",
      "  warnings.warn(w)\n",
      "c:\\Users\\fatin\\AppData\\Local\\Programs\\Python\\Python312\\Lib\\site-packages\\h2o\\frame.py:1983: H2ODependencyWarning: Converting H2O frame to pandas dataframe using single-thread.  For faster conversion using multi-thread, install polars and pyarrow and use it as pandas_df = h2o_df.as_data_frame(use_multi_thread=True)\n",
      "\n",
      "  warnings.warn(\"Converting H2O frame to pandas dataframe using single-thread.  For faster conversion using\"\n"
     ]
    },
    {
     "name": "stdout",
     "output_type": "stream",
     "text": [
      "drf prediction progress: |███████████████████████████████████████████████████████| (done) 100%\n"
     ]
    },
    {
     "name": "stderr",
     "output_type": "stream",
     "text": [
      "c:\\Users\\fatin\\AppData\\Local\\Programs\\Python\\Python312\\Lib\\site-packages\\h2o\\job.py:81: UserWarning: Test/Validation dataset is missing column 'CAPACITY': substituting in a column of NaN\n",
      "  warnings.warn(w)\n",
      "c:\\Users\\fatin\\AppData\\Local\\Programs\\Python\\Python312\\Lib\\site-packages\\h2o\\job.py:81: UserWarning: Test/Validation dataset is missing column 'OPEN_TIME': substituting in a column of NaN\n",
      "  warnings.warn(w)\n",
      "c:\\Users\\fatin\\AppData\\Local\\Programs\\Python\\Python312\\Lib\\site-packages\\h2o\\job.py:81: UserWarning: Test/Validation dataset is missing column 'UP_TIME': substituting in a column of NaN\n",
      "  warnings.warn(w)\n",
      "c:\\Users\\fatin\\AppData\\Local\\Programs\\Python\\Python312\\Lib\\site-packages\\h2o\\job.py:81: UserWarning: Test/Validation dataset is missing column 'feels_like': substituting in a column of NaN\n",
      "  warnings.warn(w)\n",
      "c:\\Users\\fatin\\AppData\\Local\\Programs\\Python\\Python312\\Lib\\site-packages\\h2o\\frame.py:1983: H2ODependencyWarning: Converting H2O frame to pandas dataframe using single-thread.  For faster conversion using multi-thread, install polars and pyarrow and use it as pandas_df = h2o_df.as_data_frame(use_multi_thread=True)\n",
      "\n",
      "  warnings.warn(\"Converting H2O frame to pandas dataframe using single-thread.  For faster conversion using\"\n"
     ]
    },
    {
     "name": "stdout",
     "output_type": "stream",
     "text": [
      "Global RMSE pour Oz Theatre le 2018-06-01 : 0.57\n",
      "Global MAE pour Oz Theatre le 2018-06-01 : 0.41\n"
     ]
    },
    {
     "name": "stderr",
     "output_type": "stream",
     "text": [
      "C:\\Users\\fatin\\AppData\\Local\\Temp\\ipykernel_984\\1625542317.py:59: FutureWarning: 'T' is deprecated and will be removed in a future version, please use 'min' instead.\n",
      "  df_actual['time_slot'] = df_actual['DEB_TIME'].dt.floor('15T')\n"
     ]
    },
    {
     "data": {
      "image/png": "[encoded data removed]",
      "text/plain": [
       "<Figure size 1200x600 with 1 Axes>"
      ]
     },
     "metadata": {},
     "output_type": "display_data"
    }
   ],
   "source": [
    "import pandas as pd\n",
    "import numpy as np\n",
    "import datetime\n",
    "import matplotlib.pyplot as plt\n",
    "\n",
    "# -----------------------------\n",
    "# PARTIE 1 : Génération de l'agenda de prédictions pour une attraction donnée\n",
    "# -----------------------------\n",
    "\n",
    "# Choisissez l'attraction, ici \"Circus Train\"\n",
    "attraction_name = \"Oz Theatre\"\n",
    "\n",
    "# Vérifier que le modèle pour cette attraction est disponible :\n",
    "if attraction_name in models_per_attraction:\n",
    "    model_ct = models_per_attraction[attraction_name]\n",
    "else:\n",
    "    print(f\"L'attraction {attraction_name} n'est pas disponible dans les modèles.\")\n",
    "    # Optionnel : utiliser une autre attraction (par exemple, la première disponible)\n",
    "    attraction_name = results_df[\"attraction\"].iloc[0]\n",
    "    model_ct = models_per_attraction[attraction_name]\n",
    "    print(f\"Utilisation de {attraction_name} à la place.\")\n",
    "\n",
    "# Définir les paramètres de la journée à prédire\n",
    "date_example = \"2018-06-01\"\n",
    "open_time_example = \"10:00\"\n",
    "close_time_example = \"23:00\"\n",
    "weather_example = \"light rain\"\n",
    "attendance_example = 46804\n",
    "\n",
    "\n",
    "# Dictionnaire des éventuelles variables supplémentaires attendues par le modèle\n",
    "additional_features_example = {\n",
    "    \"REF_CLOSING_DESCRIPTION\": \"Fermeture Réhab\",\n",
    "    \"NIGHT_SHOW_FLAG\": 0,\n",
    "    \"PARADE_FLAG\": 0\n",
    "}\n",
    "\n",
    "# Générer l'agenda de prédictions pour l'attraction choisie\n",
    "schedule_ct = generate_schedule(model_ct, date_example, open_time_example, close_time_example, \n",
    "                                weather_example, attendance_example, additional_features_example)\n",
    "# La fonction generate_schedule retourne un DataFrame avec les colonnes \"datetime\" et \"predicted_WAIT_TIME_MAX\"\n",
    "\n",
    "# -----------------------------\n",
    "# PARTIE 2 : Extraction des données réelles pour la même attraction et journée\n",
    "# -----------------------------\n",
    "\n",
    "# Recharger le CSV original (celui contenant les informations de date et heure)\n",
    "df_original = pd.read_csv('final_data/merged_datasets_with_events.csv', sep=',')\n",
    "\n",
    "# Conversion des colonnes de date en datetime\n",
    "df_original['WORK_DATE'] = pd.to_datetime(df_original['WORK_DATE'])\n",
    "df_original['DEB_TIME'] = pd.to_datetime(df_original['DEB_TIME'])\n",
    "\n",
    "# Filtrer pour l'attraction choisie et la date donnée\n",
    "df_actual = df_original[(df_original['ENTITY_DESCRIPTION_SHORT'] == attraction_name) & \n",
    "                        (df_original['WORK_DATE'].dt.date == pd.to_datetime(date_example).date())].copy()\n",
    "\n",
    "# On suppose que chaque observation correspond à un événement ; on arrondit l'heure de début (DEB_TIME) au créneau de 15 minutes\n",
    "df_actual['time_slot'] = df_actual['DEB_TIME'].dt.floor('15T')\n",
    "\n",
    "# Agréger en calculant la moyenne du WAIT_TIME_MAX par créneau (s'il y a plusieurs observations par créneau)\n",
    "df_actual_grouped = df_actual.groupby('time_slot')['WAIT_TIME_MAX'].mean().reset_index()\n",
    "\n",
    "# -----------------------------\n",
    "# PARTIE 3 : Fusion et visualisation des prédictions vs réalité\n",
    "# -----------------------------\n",
    "\n",
    "# Convertir la colonne \"datetime\" du schedule en datetime (si ce n'est déjà fait)\n",
    "schedule_ct['datetime'] = pd.to_datetime(schedule_ct['datetime'])\n",
    "\n",
    "# Fusionner sur les créneaux horaires (ici, la fusion est faite sur \"datetime\" et \"time_slot\")\n",
    "merged_df = pd.merge(schedule_ct, df_actual_grouped, left_on='datetime', right_on='time_slot', how='left')\n",
    "\n",
    "# Affichage des métriques globales pour cette journée (optionnel)\n",
    "from sklearn.metrics import mean_squared_error, mean_absolute_error\n",
    "if merged_df['WAIT_TIME_MAX'].notnull().sum() > 0:\n",
    "    global_rmse = np.sqrt(mean_squared_error(merged_df['WAIT_TIME_MAX'].dropna(), merged_df['predicted_WAIT_TIME_MAX'][merged_df['WAIT_TIME_MAX'].notnull()]))\n",
    "    global_mae  = mean_absolute_error(merged_df['WAIT_TIME_MAX'].dropna(), merged_df['predicted_WAIT_TIME_MAX'][merged_df['WAIT_TIME_MAX'].notnull()])\n",
    "    print(f\"Global RMSE pour {attraction_name} le {date_example} : {global_rmse:.2f}\")\n",
    "    print(f\"Global MAE pour {attraction_name} le {date_example} : {global_mae:.2f}\")\n",
    "else:\n",
    "    print(\"Aucune donnée réelle disponible pour cette date.\")\n",
    "\n",
    "# Tracer le graphique comparant les prédictions et les valeurs réelles\n",
    "plt.figure(figsize=(12,6))\n",
    "plt.plot(merged_df['datetime'], merged_df['predicted_WAIT_TIME_MAX'], marker='o', label=\"Prédiction\")\n",
    "plt.plot(merged_df['datetime'], merged_df['WAIT_TIME_MAX'], marker='x', linestyle='--', label=\"Réalité\")\n",
    "plt.xlabel(\"Heure\")\n",
    "plt.ylabel(\"WAIT_TIME_MAX\")\n",
    "plt.title(f\"Évolution de WAIT_TIME_MAX pour {attraction_name} le {date_example}\")\n",
    "plt.xticks(rotation=45)\n",
    "plt.legend()\n",
    "plt.grid(True)\n",
    "plt.show()\n"
   ]
  },
  {
   "cell_type": "code",
   "execution_count": 14,
   "metadata": {},
   "outputs": [
    {
     "name": "stdout",
     "output_type": "stream",
     "text": [
      "Saved model for Bumper Cars at: models\\model_Bumper_Cars\n",
      "Saved model for Bungee Jump at: models\\model_Bungee_Jump\n",
      "Saved model for Circus Train at: models\\model_Circus_Train\n",
      "Saved model for Crazy Dance at: models\\model_Crazy_Dance\n",
      "Saved model for Dizzy Dropper at: models\\model_Dizzy_Dropper\n",
      "Saved model for Drop Tower at: models\\model_Drop_Tower\n",
      "Saved model for Flying Coaster at: models\\model_Flying_Coaster\n",
      "Saved model for Free Fall at: models\\model_Free_Fall\n",
      "Saved model for Giant Wheel at: models\\model_Giant_Wheel\n",
      "Saved model for Giga Coaster at: models\\model_Giga_Coaster\n",
      "Saved model for Go-Karts at: models\\model_Go-Karts\n",
      "Saved model for Haunted House at: models\\model_Haunted_House\n",
      "Saved model for Himalaya Ride at: models\\model_Himalaya_Ride\n",
      "Saved model for Inverted Coaster at: models\\model_Inverted_Coaster\n",
      "Saved model for Kiddie Coaster at: models\\model_Kiddie_Coaster\n",
      "Saved model for Merry Go Round at: models\\model_Merry_Go_Round\n",
      "Saved model for Oz Theatre at: models\\model_Oz_Theatre\n",
      "Saved model for Rapids Ride at: models\\model_Rapids_Ride\n",
      "Saved model for Roller Coaster at: models\\model_Roller_Coaster\n",
      "Saved model for Spinning Coaster at: models\\model_Spinning_Coaster\n",
      "Saved model for Spiral Slide at: models\\model_Spiral_Slide\n",
      "Saved model for Superman Ride at: models\\model_Superman_Ride\n",
      "Saved model for Swing Ride at: models\\model_Swing_Ride\n",
      "Saved model for Vertical Drop at: models\\model_Vertical_Drop\n",
      "Saved model for Water Ride at: models\\model_Water_Ride\n",
      "Saved model for Zipline at: models\\model_Zipline\n"
     ]
    }
   ],
   "source": [
    "  # Save each model to a dedicated folder (e.g., \"models/\")\n",
    "import os\n",
    "\n",
    "models_dir = \"models\"\n",
    "os.makedirs(models_dir, exist_ok=True)\n",
    "\n",
    "for attraction, model in models_per_attraction.items():\n",
    "    # Create a safe filename by replacing spaces or forbidden characters\n",
    "    safe_name = attraction.replace(\" \", \"_\")\n",
    "    model_path = h2o.save_model(model=model, path=models_dir, force=True)\n",
    "    # Optionally, rename or move the file to include the attraction name:\n",
    "    new_path = os.path.join(models_dir, f\"model_{safe_name}\")\n",
    "    os.rename(model_path, new_path)\n",
    "    print(f\"Saved model for {attraction} at: {new_path}\")\n"
   ]
  }
 ],
 "metadata": {
  "kernelspec": {
   "display_name": "Python 3",
   "language": "python",
   "name": "python3"
  },
  "language_info": {
   "codemirror_mode": {
    "name": "ipython",
    "version": 3
   },
   "file_extension": ".py",
   "mimetype": "text/x-python",
   "name": "python",
   "nbconvert_exporter": "python",
   "pygments_lexer": "ipython3",
   "version": "3.12.5"
  }
 },
 "nbformat": 4,
 "nbformat_minor": 2
}
